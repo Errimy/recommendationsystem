{
  "cells": [
    {
      "cell_type": "markdown",
      "metadata": {
        "id": "view-in-github",
        "colab_type": "text"
      },
      "source": [
        "<a href=\"https://colab.research.google.com/github/Errimy/recommendationsystem/blob/main/Collaborative_Recommendation_system.ipynb\" target=\"_parent\"><img src=\"https://colab.research.google.com/assets/colab-badge.svg\" alt=\"Open In Colab\"/></a>"
      ]
    },
    {
      "cell_type": "markdown",
      "metadata": {
        "id": "mbmZJG7vsLTc"
      },
      "source": [
        "## Data Cleaning & Pre-processing"
      ]
    },
    {
      "cell_type": "markdown",
      "source": [
        "The first step when making an AI model, is to clean and pre-process the data.\n",
        "To create a collaborative filtering system, we used Python as the programming language and Google Colab as a Jupyter Notebook on the cloud, the first step was the data cleaning & pre-processing, which was contained in four files: **‘events.csv’, ‘category_tree.csv’, ’item_properties_part1.csv’ and item_properties_part2.csv’**.\n"
      ],
      "metadata": {
        "id": "uC25HY1-HExB"
      }
    },
    {
      "cell_type": "markdown",
      "metadata": {
        "id": "5QhvdZllsSHI"
      },
      "source": [
        "### Events.csv"
      ]
    },
    {
      "cell_type": "markdown",
      "source": [
        "The file **‘event.csv’** consists of 5 columns: timestamp, visitorid, event, itemid, transactionid. It represents the data of each event that happened between visitors and items, with the timestamp when the event occurred and the type of the event (*‘view’, ‘addtocart’,’transaction’*), there are **2.7 million** rows in this file.\n",
        "\n",
        "After removing the rows with no value in the events column, and replacing the NaN values with 0 in the transactionid column, we changed the format of the timestamp into a more readable and easier to analyse format."
      ],
      "metadata": {
        "id": "eM3BL21Cwuhu"
      }
    },
    {
      "cell_type": "markdown",
      "source": [
        "We start by importing the libraries and loading the file."
      ],
      "metadata": {
        "id": "zlmAIuTGHf0o"
      }
    },
    {
      "cell_type": "code",
      "execution_count": null,
      "metadata": {
        "id": "8a2Ais8f4DLO"
      },
      "outputs": [],
      "source": [
        "import pandas as pd\n",
        "import matplotlib as plt\n",
        "import seaborn as sns\n"
      ]
    },
    {
      "cell_type": "code",
      "execution_count": null,
      "metadata": {
        "id": "vMu6Ba4PBZhb"
      },
      "outputs": [],
      "source": [
        "df_event = pd.read_csv('/content/events.csv')"
      ]
    },
    {
      "cell_type": "code",
      "execution_count": null,
      "metadata": {
        "colab": {
          "base_uri": "https://localhost:8080/",
          "height": 423
        },
        "id": "qNTTgeeQBntE",
        "outputId": "445607a3-9d0e-461b-9146-d2c53309d793"
      },
      "outputs": [
        {
          "output_type": "execute_result",
          "data": {
            "text/plain": [
              "             timestamp  visitorid event    itemid  transactionid\n",
              "0        1433221332117     257597  view  355908.0            NaN\n",
              "1        1433224214164     992329  view  248676.0            NaN\n",
              "2        1433221999827     111016  view  318965.0            NaN\n",
              "3        1433221955914     483717  view  253185.0            NaN\n",
              "4        1433221337106     951259  view  367447.0            NaN\n",
              "...                ...        ...   ...       ...            ...\n",
              "1042547  1440528081053     198153  view  100393.0            NaN\n",
              "1042548  1440528226574     100439  view   35221.0            NaN\n",
              "1042549  1440528671248    1299570  view  192491.0            NaN\n",
              "1042550  1440526544633     255855  view  246753.0            NaN\n",
              "1042551  1440527083135       1085   NaN       NaN            NaN\n",
              "\n",
              "[1042552 rows x 5 columns]"
            ],
            "text/html": [
              "\n",
              "  <div id=\"df-87844243-d8fa-4621-b673-328a15314654\" class=\"colab-df-container\">\n",
              "    <div>\n",
              "<style scoped>\n",
              "    .dataframe tbody tr th:only-of-type {\n",
              "        vertical-align: middle;\n",
              "    }\n",
              "\n",
              "    .dataframe tbody tr th {\n",
              "        vertical-align: top;\n",
              "    }\n",
              "\n",
              "    .dataframe thead th {\n",
              "        text-align: right;\n",
              "    }\n",
              "</style>\n",
              "<table border=\"1\" class=\"dataframe\">\n",
              "  <thead>\n",
              "    <tr style=\"text-align: right;\">\n",
              "      <th></th>\n",
              "      <th>timestamp</th>\n",
              "      <th>visitorid</th>\n",
              "      <th>event</th>\n",
              "      <th>itemid</th>\n",
              "      <th>transactionid</th>\n",
              "    </tr>\n",
              "  </thead>\n",
              "  <tbody>\n",
              "    <tr>\n",
              "      <th>0</th>\n",
              "      <td>1433221332117</td>\n",
              "      <td>257597</td>\n",
              "      <td>view</td>\n",
              "      <td>355908.0</td>\n",
              "      <td>NaN</td>\n",
              "    </tr>\n",
              "    <tr>\n",
              "      <th>1</th>\n",
              "      <td>1433224214164</td>\n",
              "      <td>992329</td>\n",
              "      <td>view</td>\n",
              "      <td>248676.0</td>\n",
              "      <td>NaN</td>\n",
              "    </tr>\n",
              "    <tr>\n",
              "      <th>2</th>\n",
              "      <td>1433221999827</td>\n",
              "      <td>111016</td>\n",
              "      <td>view</td>\n",
              "      <td>318965.0</td>\n",
              "      <td>NaN</td>\n",
              "    </tr>\n",
              "    <tr>\n",
              "      <th>3</th>\n",
              "      <td>1433221955914</td>\n",
              "      <td>483717</td>\n",
              "      <td>view</td>\n",
              "      <td>253185.0</td>\n",
              "      <td>NaN</td>\n",
              "    </tr>\n",
              "    <tr>\n",
              "      <th>4</th>\n",
              "      <td>1433221337106</td>\n",
              "      <td>951259</td>\n",
              "      <td>view</td>\n",
              "      <td>367447.0</td>\n",
              "      <td>NaN</td>\n",
              "    </tr>\n",
              "    <tr>\n",
              "      <th>...</th>\n",
              "      <td>...</td>\n",
              "      <td>...</td>\n",
              "      <td>...</td>\n",
              "      <td>...</td>\n",
              "      <td>...</td>\n",
              "    </tr>\n",
              "    <tr>\n",
              "      <th>1042547</th>\n",
              "      <td>1440528081053</td>\n",
              "      <td>198153</td>\n",
              "      <td>view</td>\n",
              "      <td>100393.0</td>\n",
              "      <td>NaN</td>\n",
              "    </tr>\n",
              "    <tr>\n",
              "      <th>1042548</th>\n",
              "      <td>1440528226574</td>\n",
              "      <td>100439</td>\n",
              "      <td>view</td>\n",
              "      <td>35221.0</td>\n",
              "      <td>NaN</td>\n",
              "    </tr>\n",
              "    <tr>\n",
              "      <th>1042549</th>\n",
              "      <td>1440528671248</td>\n",
              "      <td>1299570</td>\n",
              "      <td>view</td>\n",
              "      <td>192491.0</td>\n",
              "      <td>NaN</td>\n",
              "    </tr>\n",
              "    <tr>\n",
              "      <th>1042550</th>\n",
              "      <td>1440526544633</td>\n",
              "      <td>255855</td>\n",
              "      <td>view</td>\n",
              "      <td>246753.0</td>\n",
              "      <td>NaN</td>\n",
              "    </tr>\n",
              "    <tr>\n",
              "      <th>1042551</th>\n",
              "      <td>1440527083135</td>\n",
              "      <td>1085</td>\n",
              "      <td>NaN</td>\n",
              "      <td>NaN</td>\n",
              "      <td>NaN</td>\n",
              "    </tr>\n",
              "  </tbody>\n",
              "</table>\n",
              "<p>1042552 rows × 5 columns</p>\n",
              "</div>\n",
              "    <div class=\"colab-df-buttons\">\n",
              "\n",
              "  <div class=\"colab-df-container\">\n",
              "    <button class=\"colab-df-convert\" onclick=\"convertToInteractive('df-87844243-d8fa-4621-b673-328a15314654')\"\n",
              "            title=\"Convert this dataframe to an interactive table.\"\n",
              "            style=\"display:none;\">\n",
              "\n",
              "  <svg xmlns=\"http://www.w3.org/2000/svg\" height=\"24px\" viewBox=\"0 -960 960 960\">\n",
              "    <path d=\"M120-120v-720h720v720H120Zm60-500h600v-160H180v160Zm220 220h160v-160H400v160Zm0 220h160v-160H400v160ZM180-400h160v-160H180v160Zm440 0h160v-160H620v160ZM180-180h160v-160H180v160Zm440 0h160v-160H620v160Z\"/>\n",
              "  </svg>\n",
              "    </button>\n",
              "\n",
              "  <style>\n",
              "    .colab-df-container {\n",
              "      display:flex;\n",
              "      gap: 12px;\n",
              "    }\n",
              "\n",
              "    .colab-df-convert {\n",
              "      background-color: #E8F0FE;\n",
              "      border: none;\n",
              "      border-radius: 50%;\n",
              "      cursor: pointer;\n",
              "      display: none;\n",
              "      fill: #1967D2;\n",
              "      height: 32px;\n",
              "      padding: 0 0 0 0;\n",
              "      width: 32px;\n",
              "    }\n",
              "\n",
              "    .colab-df-convert:hover {\n",
              "      background-color: #E2EBFA;\n",
              "      box-shadow: 0px 1px 2px rgba(60, 64, 67, 0.3), 0px 1px 3px 1px rgba(60, 64, 67, 0.15);\n",
              "      fill: #174EA6;\n",
              "    }\n",
              "\n",
              "    .colab-df-buttons div {\n",
              "      margin-bottom: 4px;\n",
              "    }\n",
              "\n",
              "    [theme=dark] .colab-df-convert {\n",
              "      background-color: #3B4455;\n",
              "      fill: #D2E3FC;\n",
              "    }\n",
              "\n",
              "    [theme=dark] .colab-df-convert:hover {\n",
              "      background-color: #434B5C;\n",
              "      box-shadow: 0px 1px 3px 1px rgba(0, 0, 0, 0.15);\n",
              "      filter: drop-shadow(0px 1px 2px rgba(0, 0, 0, 0.3));\n",
              "      fill: #FFFFFF;\n",
              "    }\n",
              "  </style>\n",
              "\n",
              "    <script>\n",
              "      const buttonEl =\n",
              "        document.querySelector('#df-87844243-d8fa-4621-b673-328a15314654 button.colab-df-convert');\n",
              "      buttonEl.style.display =\n",
              "        google.colab.kernel.accessAllowed ? 'block' : 'none';\n",
              "\n",
              "      async function convertToInteractive(key) {\n",
              "        const element = document.querySelector('#df-87844243-d8fa-4621-b673-328a15314654');\n",
              "        const dataTable =\n",
              "          await google.colab.kernel.invokeFunction('convertToInteractive',\n",
              "                                                    [key], {});\n",
              "        if (!dataTable) return;\n",
              "\n",
              "        const docLinkHtml = 'Like what you see? Visit the ' +\n",
              "          '<a target=\"_blank\" href=https://colab.research.google.com/notebooks/data_table.ipynb>data table notebook</a>'\n",
              "          + ' to learn more about interactive tables.';\n",
              "        element.innerHTML = '';\n",
              "        dataTable['output_type'] = 'display_data';\n",
              "        await google.colab.output.renderOutput(dataTable, element);\n",
              "        const docLink = document.createElement('div');\n",
              "        docLink.innerHTML = docLinkHtml;\n",
              "        element.appendChild(docLink);\n",
              "      }\n",
              "    </script>\n",
              "  </div>\n",
              "\n",
              "\n",
              "<div id=\"df-2a51d866-bdd5-48c5-ad56-e618a9751d94\">\n",
              "  <button class=\"colab-df-quickchart\" onclick=\"quickchart('df-2a51d866-bdd5-48c5-ad56-e618a9751d94')\"\n",
              "            title=\"Suggest charts.\"\n",
              "            style=\"display:none;\">\n",
              "\n",
              "<svg xmlns=\"http://www.w3.org/2000/svg\" height=\"24px\"viewBox=\"0 0 24 24\"\n",
              "     width=\"24px\">\n",
              "    <g>\n",
              "        <path d=\"M19 3H5c-1.1 0-2 .9-2 2v14c0 1.1.9 2 2 2h14c1.1 0 2-.9 2-2V5c0-1.1-.9-2-2-2zM9 17H7v-7h2v7zm4 0h-2V7h2v10zm4 0h-2v-4h2v4z\"/>\n",
              "    </g>\n",
              "</svg>\n",
              "  </button>\n",
              "\n",
              "<style>\n",
              "  .colab-df-quickchart {\n",
              "      --bg-color: #E8F0FE;\n",
              "      --fill-color: #1967D2;\n",
              "      --hover-bg-color: #E2EBFA;\n",
              "      --hover-fill-color: #174EA6;\n",
              "      --disabled-fill-color: #AAA;\n",
              "      --disabled-bg-color: #DDD;\n",
              "  }\n",
              "\n",
              "  [theme=dark] .colab-df-quickchart {\n",
              "      --bg-color: #3B4455;\n",
              "      --fill-color: #D2E3FC;\n",
              "      --hover-bg-color: #434B5C;\n",
              "      --hover-fill-color: #FFFFFF;\n",
              "      --disabled-bg-color: #3B4455;\n",
              "      --disabled-fill-color: #666;\n",
              "  }\n",
              "\n",
              "  .colab-df-quickchart {\n",
              "    background-color: var(--bg-color);\n",
              "    border: none;\n",
              "    border-radius: 50%;\n",
              "    cursor: pointer;\n",
              "    display: none;\n",
              "    fill: var(--fill-color);\n",
              "    height: 32px;\n",
              "    padding: 0;\n",
              "    width: 32px;\n",
              "  }\n",
              "\n",
              "  .colab-df-quickchart:hover {\n",
              "    background-color: var(--hover-bg-color);\n",
              "    box-shadow: 0 1px 2px rgba(60, 64, 67, 0.3), 0 1px 3px 1px rgba(60, 64, 67, 0.15);\n",
              "    fill: var(--button-hover-fill-color);\n",
              "  }\n",
              "\n",
              "  .colab-df-quickchart-complete:disabled,\n",
              "  .colab-df-quickchart-complete:disabled:hover {\n",
              "    background-color: var(--disabled-bg-color);\n",
              "    fill: var(--disabled-fill-color);\n",
              "    box-shadow: none;\n",
              "  }\n",
              "\n",
              "  .colab-df-spinner {\n",
              "    border: 2px solid var(--fill-color);\n",
              "    border-color: transparent;\n",
              "    border-bottom-color: var(--fill-color);\n",
              "    animation:\n",
              "      spin 1s steps(1) infinite;\n",
              "  }\n",
              "\n",
              "  @keyframes spin {\n",
              "    0% {\n",
              "      border-color: transparent;\n",
              "      border-bottom-color: var(--fill-color);\n",
              "      border-left-color: var(--fill-color);\n",
              "    }\n",
              "    20% {\n",
              "      border-color: transparent;\n",
              "      border-left-color: var(--fill-color);\n",
              "      border-top-color: var(--fill-color);\n",
              "    }\n",
              "    30% {\n",
              "      border-color: transparent;\n",
              "      border-left-color: var(--fill-color);\n",
              "      border-top-color: var(--fill-color);\n",
              "      border-right-color: var(--fill-color);\n",
              "    }\n",
              "    40% {\n",
              "      border-color: transparent;\n",
              "      border-right-color: var(--fill-color);\n",
              "      border-top-color: var(--fill-color);\n",
              "    }\n",
              "    60% {\n",
              "      border-color: transparent;\n",
              "      border-right-color: var(--fill-color);\n",
              "    }\n",
              "    80% {\n",
              "      border-color: transparent;\n",
              "      border-right-color: var(--fill-color);\n",
              "      border-bottom-color: var(--fill-color);\n",
              "    }\n",
              "    90% {\n",
              "      border-color: transparent;\n",
              "      border-bottom-color: var(--fill-color);\n",
              "    }\n",
              "  }\n",
              "</style>\n",
              "\n",
              "  <script>\n",
              "    async function quickchart(key) {\n",
              "      const quickchartButtonEl =\n",
              "        document.querySelector('#' + key + ' button');\n",
              "      quickchartButtonEl.disabled = true;  // To prevent multiple clicks.\n",
              "      quickchartButtonEl.classList.add('colab-df-spinner');\n",
              "      try {\n",
              "        const charts = await google.colab.kernel.invokeFunction(\n",
              "            'suggestCharts', [key], {});\n",
              "      } catch (error) {\n",
              "        console.error('Error during call to suggestCharts:', error);\n",
              "      }\n",
              "      quickchartButtonEl.classList.remove('colab-df-spinner');\n",
              "      quickchartButtonEl.classList.add('colab-df-quickchart-complete');\n",
              "    }\n",
              "    (() => {\n",
              "      let quickchartButtonEl =\n",
              "        document.querySelector('#df-2a51d866-bdd5-48c5-ad56-e618a9751d94 button');\n",
              "      quickchartButtonEl.style.display =\n",
              "        google.colab.kernel.accessAllowed ? 'block' : 'none';\n",
              "    })();\n",
              "  </script>\n",
              "</div>\n",
              "    </div>\n",
              "  </div>\n"
            ]
          },
          "metadata": {},
          "execution_count": 28
        }
      ],
      "source": [
        "df_event"
      ]
    },
    {
      "cell_type": "code",
      "execution_count": null,
      "metadata": {
        "colab": {
          "base_uri": "https://localhost:8080/",
          "height": 300
        },
        "id": "hMaKaBqSLPT0",
        "outputId": "d1ac3b8b-bb03-4008-fb24-a5de448719f5"
      },
      "outputs": [
        {
          "output_type": "execute_result",
          "data": {
            "text/plain": [
              "          timestamp     visitorid        itemid  transactionid\n",
              "count  1.042552e+06  1.042552e+06  1.042551e+06    8604.000000\n",
              "mean   1.436513e+12  7.024984e+05  2.345849e+05    8801.793352\n",
              "std    2.575177e+09  4.051597e+05  1.341712e+05    5111.416000\n",
              "min    1.433138e+12  1.000000e+00  3.000000e+00       0.000000\n",
              "25%    1.434259e+12  3.523330e+05  1.179060e+05    4353.750000\n",
              "50%    1.435346e+12  7.015570e+05  2.355490e+05    8752.500000\n",
              "75%    1.439248e+12  1.056217e+06  3.506290e+05   13245.750000\n",
              "max    1.440569e+12  1.407579e+06  4.668670e+05   17671.000000"
            ],
            "text/html": [
              "\n",
              "  <div id=\"df-c67021e1-1a61-4213-85b2-de2e84dc1895\" class=\"colab-df-container\">\n",
              "    <div>\n",
              "<style scoped>\n",
              "    .dataframe tbody tr th:only-of-type {\n",
              "        vertical-align: middle;\n",
              "    }\n",
              "\n",
              "    .dataframe tbody tr th {\n",
              "        vertical-align: top;\n",
              "    }\n",
              "\n",
              "    .dataframe thead th {\n",
              "        text-align: right;\n",
              "    }\n",
              "</style>\n",
              "<table border=\"1\" class=\"dataframe\">\n",
              "  <thead>\n",
              "    <tr style=\"text-align: right;\">\n",
              "      <th></th>\n",
              "      <th>timestamp</th>\n",
              "      <th>visitorid</th>\n",
              "      <th>itemid</th>\n",
              "      <th>transactionid</th>\n",
              "    </tr>\n",
              "  </thead>\n",
              "  <tbody>\n",
              "    <tr>\n",
              "      <th>count</th>\n",
              "      <td>1.042552e+06</td>\n",
              "      <td>1.042552e+06</td>\n",
              "      <td>1.042551e+06</td>\n",
              "      <td>8604.000000</td>\n",
              "    </tr>\n",
              "    <tr>\n",
              "      <th>mean</th>\n",
              "      <td>1.436513e+12</td>\n",
              "      <td>7.024984e+05</td>\n",
              "      <td>2.345849e+05</td>\n",
              "      <td>8801.793352</td>\n",
              "    </tr>\n",
              "    <tr>\n",
              "      <th>std</th>\n",
              "      <td>2.575177e+09</td>\n",
              "      <td>4.051597e+05</td>\n",
              "      <td>1.341712e+05</td>\n",
              "      <td>5111.416000</td>\n",
              "    </tr>\n",
              "    <tr>\n",
              "      <th>min</th>\n",
              "      <td>1.433138e+12</td>\n",
              "      <td>1.000000e+00</td>\n",
              "      <td>3.000000e+00</td>\n",
              "      <td>0.000000</td>\n",
              "    </tr>\n",
              "    <tr>\n",
              "      <th>25%</th>\n",
              "      <td>1.434259e+12</td>\n",
              "      <td>3.523330e+05</td>\n",
              "      <td>1.179060e+05</td>\n",
              "      <td>4353.750000</td>\n",
              "    </tr>\n",
              "    <tr>\n",
              "      <th>50%</th>\n",
              "      <td>1.435346e+12</td>\n",
              "      <td>7.015570e+05</td>\n",
              "      <td>2.355490e+05</td>\n",
              "      <td>8752.500000</td>\n",
              "    </tr>\n",
              "    <tr>\n",
              "      <th>75%</th>\n",
              "      <td>1.439248e+12</td>\n",
              "      <td>1.056217e+06</td>\n",
              "      <td>3.506290e+05</td>\n",
              "      <td>13245.750000</td>\n",
              "    </tr>\n",
              "    <tr>\n",
              "      <th>max</th>\n",
              "      <td>1.440569e+12</td>\n",
              "      <td>1.407579e+06</td>\n",
              "      <td>4.668670e+05</td>\n",
              "      <td>17671.000000</td>\n",
              "    </tr>\n",
              "  </tbody>\n",
              "</table>\n",
              "</div>\n",
              "    <div class=\"colab-df-buttons\">\n",
              "\n",
              "  <div class=\"colab-df-container\">\n",
              "    <button class=\"colab-df-convert\" onclick=\"convertToInteractive('df-c67021e1-1a61-4213-85b2-de2e84dc1895')\"\n",
              "            title=\"Convert this dataframe to an interactive table.\"\n",
              "            style=\"display:none;\">\n",
              "\n",
              "  <svg xmlns=\"http://www.w3.org/2000/svg\" height=\"24px\" viewBox=\"0 -960 960 960\">\n",
              "    <path d=\"M120-120v-720h720v720H120Zm60-500h600v-160H180v160Zm220 220h160v-160H400v160Zm0 220h160v-160H400v160ZM180-400h160v-160H180v160Zm440 0h160v-160H620v160ZM180-180h160v-160H180v160Zm440 0h160v-160H620v160Z\"/>\n",
              "  </svg>\n",
              "    </button>\n",
              "\n",
              "  <style>\n",
              "    .colab-df-container {\n",
              "      display:flex;\n",
              "      gap: 12px;\n",
              "    }\n",
              "\n",
              "    .colab-df-convert {\n",
              "      background-color: #E8F0FE;\n",
              "      border: none;\n",
              "      border-radius: 50%;\n",
              "      cursor: pointer;\n",
              "      display: none;\n",
              "      fill: #1967D2;\n",
              "      height: 32px;\n",
              "      padding: 0 0 0 0;\n",
              "      width: 32px;\n",
              "    }\n",
              "\n",
              "    .colab-df-convert:hover {\n",
              "      background-color: #E2EBFA;\n",
              "      box-shadow: 0px 1px 2px rgba(60, 64, 67, 0.3), 0px 1px 3px 1px rgba(60, 64, 67, 0.15);\n",
              "      fill: #174EA6;\n",
              "    }\n",
              "\n",
              "    .colab-df-buttons div {\n",
              "      margin-bottom: 4px;\n",
              "    }\n",
              "\n",
              "    [theme=dark] .colab-df-convert {\n",
              "      background-color: #3B4455;\n",
              "      fill: #D2E3FC;\n",
              "    }\n",
              "\n",
              "    [theme=dark] .colab-df-convert:hover {\n",
              "      background-color: #434B5C;\n",
              "      box-shadow: 0px 1px 3px 1px rgba(0, 0, 0, 0.15);\n",
              "      filter: drop-shadow(0px 1px 2px rgba(0, 0, 0, 0.3));\n",
              "      fill: #FFFFFF;\n",
              "    }\n",
              "  </style>\n",
              "\n",
              "    <script>\n",
              "      const buttonEl =\n",
              "        document.querySelector('#df-c67021e1-1a61-4213-85b2-de2e84dc1895 button.colab-df-convert');\n",
              "      buttonEl.style.display =\n",
              "        google.colab.kernel.accessAllowed ? 'block' : 'none';\n",
              "\n",
              "      async function convertToInteractive(key) {\n",
              "        const element = document.querySelector('#df-c67021e1-1a61-4213-85b2-de2e84dc1895');\n",
              "        const dataTable =\n",
              "          await google.colab.kernel.invokeFunction('convertToInteractive',\n",
              "                                                    [key], {});\n",
              "        if (!dataTable) return;\n",
              "\n",
              "        const docLinkHtml = 'Like what you see? Visit the ' +\n",
              "          '<a target=\"_blank\" href=https://colab.research.google.com/notebooks/data_table.ipynb>data table notebook</a>'\n",
              "          + ' to learn more about interactive tables.';\n",
              "        element.innerHTML = '';\n",
              "        dataTable['output_type'] = 'display_data';\n",
              "        await google.colab.output.renderOutput(dataTable, element);\n",
              "        const docLink = document.createElement('div');\n",
              "        docLink.innerHTML = docLinkHtml;\n",
              "        element.appendChild(docLink);\n",
              "      }\n",
              "    </script>\n",
              "  </div>\n",
              "\n",
              "\n",
              "<div id=\"df-e778cb61-25f4-4d18-a3a4-60a086786c29\">\n",
              "  <button class=\"colab-df-quickchart\" onclick=\"quickchart('df-e778cb61-25f4-4d18-a3a4-60a086786c29')\"\n",
              "            title=\"Suggest charts.\"\n",
              "            style=\"display:none;\">\n",
              "\n",
              "<svg xmlns=\"http://www.w3.org/2000/svg\" height=\"24px\"viewBox=\"0 0 24 24\"\n",
              "     width=\"24px\">\n",
              "    <g>\n",
              "        <path d=\"M19 3H5c-1.1 0-2 .9-2 2v14c0 1.1.9 2 2 2h14c1.1 0 2-.9 2-2V5c0-1.1-.9-2-2-2zM9 17H7v-7h2v7zm4 0h-2V7h2v10zm4 0h-2v-4h2v4z\"/>\n",
              "    </g>\n",
              "</svg>\n",
              "  </button>\n",
              "\n",
              "<style>\n",
              "  .colab-df-quickchart {\n",
              "      --bg-color: #E8F0FE;\n",
              "      --fill-color: #1967D2;\n",
              "      --hover-bg-color: #E2EBFA;\n",
              "      --hover-fill-color: #174EA6;\n",
              "      --disabled-fill-color: #AAA;\n",
              "      --disabled-bg-color: #DDD;\n",
              "  }\n",
              "\n",
              "  [theme=dark] .colab-df-quickchart {\n",
              "      --bg-color: #3B4455;\n",
              "      --fill-color: #D2E3FC;\n",
              "      --hover-bg-color: #434B5C;\n",
              "      --hover-fill-color: #FFFFFF;\n",
              "      --disabled-bg-color: #3B4455;\n",
              "      --disabled-fill-color: #666;\n",
              "  }\n",
              "\n",
              "  .colab-df-quickchart {\n",
              "    background-color: var(--bg-color);\n",
              "    border: none;\n",
              "    border-radius: 50%;\n",
              "    cursor: pointer;\n",
              "    display: none;\n",
              "    fill: var(--fill-color);\n",
              "    height: 32px;\n",
              "    padding: 0;\n",
              "    width: 32px;\n",
              "  }\n",
              "\n",
              "  .colab-df-quickchart:hover {\n",
              "    background-color: var(--hover-bg-color);\n",
              "    box-shadow: 0 1px 2px rgba(60, 64, 67, 0.3), 0 1px 3px 1px rgba(60, 64, 67, 0.15);\n",
              "    fill: var(--button-hover-fill-color);\n",
              "  }\n",
              "\n",
              "  .colab-df-quickchart-complete:disabled,\n",
              "  .colab-df-quickchart-complete:disabled:hover {\n",
              "    background-color: var(--disabled-bg-color);\n",
              "    fill: var(--disabled-fill-color);\n",
              "    box-shadow: none;\n",
              "  }\n",
              "\n",
              "  .colab-df-spinner {\n",
              "    border: 2px solid var(--fill-color);\n",
              "    border-color: transparent;\n",
              "    border-bottom-color: var(--fill-color);\n",
              "    animation:\n",
              "      spin 1s steps(1) infinite;\n",
              "  }\n",
              "\n",
              "  @keyframes spin {\n",
              "    0% {\n",
              "      border-color: transparent;\n",
              "      border-bottom-color: var(--fill-color);\n",
              "      border-left-color: var(--fill-color);\n",
              "    }\n",
              "    20% {\n",
              "      border-color: transparent;\n",
              "      border-left-color: var(--fill-color);\n",
              "      border-top-color: var(--fill-color);\n",
              "    }\n",
              "    30% {\n",
              "      border-color: transparent;\n",
              "      border-left-color: var(--fill-color);\n",
              "      border-top-color: var(--fill-color);\n",
              "      border-right-color: var(--fill-color);\n",
              "    }\n",
              "    40% {\n",
              "      border-color: transparent;\n",
              "      border-right-color: var(--fill-color);\n",
              "      border-top-color: var(--fill-color);\n",
              "    }\n",
              "    60% {\n",
              "      border-color: transparent;\n",
              "      border-right-color: var(--fill-color);\n",
              "    }\n",
              "    80% {\n",
              "      border-color: transparent;\n",
              "      border-right-color: var(--fill-color);\n",
              "      border-bottom-color: var(--fill-color);\n",
              "    }\n",
              "    90% {\n",
              "      border-color: transparent;\n",
              "      border-bottom-color: var(--fill-color);\n",
              "    }\n",
              "  }\n",
              "</style>\n",
              "\n",
              "  <script>\n",
              "    async function quickchart(key) {\n",
              "      const quickchartButtonEl =\n",
              "        document.querySelector('#' + key + ' button');\n",
              "      quickchartButtonEl.disabled = true;  // To prevent multiple clicks.\n",
              "      quickchartButtonEl.classList.add('colab-df-spinner');\n",
              "      try {\n",
              "        const charts = await google.colab.kernel.invokeFunction(\n",
              "            'suggestCharts', [key], {});\n",
              "      } catch (error) {\n",
              "        console.error('Error during call to suggestCharts:', error);\n",
              "      }\n",
              "      quickchartButtonEl.classList.remove('colab-df-spinner');\n",
              "      quickchartButtonEl.classList.add('colab-df-quickchart-complete');\n",
              "    }\n",
              "    (() => {\n",
              "      let quickchartButtonEl =\n",
              "        document.querySelector('#df-e778cb61-25f4-4d18-a3a4-60a086786c29 button');\n",
              "      quickchartButtonEl.style.display =\n",
              "        google.colab.kernel.accessAllowed ? 'block' : 'none';\n",
              "    })();\n",
              "  </script>\n",
              "</div>\n",
              "    </div>\n",
              "  </div>\n"
            ]
          },
          "metadata": {},
          "execution_count": 29
        }
      ],
      "source": [
        "df_event.describe()"
      ]
    },
    {
      "cell_type": "code",
      "execution_count": null,
      "metadata": {
        "colab": {
          "base_uri": "https://localhost:8080/"
        },
        "id": "tOjtPggMBr1N",
        "outputId": "e116eb8b-3cd7-4f2f-b5e4-095dfddddab5"
      },
      "outputs": [
        {
          "output_type": "execute_result",
          "data": {
            "text/plain": [
              "pandas.core.series.Series"
            ]
          },
          "metadata": {},
          "execution_count": 30
        }
      ],
      "source": [
        "type(df_event['timestamp'])"
      ]
    },
    {
      "cell_type": "markdown",
      "metadata": {
        "id": "xbGAN5KSDPqP"
      },
      "source": [
        "Missing values"
      ]
    },
    {
      "cell_type": "markdown",
      "source": [
        "checking for null values in each column, and deleting the rows with no events"
      ],
      "metadata": {
        "id": "qDJLxfw-Htyf"
      }
    },
    {
      "cell_type": "code",
      "execution_count": null,
      "metadata": {
        "colab": {
          "base_uri": "https://localhost:8080/"
        },
        "id": "vLP7cooDBvoA",
        "outputId": "f85e904b-ce03-4980-f432-292cbe9c8fd7"
      },
      "outputs": [
        {
          "output_type": "execute_result",
          "data": {
            "text/plain": [
              "timestamp              0\n",
              "visitorid              0\n",
              "event                  1\n",
              "itemid                 1\n",
              "transactionid    1033948\n",
              "dtype: int64"
            ]
          },
          "metadata": {},
          "execution_count": 31
        }
      ],
      "source": [
        "df_event.isnull().sum()"
      ]
    },
    {
      "cell_type": "code",
      "execution_count": null,
      "metadata": {
        "id": "P3ChBU0jFcxl"
      },
      "outputs": [],
      "source": [
        "result = df_event['transactionid'] == 0"
      ]
    },
    {
      "cell_type": "code",
      "execution_count": null,
      "metadata": {
        "id": "LoFmM517H-3A"
      },
      "outputs": [],
      "source": [
        "df_event.drop(df_event[df_event['event'] == 0].index, inplace=True)"
      ]
    },
    {
      "cell_type": "code",
      "execution_count": null,
      "metadata": {
        "colab": {
          "base_uri": "https://localhost:8080/"
        },
        "id": "KZI-gnk0FeaG",
        "outputId": "cf4a5742-d722-4c1b-e7d8-ed48d1b429e5"
      },
      "outputs": [
        {
          "output_type": "execute_result",
          "data": {
            "text/plain": [
              "0          False\n",
              "1          False\n",
              "2          False\n",
              "3          False\n",
              "4          False\n",
              "           ...  \n",
              "1042547    False\n",
              "1042548    False\n",
              "1042549    False\n",
              "1042550    False\n",
              "1042551    False\n",
              "Name: transactionid, Length: 1042552, dtype: bool"
            ]
          },
          "metadata": {},
          "execution_count": 34
        }
      ],
      "source": [
        "result"
      ]
    },
    {
      "cell_type": "markdown",
      "source": [
        "Then filling the null values of the column **[transactionid]** with 0"
      ],
      "metadata": {
        "id": "8ImeQ7ARH0sL"
      }
    },
    {
      "cell_type": "code",
      "execution_count": null,
      "metadata": {
        "id": "xMILbHUgCK4P"
      },
      "outputs": [],
      "source": [
        "df_event['transactionid'].fillna(0, inplace=True)"
      ]
    },
    {
      "cell_type": "code",
      "execution_count": null,
      "metadata": {
        "colab": {
          "base_uri": "https://localhost:8080/",
          "height": 423
        },
        "id": "wg2eZOknCR2U",
        "outputId": "aaad07c4-0da3-4dbb-8603-294bfebf8886"
      },
      "outputs": [
        {
          "output_type": "execute_result",
          "data": {
            "text/plain": [
              "             timestamp  visitorid event    itemid  transactionid\n",
              "0        1433221332117     257597  view  355908.0            0.0\n",
              "1        1433224214164     992329  view  248676.0            0.0\n",
              "2        1433221999827     111016  view  318965.0            0.0\n",
              "3        1433221955914     483717  view  253185.0            0.0\n",
              "4        1433221337106     951259  view  367447.0            0.0\n",
              "...                ...        ...   ...       ...            ...\n",
              "1042547  1440528081053     198153  view  100393.0            0.0\n",
              "1042548  1440528226574     100439  view   35221.0            0.0\n",
              "1042549  1440528671248    1299570  view  192491.0            0.0\n",
              "1042550  1440526544633     255855  view  246753.0            0.0\n",
              "1042551  1440527083135       1085   NaN       NaN            0.0\n",
              "\n",
              "[1042552 rows x 5 columns]"
            ],
            "text/html": [
              "\n",
              "  <div id=\"df-d7b6fbde-d756-4be4-af03-07828500f36f\" class=\"colab-df-container\">\n",
              "    <div>\n",
              "<style scoped>\n",
              "    .dataframe tbody tr th:only-of-type {\n",
              "        vertical-align: middle;\n",
              "    }\n",
              "\n",
              "    .dataframe tbody tr th {\n",
              "        vertical-align: top;\n",
              "    }\n",
              "\n",
              "    .dataframe thead th {\n",
              "        text-align: right;\n",
              "    }\n",
              "</style>\n",
              "<table border=\"1\" class=\"dataframe\">\n",
              "  <thead>\n",
              "    <tr style=\"text-align: right;\">\n",
              "      <th></th>\n",
              "      <th>timestamp</th>\n",
              "      <th>visitorid</th>\n",
              "      <th>event</th>\n",
              "      <th>itemid</th>\n",
              "      <th>transactionid</th>\n",
              "    </tr>\n",
              "  </thead>\n",
              "  <tbody>\n",
              "    <tr>\n",
              "      <th>0</th>\n",
              "      <td>1433221332117</td>\n",
              "      <td>257597</td>\n",
              "      <td>view</td>\n",
              "      <td>355908.0</td>\n",
              "      <td>0.0</td>\n",
              "    </tr>\n",
              "    <tr>\n",
              "      <th>1</th>\n",
              "      <td>1433224214164</td>\n",
              "      <td>992329</td>\n",
              "      <td>view</td>\n",
              "      <td>248676.0</td>\n",
              "      <td>0.0</td>\n",
              "    </tr>\n",
              "    <tr>\n",
              "      <th>2</th>\n",
              "      <td>1433221999827</td>\n",
              "      <td>111016</td>\n",
              "      <td>view</td>\n",
              "      <td>318965.0</td>\n",
              "      <td>0.0</td>\n",
              "    </tr>\n",
              "    <tr>\n",
              "      <th>3</th>\n",
              "      <td>1433221955914</td>\n",
              "      <td>483717</td>\n",
              "      <td>view</td>\n",
              "      <td>253185.0</td>\n",
              "      <td>0.0</td>\n",
              "    </tr>\n",
              "    <tr>\n",
              "      <th>4</th>\n",
              "      <td>1433221337106</td>\n",
              "      <td>951259</td>\n",
              "      <td>view</td>\n",
              "      <td>367447.0</td>\n",
              "      <td>0.0</td>\n",
              "    </tr>\n",
              "    <tr>\n",
              "      <th>...</th>\n",
              "      <td>...</td>\n",
              "      <td>...</td>\n",
              "      <td>...</td>\n",
              "      <td>...</td>\n",
              "      <td>...</td>\n",
              "    </tr>\n",
              "    <tr>\n",
              "      <th>1042547</th>\n",
              "      <td>1440528081053</td>\n",
              "      <td>198153</td>\n",
              "      <td>view</td>\n",
              "      <td>100393.0</td>\n",
              "      <td>0.0</td>\n",
              "    </tr>\n",
              "    <tr>\n",
              "      <th>1042548</th>\n",
              "      <td>1440528226574</td>\n",
              "      <td>100439</td>\n",
              "      <td>view</td>\n",
              "      <td>35221.0</td>\n",
              "      <td>0.0</td>\n",
              "    </tr>\n",
              "    <tr>\n",
              "      <th>1042549</th>\n",
              "      <td>1440528671248</td>\n",
              "      <td>1299570</td>\n",
              "      <td>view</td>\n",
              "      <td>192491.0</td>\n",
              "      <td>0.0</td>\n",
              "    </tr>\n",
              "    <tr>\n",
              "      <th>1042550</th>\n",
              "      <td>1440526544633</td>\n",
              "      <td>255855</td>\n",
              "      <td>view</td>\n",
              "      <td>246753.0</td>\n",
              "      <td>0.0</td>\n",
              "    </tr>\n",
              "    <tr>\n",
              "      <th>1042551</th>\n",
              "      <td>1440527083135</td>\n",
              "      <td>1085</td>\n",
              "      <td>NaN</td>\n",
              "      <td>NaN</td>\n",
              "      <td>0.0</td>\n",
              "    </tr>\n",
              "  </tbody>\n",
              "</table>\n",
              "<p>1042552 rows × 5 columns</p>\n",
              "</div>\n",
              "    <div class=\"colab-df-buttons\">\n",
              "\n",
              "  <div class=\"colab-df-container\">\n",
              "    <button class=\"colab-df-convert\" onclick=\"convertToInteractive('df-d7b6fbde-d756-4be4-af03-07828500f36f')\"\n",
              "            title=\"Convert this dataframe to an interactive table.\"\n",
              "            style=\"display:none;\">\n",
              "\n",
              "  <svg xmlns=\"http://www.w3.org/2000/svg\" height=\"24px\" viewBox=\"0 -960 960 960\">\n",
              "    <path d=\"M120-120v-720h720v720H120Zm60-500h600v-160H180v160Zm220 220h160v-160H400v160Zm0 220h160v-160H400v160ZM180-400h160v-160H180v160Zm440 0h160v-160H620v160ZM180-180h160v-160H180v160Zm440 0h160v-160H620v160Z\"/>\n",
              "  </svg>\n",
              "    </button>\n",
              "\n",
              "  <style>\n",
              "    .colab-df-container {\n",
              "      display:flex;\n",
              "      gap: 12px;\n",
              "    }\n",
              "\n",
              "    .colab-df-convert {\n",
              "      background-color: #E8F0FE;\n",
              "      border: none;\n",
              "      border-radius: 50%;\n",
              "      cursor: pointer;\n",
              "      display: none;\n",
              "      fill: #1967D2;\n",
              "      height: 32px;\n",
              "      padding: 0 0 0 0;\n",
              "      width: 32px;\n",
              "    }\n",
              "\n",
              "    .colab-df-convert:hover {\n",
              "      background-color: #E2EBFA;\n",
              "      box-shadow: 0px 1px 2px rgba(60, 64, 67, 0.3), 0px 1px 3px 1px rgba(60, 64, 67, 0.15);\n",
              "      fill: #174EA6;\n",
              "    }\n",
              "\n",
              "    .colab-df-buttons div {\n",
              "      margin-bottom: 4px;\n",
              "    }\n",
              "\n",
              "    [theme=dark] .colab-df-convert {\n",
              "      background-color: #3B4455;\n",
              "      fill: #D2E3FC;\n",
              "    }\n",
              "\n",
              "    [theme=dark] .colab-df-convert:hover {\n",
              "      background-color: #434B5C;\n",
              "      box-shadow: 0px 1px 3px 1px rgba(0, 0, 0, 0.15);\n",
              "      filter: drop-shadow(0px 1px 2px rgba(0, 0, 0, 0.3));\n",
              "      fill: #FFFFFF;\n",
              "    }\n",
              "  </style>\n",
              "\n",
              "    <script>\n",
              "      const buttonEl =\n",
              "        document.querySelector('#df-d7b6fbde-d756-4be4-af03-07828500f36f button.colab-df-convert');\n",
              "      buttonEl.style.display =\n",
              "        google.colab.kernel.accessAllowed ? 'block' : 'none';\n",
              "\n",
              "      async function convertToInteractive(key) {\n",
              "        const element = document.querySelector('#df-d7b6fbde-d756-4be4-af03-07828500f36f');\n",
              "        const dataTable =\n",
              "          await google.colab.kernel.invokeFunction('convertToInteractive',\n",
              "                                                    [key], {});\n",
              "        if (!dataTable) return;\n",
              "\n",
              "        const docLinkHtml = 'Like what you see? Visit the ' +\n",
              "          '<a target=\"_blank\" href=https://colab.research.google.com/notebooks/data_table.ipynb>data table notebook</a>'\n",
              "          + ' to learn more about interactive tables.';\n",
              "        element.innerHTML = '';\n",
              "        dataTable['output_type'] = 'display_data';\n",
              "        await google.colab.output.renderOutput(dataTable, element);\n",
              "        const docLink = document.createElement('div');\n",
              "        docLink.innerHTML = docLinkHtml;\n",
              "        element.appendChild(docLink);\n",
              "      }\n",
              "    </script>\n",
              "  </div>\n",
              "\n",
              "\n",
              "<div id=\"df-0e96bc73-5ce1-4cbb-a901-b7d0d0bf2dd7\">\n",
              "  <button class=\"colab-df-quickchart\" onclick=\"quickchart('df-0e96bc73-5ce1-4cbb-a901-b7d0d0bf2dd7')\"\n",
              "            title=\"Suggest charts.\"\n",
              "            style=\"display:none;\">\n",
              "\n",
              "<svg xmlns=\"http://www.w3.org/2000/svg\" height=\"24px\"viewBox=\"0 0 24 24\"\n",
              "     width=\"24px\">\n",
              "    <g>\n",
              "        <path d=\"M19 3H5c-1.1 0-2 .9-2 2v14c0 1.1.9 2 2 2h14c1.1 0 2-.9 2-2V5c0-1.1-.9-2-2-2zM9 17H7v-7h2v7zm4 0h-2V7h2v10zm4 0h-2v-4h2v4z\"/>\n",
              "    </g>\n",
              "</svg>\n",
              "  </button>\n",
              "\n",
              "<style>\n",
              "  .colab-df-quickchart {\n",
              "      --bg-color: #E8F0FE;\n",
              "      --fill-color: #1967D2;\n",
              "      --hover-bg-color: #E2EBFA;\n",
              "      --hover-fill-color: #174EA6;\n",
              "      --disabled-fill-color: #AAA;\n",
              "      --disabled-bg-color: #DDD;\n",
              "  }\n",
              "\n",
              "  [theme=dark] .colab-df-quickchart {\n",
              "      --bg-color: #3B4455;\n",
              "      --fill-color: #D2E3FC;\n",
              "      --hover-bg-color: #434B5C;\n",
              "      --hover-fill-color: #FFFFFF;\n",
              "      --disabled-bg-color: #3B4455;\n",
              "      --disabled-fill-color: #666;\n",
              "  }\n",
              "\n",
              "  .colab-df-quickchart {\n",
              "    background-color: var(--bg-color);\n",
              "    border: none;\n",
              "    border-radius: 50%;\n",
              "    cursor: pointer;\n",
              "    display: none;\n",
              "    fill: var(--fill-color);\n",
              "    height: 32px;\n",
              "    padding: 0;\n",
              "    width: 32px;\n",
              "  }\n",
              "\n",
              "  .colab-df-quickchart:hover {\n",
              "    background-color: var(--hover-bg-color);\n",
              "    box-shadow: 0 1px 2px rgba(60, 64, 67, 0.3), 0 1px 3px 1px rgba(60, 64, 67, 0.15);\n",
              "    fill: var(--button-hover-fill-color);\n",
              "  }\n",
              "\n",
              "  .colab-df-quickchart-complete:disabled,\n",
              "  .colab-df-quickchart-complete:disabled:hover {\n",
              "    background-color: var(--disabled-bg-color);\n",
              "    fill: var(--disabled-fill-color);\n",
              "    box-shadow: none;\n",
              "  }\n",
              "\n",
              "  .colab-df-spinner {\n",
              "    border: 2px solid var(--fill-color);\n",
              "    border-color: transparent;\n",
              "    border-bottom-color: var(--fill-color);\n",
              "    animation:\n",
              "      spin 1s steps(1) infinite;\n",
              "  }\n",
              "\n",
              "  @keyframes spin {\n",
              "    0% {\n",
              "      border-color: transparent;\n",
              "      border-bottom-color: var(--fill-color);\n",
              "      border-left-color: var(--fill-color);\n",
              "    }\n",
              "    20% {\n",
              "      border-color: transparent;\n",
              "      border-left-color: var(--fill-color);\n",
              "      border-top-color: var(--fill-color);\n",
              "    }\n",
              "    30% {\n",
              "      border-color: transparent;\n",
              "      border-left-color: var(--fill-color);\n",
              "      border-top-color: var(--fill-color);\n",
              "      border-right-color: var(--fill-color);\n",
              "    }\n",
              "    40% {\n",
              "      border-color: transparent;\n",
              "      border-right-color: var(--fill-color);\n",
              "      border-top-color: var(--fill-color);\n",
              "    }\n",
              "    60% {\n",
              "      border-color: transparent;\n",
              "      border-right-color: var(--fill-color);\n",
              "    }\n",
              "    80% {\n",
              "      border-color: transparent;\n",
              "      border-right-color: var(--fill-color);\n",
              "      border-bottom-color: var(--fill-color);\n",
              "    }\n",
              "    90% {\n",
              "      border-color: transparent;\n",
              "      border-bottom-color: var(--fill-color);\n",
              "    }\n",
              "  }\n",
              "</style>\n",
              "\n",
              "  <script>\n",
              "    async function quickchart(key) {\n",
              "      const quickchartButtonEl =\n",
              "        document.querySelector('#' + key + ' button');\n",
              "      quickchartButtonEl.disabled = true;  // To prevent multiple clicks.\n",
              "      quickchartButtonEl.classList.add('colab-df-spinner');\n",
              "      try {\n",
              "        const charts = await google.colab.kernel.invokeFunction(\n",
              "            'suggestCharts', [key], {});\n",
              "      } catch (error) {\n",
              "        console.error('Error during call to suggestCharts:', error);\n",
              "      }\n",
              "      quickchartButtonEl.classList.remove('colab-df-spinner');\n",
              "      quickchartButtonEl.classList.add('colab-df-quickchart-complete');\n",
              "    }\n",
              "    (() => {\n",
              "      let quickchartButtonEl =\n",
              "        document.querySelector('#df-0e96bc73-5ce1-4cbb-a901-b7d0d0bf2dd7 button');\n",
              "      quickchartButtonEl.style.display =\n",
              "        google.colab.kernel.accessAllowed ? 'block' : 'none';\n",
              "    })();\n",
              "  </script>\n",
              "</div>\n",
              "    </div>\n",
              "  </div>\n"
            ]
          },
          "metadata": {},
          "execution_count": 36
        }
      ],
      "source": [
        "df_event"
      ]
    },
    {
      "cell_type": "markdown",
      "source": [
        " Changing the timestamp format into a more readable format"
      ],
      "metadata": {
        "id": "WG6BM2-2H-sB"
      }
    },
    {
      "cell_type": "code",
      "execution_count": null,
      "metadata": {
        "id": "OsUagKpoCT9s"
      },
      "outputs": [],
      "source": [
        "df_event['timestamp'] = pd.to_datetime(df_event['timestamp'], unit='ms')"
      ]
    },
    {
      "cell_type": "code",
      "execution_count": null,
      "metadata": {
        "colab": {
          "base_uri": "https://localhost:8080/",
          "height": 423
        },
        "id": "hgmOfu72CXLq",
        "outputId": "f1ed758c-152a-426e-959f-7a53c335d15f"
      },
      "outputs": [
        {
          "output_type": "execute_result",
          "data": {
            "text/plain": [
              "                      timestamp  visitorid event    itemid  transactionid\n",
              "0       2015-06-02 05:02:12.117     257597  view  355908.0            0.0\n",
              "1       2015-06-02 05:50:14.164     992329  view  248676.0            0.0\n",
              "2       2015-06-02 05:13:19.827     111016  view  318965.0            0.0\n",
              "3       2015-06-02 05:12:35.914     483717  view  253185.0            0.0\n",
              "4       2015-06-02 05:02:17.106     951259  view  367447.0            0.0\n",
              "...                         ...        ...   ...       ...            ...\n",
              "1042547 2015-08-25 18:41:21.053     198153  view  100393.0            0.0\n",
              "1042548 2015-08-25 18:43:46.574     100439  view   35221.0            0.0\n",
              "1042549 2015-08-25 18:51:11.248    1299570  view  192491.0            0.0\n",
              "1042550 2015-08-25 18:15:44.633     255855  view  246753.0            0.0\n",
              "1042551 2015-08-25 18:24:43.135       1085   NaN       NaN            0.0\n",
              "\n",
              "[1042552 rows x 5 columns]"
            ],
            "text/html": [
              "\n",
              "  <div id=\"df-25c176b5-47d1-4863-b43a-71e22b47f6da\" class=\"colab-df-container\">\n",
              "    <div>\n",
              "<style scoped>\n",
              "    .dataframe tbody tr th:only-of-type {\n",
              "        vertical-align: middle;\n",
              "    }\n",
              "\n",
              "    .dataframe tbody tr th {\n",
              "        vertical-align: top;\n",
              "    }\n",
              "\n",
              "    .dataframe thead th {\n",
              "        text-align: right;\n",
              "    }\n",
              "</style>\n",
              "<table border=\"1\" class=\"dataframe\">\n",
              "  <thead>\n",
              "    <tr style=\"text-align: right;\">\n",
              "      <th></th>\n",
              "      <th>timestamp</th>\n",
              "      <th>visitorid</th>\n",
              "      <th>event</th>\n",
              "      <th>itemid</th>\n",
              "      <th>transactionid</th>\n",
              "    </tr>\n",
              "  </thead>\n",
              "  <tbody>\n",
              "    <tr>\n",
              "      <th>0</th>\n",
              "      <td>2015-06-02 05:02:12.117</td>\n",
              "      <td>257597</td>\n",
              "      <td>view</td>\n",
              "      <td>355908.0</td>\n",
              "      <td>0.0</td>\n",
              "    </tr>\n",
              "    <tr>\n",
              "      <th>1</th>\n",
              "      <td>2015-06-02 05:50:14.164</td>\n",
              "      <td>992329</td>\n",
              "      <td>view</td>\n",
              "      <td>248676.0</td>\n",
              "      <td>0.0</td>\n",
              "    </tr>\n",
              "    <tr>\n",
              "      <th>2</th>\n",
              "      <td>2015-06-02 05:13:19.827</td>\n",
              "      <td>111016</td>\n",
              "      <td>view</td>\n",
              "      <td>318965.0</td>\n",
              "      <td>0.0</td>\n",
              "    </tr>\n",
              "    <tr>\n",
              "      <th>3</th>\n",
              "      <td>2015-06-02 05:12:35.914</td>\n",
              "      <td>483717</td>\n",
              "      <td>view</td>\n",
              "      <td>253185.0</td>\n",
              "      <td>0.0</td>\n",
              "    </tr>\n",
              "    <tr>\n",
              "      <th>4</th>\n",
              "      <td>2015-06-02 05:02:17.106</td>\n",
              "      <td>951259</td>\n",
              "      <td>view</td>\n",
              "      <td>367447.0</td>\n",
              "      <td>0.0</td>\n",
              "    </tr>\n",
              "    <tr>\n",
              "      <th>...</th>\n",
              "      <td>...</td>\n",
              "      <td>...</td>\n",
              "      <td>...</td>\n",
              "      <td>...</td>\n",
              "      <td>...</td>\n",
              "    </tr>\n",
              "    <tr>\n",
              "      <th>1042547</th>\n",
              "      <td>2015-08-25 18:41:21.053</td>\n",
              "      <td>198153</td>\n",
              "      <td>view</td>\n",
              "      <td>100393.0</td>\n",
              "      <td>0.0</td>\n",
              "    </tr>\n",
              "    <tr>\n",
              "      <th>1042548</th>\n",
              "      <td>2015-08-25 18:43:46.574</td>\n",
              "      <td>100439</td>\n",
              "      <td>view</td>\n",
              "      <td>35221.0</td>\n",
              "      <td>0.0</td>\n",
              "    </tr>\n",
              "    <tr>\n",
              "      <th>1042549</th>\n",
              "      <td>2015-08-25 18:51:11.248</td>\n",
              "      <td>1299570</td>\n",
              "      <td>view</td>\n",
              "      <td>192491.0</td>\n",
              "      <td>0.0</td>\n",
              "    </tr>\n",
              "    <tr>\n",
              "      <th>1042550</th>\n",
              "      <td>2015-08-25 18:15:44.633</td>\n",
              "      <td>255855</td>\n",
              "      <td>view</td>\n",
              "      <td>246753.0</td>\n",
              "      <td>0.0</td>\n",
              "    </tr>\n",
              "    <tr>\n",
              "      <th>1042551</th>\n",
              "      <td>2015-08-25 18:24:43.135</td>\n",
              "      <td>1085</td>\n",
              "      <td>NaN</td>\n",
              "      <td>NaN</td>\n",
              "      <td>0.0</td>\n",
              "    </tr>\n",
              "  </tbody>\n",
              "</table>\n",
              "<p>1042552 rows × 5 columns</p>\n",
              "</div>\n",
              "    <div class=\"colab-df-buttons\">\n",
              "\n",
              "  <div class=\"colab-df-container\">\n",
              "    <button class=\"colab-df-convert\" onclick=\"convertToInteractive('df-25c176b5-47d1-4863-b43a-71e22b47f6da')\"\n",
              "            title=\"Convert this dataframe to an interactive table.\"\n",
              "            style=\"display:none;\">\n",
              "\n",
              "  <svg xmlns=\"http://www.w3.org/2000/svg\" height=\"24px\" viewBox=\"0 -960 960 960\">\n",
              "    <path d=\"M120-120v-720h720v720H120Zm60-500h600v-160H180v160Zm220 220h160v-160H400v160Zm0 220h160v-160H400v160ZM180-400h160v-160H180v160Zm440 0h160v-160H620v160ZM180-180h160v-160H180v160Zm440 0h160v-160H620v160Z\"/>\n",
              "  </svg>\n",
              "    </button>\n",
              "\n",
              "  <style>\n",
              "    .colab-df-container {\n",
              "      display:flex;\n",
              "      gap: 12px;\n",
              "    }\n",
              "\n",
              "    .colab-df-convert {\n",
              "      background-color: #E8F0FE;\n",
              "      border: none;\n",
              "      border-radius: 50%;\n",
              "      cursor: pointer;\n",
              "      display: none;\n",
              "      fill: #1967D2;\n",
              "      height: 32px;\n",
              "      padding: 0 0 0 0;\n",
              "      width: 32px;\n",
              "    }\n",
              "\n",
              "    .colab-df-convert:hover {\n",
              "      background-color: #E2EBFA;\n",
              "      box-shadow: 0px 1px 2px rgba(60, 64, 67, 0.3), 0px 1px 3px 1px rgba(60, 64, 67, 0.15);\n",
              "      fill: #174EA6;\n",
              "    }\n",
              "\n",
              "    .colab-df-buttons div {\n",
              "      margin-bottom: 4px;\n",
              "    }\n",
              "\n",
              "    [theme=dark] .colab-df-convert {\n",
              "      background-color: #3B4455;\n",
              "      fill: #D2E3FC;\n",
              "    }\n",
              "\n",
              "    [theme=dark] .colab-df-convert:hover {\n",
              "      background-color: #434B5C;\n",
              "      box-shadow: 0px 1px 3px 1px rgba(0, 0, 0, 0.15);\n",
              "      filter: drop-shadow(0px 1px 2px rgba(0, 0, 0, 0.3));\n",
              "      fill: #FFFFFF;\n",
              "    }\n",
              "  </style>\n",
              "\n",
              "    <script>\n",
              "      const buttonEl =\n",
              "        document.querySelector('#df-25c176b5-47d1-4863-b43a-71e22b47f6da button.colab-df-convert');\n",
              "      buttonEl.style.display =\n",
              "        google.colab.kernel.accessAllowed ? 'block' : 'none';\n",
              "\n",
              "      async function convertToInteractive(key) {\n",
              "        const element = document.querySelector('#df-25c176b5-47d1-4863-b43a-71e22b47f6da');\n",
              "        const dataTable =\n",
              "          await google.colab.kernel.invokeFunction('convertToInteractive',\n",
              "                                                    [key], {});\n",
              "        if (!dataTable) return;\n",
              "\n",
              "        const docLinkHtml = 'Like what you see? Visit the ' +\n",
              "          '<a target=\"_blank\" href=https://colab.research.google.com/notebooks/data_table.ipynb>data table notebook</a>'\n",
              "          + ' to learn more about interactive tables.';\n",
              "        element.innerHTML = '';\n",
              "        dataTable['output_type'] = 'display_data';\n",
              "        await google.colab.output.renderOutput(dataTable, element);\n",
              "        const docLink = document.createElement('div');\n",
              "        docLink.innerHTML = docLinkHtml;\n",
              "        element.appendChild(docLink);\n",
              "      }\n",
              "    </script>\n",
              "  </div>\n",
              "\n",
              "\n",
              "<div id=\"df-f11231b6-1c60-465d-adac-69d803960e9c\">\n",
              "  <button class=\"colab-df-quickchart\" onclick=\"quickchart('df-f11231b6-1c60-465d-adac-69d803960e9c')\"\n",
              "            title=\"Suggest charts.\"\n",
              "            style=\"display:none;\">\n",
              "\n",
              "<svg xmlns=\"http://www.w3.org/2000/svg\" height=\"24px\"viewBox=\"0 0 24 24\"\n",
              "     width=\"24px\">\n",
              "    <g>\n",
              "        <path d=\"M19 3H5c-1.1 0-2 .9-2 2v14c0 1.1.9 2 2 2h14c1.1 0 2-.9 2-2V5c0-1.1-.9-2-2-2zM9 17H7v-7h2v7zm4 0h-2V7h2v10zm4 0h-2v-4h2v4z\"/>\n",
              "    </g>\n",
              "</svg>\n",
              "  </button>\n",
              "\n",
              "<style>\n",
              "  .colab-df-quickchart {\n",
              "      --bg-color: #E8F0FE;\n",
              "      --fill-color: #1967D2;\n",
              "      --hover-bg-color: #E2EBFA;\n",
              "      --hover-fill-color: #174EA6;\n",
              "      --disabled-fill-color: #AAA;\n",
              "      --disabled-bg-color: #DDD;\n",
              "  }\n",
              "\n",
              "  [theme=dark] .colab-df-quickchart {\n",
              "      --bg-color: #3B4455;\n",
              "      --fill-color: #D2E3FC;\n",
              "      --hover-bg-color: #434B5C;\n",
              "      --hover-fill-color: #FFFFFF;\n",
              "      --disabled-bg-color: #3B4455;\n",
              "      --disabled-fill-color: #666;\n",
              "  }\n",
              "\n",
              "  .colab-df-quickchart {\n",
              "    background-color: var(--bg-color);\n",
              "    border: none;\n",
              "    border-radius: 50%;\n",
              "    cursor: pointer;\n",
              "    display: none;\n",
              "    fill: var(--fill-color);\n",
              "    height: 32px;\n",
              "    padding: 0;\n",
              "    width: 32px;\n",
              "  }\n",
              "\n",
              "  .colab-df-quickchart:hover {\n",
              "    background-color: var(--hover-bg-color);\n",
              "    box-shadow: 0 1px 2px rgba(60, 64, 67, 0.3), 0 1px 3px 1px rgba(60, 64, 67, 0.15);\n",
              "    fill: var(--button-hover-fill-color);\n",
              "  }\n",
              "\n",
              "  .colab-df-quickchart-complete:disabled,\n",
              "  .colab-df-quickchart-complete:disabled:hover {\n",
              "    background-color: var(--disabled-bg-color);\n",
              "    fill: var(--disabled-fill-color);\n",
              "    box-shadow: none;\n",
              "  }\n",
              "\n",
              "  .colab-df-spinner {\n",
              "    border: 2px solid var(--fill-color);\n",
              "    border-color: transparent;\n",
              "    border-bottom-color: var(--fill-color);\n",
              "    animation:\n",
              "      spin 1s steps(1) infinite;\n",
              "  }\n",
              "\n",
              "  @keyframes spin {\n",
              "    0% {\n",
              "      border-color: transparent;\n",
              "      border-bottom-color: var(--fill-color);\n",
              "      border-left-color: var(--fill-color);\n",
              "    }\n",
              "    20% {\n",
              "      border-color: transparent;\n",
              "      border-left-color: var(--fill-color);\n",
              "      border-top-color: var(--fill-color);\n",
              "    }\n",
              "    30% {\n",
              "      border-color: transparent;\n",
              "      border-left-color: var(--fill-color);\n",
              "      border-top-color: var(--fill-color);\n",
              "      border-right-color: var(--fill-color);\n",
              "    }\n",
              "    40% {\n",
              "      border-color: transparent;\n",
              "      border-right-color: var(--fill-color);\n",
              "      border-top-color: var(--fill-color);\n",
              "    }\n",
              "    60% {\n",
              "      border-color: transparent;\n",
              "      border-right-color: var(--fill-color);\n",
              "    }\n",
              "    80% {\n",
              "      border-color: transparent;\n",
              "      border-right-color: var(--fill-color);\n",
              "      border-bottom-color: var(--fill-color);\n",
              "    }\n",
              "    90% {\n",
              "      border-color: transparent;\n",
              "      border-bottom-color: var(--fill-color);\n",
              "    }\n",
              "  }\n",
              "</style>\n",
              "\n",
              "  <script>\n",
              "    async function quickchart(key) {\n",
              "      const quickchartButtonEl =\n",
              "        document.querySelector('#' + key + ' button');\n",
              "      quickchartButtonEl.disabled = true;  // To prevent multiple clicks.\n",
              "      quickchartButtonEl.classList.add('colab-df-spinner');\n",
              "      try {\n",
              "        const charts = await google.colab.kernel.invokeFunction(\n",
              "            'suggestCharts', [key], {});\n",
              "      } catch (error) {\n",
              "        console.error('Error during call to suggestCharts:', error);\n",
              "      }\n",
              "      quickchartButtonEl.classList.remove('colab-df-spinner');\n",
              "      quickchartButtonEl.classList.add('colab-df-quickchart-complete');\n",
              "    }\n",
              "    (() => {\n",
              "      let quickchartButtonEl =\n",
              "        document.querySelector('#df-f11231b6-1c60-465d-adac-69d803960e9c button');\n",
              "      quickchartButtonEl.style.display =\n",
              "        google.colab.kernel.accessAllowed ? 'block' : 'none';\n",
              "    })();\n",
              "  </script>\n",
              "</div>\n",
              "    </div>\n",
              "  </div>\n"
            ]
          },
          "metadata": {},
          "execution_count": 38
        }
      ],
      "source": [
        "df_event"
      ]
    },
    {
      "cell_type": "code",
      "source": [
        "\n",
        "df_event['timestamp'] = pd.to_datetime(df_event['timestamp'])\n",
        "\n",
        "df_event['year'] = df_event['timestamp'].dt.year\n",
        "df_event['month'] = df_event['timestamp'].dt.month\n",
        "df_event['day'] = df_event['timestamp'].dt.day\n",
        "df_event['time'] = df_event['timestamp'].dt.strftime('%H:%M:%S')\n",
        "df_event['hour'] = df_event['timestamp'].dt.hour"
      ],
      "metadata": {
        "id": "oO4ZtQ7f32bg"
      },
      "execution_count": null,
      "outputs": []
    },
    {
      "cell_type": "code",
      "execution_count": null,
      "metadata": {
        "id": "CLLyd4EtIk_m"
      },
      "outputs": [],
      "source": [
        "df_event.dropna(subset=['event'], inplace=True)"
      ]
    },
    {
      "cell_type": "code",
      "execution_count": null,
      "metadata": {
        "id": "CgYiRVX1It_C"
      },
      "outputs": [],
      "source": [
        "df_event.isnull().sum()"
      ]
    },
    {
      "cell_type": "markdown",
      "metadata": {
        "id": "r1XGL3CZK2Uo"
      },
      "source": [
        "Dropping Duplicate Rows"
      ]
    },
    {
      "cell_type": "code",
      "execution_count": null,
      "metadata": {
        "id": "jMlNqg70JPAr"
      },
      "outputs": [],
      "source": [
        "duplicate_rows = df_event[df_event.duplicated()]"
      ]
    },
    {
      "cell_type": "code",
      "execution_count": null,
      "metadata": {
        "id": "2s6umdx8JVgr"
      },
      "outputs": [],
      "source": [
        "duplicate_rows"
      ]
    },
    {
      "cell_type": "code",
      "execution_count": null,
      "metadata": {
        "id": "3WeKZt--Jxu9"
      },
      "outputs": [],
      "source": [
        "df_event1 = df_event.drop_duplicates()"
      ]
    },
    {
      "cell_type": "code",
      "execution_count": null,
      "metadata": {
        "id": "zfOcS35xKAhS"
      },
      "outputs": [],
      "source": [
        "duplicate_rows1 = df_event1[df_event.duplicated()]"
      ]
    },
    {
      "cell_type": "code",
      "execution_count": null,
      "metadata": {
        "id": "w8h1_AQ5Ke4X"
      },
      "outputs": [],
      "source": [
        "duplicate_rows1"
      ]
    },
    {
      "cell_type": "markdown",
      "source": [
        "Saving the cleansed version of the csv file:"
      ],
      "metadata": {
        "id": "UDhECd4rIorT"
      }
    },
    {
      "cell_type": "code",
      "execution_count": null,
      "metadata": {
        "id": "vnK5RYcAfJbx"
      },
      "outputs": [],
      "source": [
        "df_event1.to_csv('cleansed_event.csv', index=False)"
      ]
    },
    {
      "cell_type": "code",
      "source": [
        "df_month=pd.readcsv('/content/cleansed_event.csv')\n",
        "print(df_month)"
      ],
      "metadata": {
        "id": "eqqbLpRnvk6M"
      },
      "execution_count": null,
      "outputs": []
    },
    {
      "cell_type": "markdown",
      "metadata": {
        "id": "0jNJWVjSsYJ6"
      },
      "source": [
        "### Item_properties_part1.csv & Item_properties_part2.csv"
      ]
    },
    {
      "cell_type": "markdown",
      "source": [
        "The **‘item_properties_part2.csv’** is a continuation of the **‘item_properties_part1.csv’**, they both consist of the following columns: timestamp, itemid, property, value. These files represent the properties of each item, approximatly **20 million** rows.\n",
        "\n",
        "Before performing any cleaning or pre-processing operation, we merged the data from both files into a single dataframe, the data didn’t contain any null values, nor did it contain duplicate rows. The format of the timestamp column was changed in the same way as the timestamp column in the **‘event.csv’** file."
      ],
      "metadata": {
        "id": "ki2SCMw2w2ux"
      }
    },
    {
      "cell_type": "markdown",
      "source": [
        "Loading the Item_properties files"
      ],
      "metadata": {
        "id": "DTw8HLa8JDgY"
      }
    },
    {
      "cell_type": "code",
      "execution_count": null,
      "metadata": {
        "id": "9OipigVJLgCY"
      },
      "outputs": [],
      "source": [
        "item_pro1 = pd.read_csv(\"/item_properties_part1.csv\")\n",
        "item_pro2 = pd.read_csv(\"/item_properties_part2.csv\")"
      ]
    },
    {
      "cell_type": "code",
      "execution_count": null,
      "metadata": {
        "id": "6mm8L6nOsokq"
      },
      "outputs": [],
      "source": [
        "item_pro1.head()"
      ]
    },
    {
      "cell_type": "code",
      "execution_count": null,
      "metadata": {
        "id": "_Y6ScyvwuAWq"
      },
      "outputs": [],
      "source": [
        "item_pro1.shape"
      ]
    },
    {
      "cell_type": "code",
      "execution_count": null,
      "metadata": {
        "id": "GJ3Dfn8ruC28"
      },
      "outputs": [],
      "source": [
        "item_pro2.head()"
      ]
    },
    {
      "cell_type": "code",
      "execution_count": null,
      "metadata": {
        "id": "Gm2Jwo5guGZ_"
      },
      "outputs": [],
      "source": [
        "len(item_pro2)"
      ]
    },
    {
      "cell_type": "markdown",
      "source": [
        "Merging the two files into one"
      ],
      "metadata": {
        "id": "snjNCDqHJOsG"
      }
    },
    {
      "cell_type": "code",
      "execution_count": null,
      "metadata": {
        "id": "-8zfbHbQuIZT"
      },
      "outputs": [],
      "source": [
        "item_pro = pd.concat([item_pro1, item_pro2], ignore_index=True)"
      ]
    },
    {
      "cell_type": "code",
      "execution_count": null,
      "metadata": {
        "id": "KgSaNdzeuUVQ"
      },
      "outputs": [],
      "source": [
        "item_pro.head()"
      ]
    },
    {
      "cell_type": "code",
      "execution_count": null,
      "metadata": {
        "id": "gqz2mZq5uWNc"
      },
      "outputs": [],
      "source": [
        "len(item_pro)"
      ]
    },
    {
      "cell_type": "code",
      "execution_count": null,
      "metadata": {
        "id": "LV_QillruW6M"
      },
      "outputs": [],
      "source": [
        "item_pro.dtypes"
      ]
    },
    {
      "cell_type": "markdown",
      "metadata": {
        "id": "lQtZ9Ag1ub0V"
      },
      "source": [
        "#### Duplicate values"
      ]
    },
    {
      "cell_type": "code",
      "execution_count": null,
      "metadata": {
        "id": "5sViQFM2ua_t"
      },
      "outputs": [],
      "source": [
        "item_pro.duplicated().value_counts()"
      ]
    },
    {
      "cell_type": "markdown",
      "metadata": {
        "id": "Q8jYed0fukPd"
      },
      "source": [
        "There is no duplicate values"
      ]
    },
    {
      "cell_type": "markdown",
      "metadata": {
        "id": "zfDLR67bunk-"
      },
      "source": [
        "#### Null values"
      ]
    },
    {
      "cell_type": "code",
      "execution_count": null,
      "metadata": {
        "id": "xwCTmdBsuiMt"
      },
      "outputs": [],
      "source": [
        "item_pro.isnull().sum()"
      ]
    },
    {
      "cell_type": "markdown",
      "metadata": {
        "id": "XQ-sH_Rtur6e"
      },
      "source": [
        "There is no null values"
      ]
    },
    {
      "cell_type": "markdown",
      "metadata": {
        "id": "2Gsksy0BOWBl"
      },
      "source": [
        "Conversion of the timestamp column"
      ]
    },
    {
      "cell_type": "code",
      "execution_count": null,
      "metadata": {
        "id": "hs5zBdReu12_"
      },
      "outputs": [],
      "source": [
        "item_pro['timestamp']"
      ]
    },
    {
      "cell_type": "code",
      "execution_count": null,
      "metadata": {
        "id": "loqFJdPzu-at"
      },
      "outputs": [],
      "source": [
        "item_pro['timestamp'] = pd.to_datetime(item_pro['timestamp'], unit='ms')"
      ]
    },
    {
      "cell_type": "code",
      "execution_count": null,
      "metadata": {
        "id": "pluk1g_0vB-r"
      },
      "outputs": [],
      "source": [
        "item_pro['timestamp']"
      ]
    },
    {
      "cell_type": "markdown",
      "source": [
        "Saving the data into a csv file named *'cleansed_item_pro.csv'*"
      ],
      "metadata": {
        "id": "DVTPLa4qJ-iX"
      }
    },
    {
      "cell_type": "code",
      "execution_count": null,
      "metadata": {
        "id": "AhJmy5CXkvMk"
      },
      "outputs": [],
      "source": [
        "item_pro.to_csv('cleansed_item_pro.csv', index=False)"
      ]
    },
    {
      "cell_type": "markdown",
      "metadata": {
        "id": "owHuAWoEw4qd"
      },
      "source": [
        "### CATEGORY ID"
      ]
    },
    {
      "cell_type": "markdown",
      "source": [
        "The **‘category_tree.csv’** file consists of two columns:  categoryid and parentid, the file contains **1669** rows.\n",
        "\n",
        "We removed duplicate rows and replaced the null values of the parentid column to ‘0’."
      ],
      "metadata": {
        "id": "mTk9vcBexAPy"
      }
    },
    {
      "cell_type": "markdown",
      "source": [
        "Loading the category file"
      ],
      "metadata": {
        "id": "UK99HJfzKZIs"
      }
    },
    {
      "cell_type": "code",
      "execution_count": null,
      "metadata": {
        "id": "0Iyj248sw-AR"
      },
      "outputs": [],
      "source": [
        "df_category = pd.read_csv('/category_tree.csv')"
      ]
    },
    {
      "cell_type": "code",
      "execution_count": null,
      "metadata": {
        "id": "lZbDSTiKypQS"
      },
      "outputs": [],
      "source": [
        "df_category"
      ]
    },
    {
      "cell_type": "code",
      "execution_count": null,
      "metadata": {
        "id": "1oe8R3jRzpIg"
      },
      "outputs": [],
      "source": [
        "df_category.describe()"
      ]
    },
    {
      "cell_type": "markdown",
      "source": [
        "Dropping the duplicates from the data"
      ],
      "metadata": {
        "id": "t3u03u-LKksA"
      }
    },
    {
      "cell_type": "code",
      "execution_count": null,
      "metadata": {
        "id": "SdmFvm9Gy2Xk"
      },
      "outputs": [],
      "source": [
        "df_category = df_category.drop_duplicates()"
      ]
    },
    {
      "cell_type": "markdown",
      "source": [
        "Number of unique values in the column **[categoryid]**"
      ],
      "metadata": {
        "id": "1coYl78MLG7u"
      }
    },
    {
      "cell_type": "code",
      "execution_count": null,
      "metadata": {
        "id": "FxPhgVe9zzXn"
      },
      "outputs": [],
      "source": [
        "print(df_category['categoryid'].nunique())"
      ]
    },
    {
      "cell_type": "markdown",
      "source": [
        "Checking for null values"
      ],
      "metadata": {
        "id": "a068Vl4WK2-B"
      }
    },
    {
      "cell_type": "code",
      "execution_count": null,
      "metadata": {
        "id": "vwlkifupzFs1"
      },
      "outputs": [],
      "source": [
        "df_category.isnull().sum()"
      ]
    },
    {
      "cell_type": "markdown",
      "source": [
        "Replacing null values in the **[parentid]** column with 0"
      ],
      "metadata": {
        "id": "27Zlf70HLfHx"
      }
    },
    {
      "cell_type": "code",
      "execution_count": null,
      "metadata": {
        "id": "chApQ6aO1jqo"
      },
      "outputs": [],
      "source": [
        "df_category['parentid'].fillna(0, inplace=True)"
      ]
    },
    {
      "cell_type": "markdown",
      "source": [
        "Saving the data into a csv file named *'cleansed_category.csv'*"
      ],
      "metadata": {
        "id": "FtMex4uILtAw"
      }
    },
    {
      "cell_type": "code",
      "execution_count": null,
      "metadata": {
        "id": "2QUPK30glU4z"
      },
      "outputs": [],
      "source": [
        "df_category.to_csv('cleansed_category.csv', index=False)"
      ]
    },
    {
      "cell_type": "markdown",
      "metadata": {
        "id": "3EzwYFe1AgMA"
      },
      "source": [
        "# Partie Data Analysis"
      ]
    },
    {
      "cell_type": "markdown",
      "metadata": {
        "id": "U5BK8hYyCpu4"
      },
      "source": [
        "## Popular Items"
      ]
    },
    {
      "cell_type": "markdown",
      "source": [
        "For a better understanding of the data, we analyzed the data using matplotlib, starting by identifying the most popular products (the products that the visitors interacted with the most):"
      ],
      "metadata": {
        "id": "v_FhHXkxGmwO"
      }
    },
    {
      "cell_type": "code",
      "execution_count": null,
      "metadata": {
        "id": "EF_yRTW_8Npt",
        "colab": {
          "base_uri": "https://localhost:8080/",
          "height": 394
        },
        "outputId": "cc156555-6a04-435e-d66c-ab3ba6b19c32"
      },
      "outputs": [
        {
          "output_type": "execute_result",
          "data": {
            "text/plain": [
              "        event\n",
              "itemid       \n",
              "187946   3412\n",
              "461686   2975\n",
              "5411     2334\n",
              "370653   1854\n",
              "219512   1800\n",
              "257040   1647\n",
              "298009   1642\n",
              "96924    1633\n",
              "309778   1628\n",
              "384302   1608"
            ],
            "text/html": [
              "\n",
              "  <div id=\"df-dfef6bd9-0028-4af5-bf93-66d3354b9fc6\" class=\"colab-df-container\">\n",
              "    <div>\n",
              "<style scoped>\n",
              "    .dataframe tbody tr th:only-of-type {\n",
              "        vertical-align: middle;\n",
              "    }\n",
              "\n",
              "    .dataframe tbody tr th {\n",
              "        vertical-align: top;\n",
              "    }\n",
              "\n",
              "    .dataframe thead th {\n",
              "        text-align: right;\n",
              "    }\n",
              "</style>\n",
              "<table border=\"1\" class=\"dataframe\">\n",
              "  <thead>\n",
              "    <tr style=\"text-align: right;\">\n",
              "      <th></th>\n",
              "      <th>event</th>\n",
              "    </tr>\n",
              "    <tr>\n",
              "      <th>itemid</th>\n",
              "      <th></th>\n",
              "    </tr>\n",
              "  </thead>\n",
              "  <tbody>\n",
              "    <tr>\n",
              "      <th>187946</th>\n",
              "      <td>3412</td>\n",
              "    </tr>\n",
              "    <tr>\n",
              "      <th>461686</th>\n",
              "      <td>2975</td>\n",
              "    </tr>\n",
              "    <tr>\n",
              "      <th>5411</th>\n",
              "      <td>2334</td>\n",
              "    </tr>\n",
              "    <tr>\n",
              "      <th>370653</th>\n",
              "      <td>1854</td>\n",
              "    </tr>\n",
              "    <tr>\n",
              "      <th>219512</th>\n",
              "      <td>1800</td>\n",
              "    </tr>\n",
              "    <tr>\n",
              "      <th>257040</th>\n",
              "      <td>1647</td>\n",
              "    </tr>\n",
              "    <tr>\n",
              "      <th>298009</th>\n",
              "      <td>1642</td>\n",
              "    </tr>\n",
              "    <tr>\n",
              "      <th>96924</th>\n",
              "      <td>1633</td>\n",
              "    </tr>\n",
              "    <tr>\n",
              "      <th>309778</th>\n",
              "      <td>1628</td>\n",
              "    </tr>\n",
              "    <tr>\n",
              "      <th>384302</th>\n",
              "      <td>1608</td>\n",
              "    </tr>\n",
              "  </tbody>\n",
              "</table>\n",
              "</div>\n",
              "    <div class=\"colab-df-buttons\">\n",
              "\n",
              "  <div class=\"colab-df-container\">\n",
              "    <button class=\"colab-df-convert\" onclick=\"convertToInteractive('df-dfef6bd9-0028-4af5-bf93-66d3354b9fc6')\"\n",
              "            title=\"Convert this dataframe to an interactive table.\"\n",
              "            style=\"display:none;\">\n",
              "\n",
              "  <svg xmlns=\"http://www.w3.org/2000/svg\" height=\"24px\" viewBox=\"0 -960 960 960\">\n",
              "    <path d=\"M120-120v-720h720v720H120Zm60-500h600v-160H180v160Zm220 220h160v-160H400v160Zm0 220h160v-160H400v160ZM180-400h160v-160H180v160Zm440 0h160v-160H620v160ZM180-180h160v-160H180v160Zm440 0h160v-160H620v160Z\"/>\n",
              "  </svg>\n",
              "    </button>\n",
              "\n",
              "  <style>\n",
              "    .colab-df-container {\n",
              "      display:flex;\n",
              "      gap: 12px;\n",
              "    }\n",
              "\n",
              "    .colab-df-convert {\n",
              "      background-color: #E8F0FE;\n",
              "      border: none;\n",
              "      border-radius: 50%;\n",
              "      cursor: pointer;\n",
              "      display: none;\n",
              "      fill: #1967D2;\n",
              "      height: 32px;\n",
              "      padding: 0 0 0 0;\n",
              "      width: 32px;\n",
              "    }\n",
              "\n",
              "    .colab-df-convert:hover {\n",
              "      background-color: #E2EBFA;\n",
              "      box-shadow: 0px 1px 2px rgba(60, 64, 67, 0.3), 0px 1px 3px 1px rgba(60, 64, 67, 0.15);\n",
              "      fill: #174EA6;\n",
              "    }\n",
              "\n",
              "    .colab-df-buttons div {\n",
              "      margin-bottom: 4px;\n",
              "    }\n",
              "\n",
              "    [theme=dark] .colab-df-convert {\n",
              "      background-color: #3B4455;\n",
              "      fill: #D2E3FC;\n",
              "    }\n",
              "\n",
              "    [theme=dark] .colab-df-convert:hover {\n",
              "      background-color: #434B5C;\n",
              "      box-shadow: 0px 1px 3px 1px rgba(0, 0, 0, 0.15);\n",
              "      filter: drop-shadow(0px 1px 2px rgba(0, 0, 0, 0.3));\n",
              "      fill: #FFFFFF;\n",
              "    }\n",
              "  </style>\n",
              "\n",
              "    <script>\n",
              "      const buttonEl =\n",
              "        document.querySelector('#df-dfef6bd9-0028-4af5-bf93-66d3354b9fc6 button.colab-df-convert');\n",
              "      buttonEl.style.display =\n",
              "        google.colab.kernel.accessAllowed ? 'block' : 'none';\n",
              "\n",
              "      async function convertToInteractive(key) {\n",
              "        const element = document.querySelector('#df-dfef6bd9-0028-4af5-bf93-66d3354b9fc6');\n",
              "        const dataTable =\n",
              "          await google.colab.kernel.invokeFunction('convertToInteractive',\n",
              "                                                    [key], {});\n",
              "        if (!dataTable) return;\n",
              "\n",
              "        const docLinkHtml = 'Like what you see? Visit the ' +\n",
              "          '<a target=\"_blank\" href=https://colab.research.google.com/notebooks/data_table.ipynb>data table notebook</a>'\n",
              "          + ' to learn more about interactive tables.';\n",
              "        element.innerHTML = '';\n",
              "        dataTable['output_type'] = 'display_data';\n",
              "        await google.colab.output.renderOutput(dataTable, element);\n",
              "        const docLink = document.createElement('div');\n",
              "        docLink.innerHTML = docLinkHtml;\n",
              "        element.appendChild(docLink);\n",
              "      }\n",
              "    </script>\n",
              "  </div>\n",
              "\n",
              "\n",
              "<div id=\"df-654aafca-e7d1-4919-87b4-4f41d02d337a\">\n",
              "  <button class=\"colab-df-quickchart\" onclick=\"quickchart('df-654aafca-e7d1-4919-87b4-4f41d02d337a')\"\n",
              "            title=\"Suggest charts.\"\n",
              "            style=\"display:none;\">\n",
              "\n",
              "<svg xmlns=\"http://www.w3.org/2000/svg\" height=\"24px\"viewBox=\"0 0 24 24\"\n",
              "     width=\"24px\">\n",
              "    <g>\n",
              "        <path d=\"M19 3H5c-1.1 0-2 .9-2 2v14c0 1.1.9 2 2 2h14c1.1 0 2-.9 2-2V5c0-1.1-.9-2-2-2zM9 17H7v-7h2v7zm4 0h-2V7h2v10zm4 0h-2v-4h2v4z\"/>\n",
              "    </g>\n",
              "</svg>\n",
              "  </button>\n",
              "\n",
              "<style>\n",
              "  .colab-df-quickchart {\n",
              "      --bg-color: #E8F0FE;\n",
              "      --fill-color: #1967D2;\n",
              "      --hover-bg-color: #E2EBFA;\n",
              "      --hover-fill-color: #174EA6;\n",
              "      --disabled-fill-color: #AAA;\n",
              "      --disabled-bg-color: #DDD;\n",
              "  }\n",
              "\n",
              "  [theme=dark] .colab-df-quickchart {\n",
              "      --bg-color: #3B4455;\n",
              "      --fill-color: #D2E3FC;\n",
              "      --hover-bg-color: #434B5C;\n",
              "      --hover-fill-color: #FFFFFF;\n",
              "      --disabled-bg-color: #3B4455;\n",
              "      --disabled-fill-color: #666;\n",
              "  }\n",
              "\n",
              "  .colab-df-quickchart {\n",
              "    background-color: var(--bg-color);\n",
              "    border: none;\n",
              "    border-radius: 50%;\n",
              "    cursor: pointer;\n",
              "    display: none;\n",
              "    fill: var(--fill-color);\n",
              "    height: 32px;\n",
              "    padding: 0;\n",
              "    width: 32px;\n",
              "  }\n",
              "\n",
              "  .colab-df-quickchart:hover {\n",
              "    background-color: var(--hover-bg-color);\n",
              "    box-shadow: 0 1px 2px rgba(60, 64, 67, 0.3), 0 1px 3px 1px rgba(60, 64, 67, 0.15);\n",
              "    fill: var(--button-hover-fill-color);\n",
              "  }\n",
              "\n",
              "  .colab-df-quickchart-complete:disabled,\n",
              "  .colab-df-quickchart-complete:disabled:hover {\n",
              "    background-color: var(--disabled-bg-color);\n",
              "    fill: var(--disabled-fill-color);\n",
              "    box-shadow: none;\n",
              "  }\n",
              "\n",
              "  .colab-df-spinner {\n",
              "    border: 2px solid var(--fill-color);\n",
              "    border-color: transparent;\n",
              "    border-bottom-color: var(--fill-color);\n",
              "    animation:\n",
              "      spin 1s steps(1) infinite;\n",
              "  }\n",
              "\n",
              "  @keyframes spin {\n",
              "    0% {\n",
              "      border-color: transparent;\n",
              "      border-bottom-color: var(--fill-color);\n",
              "      border-left-color: var(--fill-color);\n",
              "    }\n",
              "    20% {\n",
              "      border-color: transparent;\n",
              "      border-left-color: var(--fill-color);\n",
              "      border-top-color: var(--fill-color);\n",
              "    }\n",
              "    30% {\n",
              "      border-color: transparent;\n",
              "      border-left-color: var(--fill-color);\n",
              "      border-top-color: var(--fill-color);\n",
              "      border-right-color: var(--fill-color);\n",
              "    }\n",
              "    40% {\n",
              "      border-color: transparent;\n",
              "      border-right-color: var(--fill-color);\n",
              "      border-top-color: var(--fill-color);\n",
              "    }\n",
              "    60% {\n",
              "      border-color: transparent;\n",
              "      border-right-color: var(--fill-color);\n",
              "    }\n",
              "    80% {\n",
              "      border-color: transparent;\n",
              "      border-right-color: var(--fill-color);\n",
              "      border-bottom-color: var(--fill-color);\n",
              "    }\n",
              "    90% {\n",
              "      border-color: transparent;\n",
              "      border-bottom-color: var(--fill-color);\n",
              "    }\n",
              "  }\n",
              "</style>\n",
              "\n",
              "  <script>\n",
              "    async function quickchart(key) {\n",
              "      const quickchartButtonEl =\n",
              "        document.querySelector('#' + key + ' button');\n",
              "      quickchartButtonEl.disabled = true;  // To prevent multiple clicks.\n",
              "      quickchartButtonEl.classList.add('colab-df-spinner');\n",
              "      try {\n",
              "        const charts = await google.colab.kernel.invokeFunction(\n",
              "            'suggestCharts', [key], {});\n",
              "      } catch (error) {\n",
              "        console.error('Error during call to suggestCharts:', error);\n",
              "      }\n",
              "      quickchartButtonEl.classList.remove('colab-df-spinner');\n",
              "      quickchartButtonEl.classList.add('colab-df-quickchart-complete');\n",
              "    }\n",
              "    (() => {\n",
              "      let quickchartButtonEl =\n",
              "        document.querySelector('#df-654aafca-e7d1-4919-87b4-4f41d02d337a button');\n",
              "      quickchartButtonEl.style.display =\n",
              "        google.colab.kernel.accessAllowed ? 'block' : 'none';\n",
              "    })();\n",
              "  </script>\n",
              "</div>\n",
              "    </div>\n",
              "  </div>\n"
            ]
          },
          "metadata": {},
          "execution_count": 41
        }
      ],
      "source": [
        "df_events= pd.read_csv('/content/cleansed_event.csv')\n",
        "popular_items= pd.DataFrame(df_events.groupby('itemid')['event'].count())\n",
        "most_popular_items= popular_items.sort_values('event', ascending=False)\n",
        "most_popular_items.head(10)"
      ]
    },
    {
      "cell_type": "code",
      "execution_count": null,
      "metadata": {
        "id": "9oeXzQMlD43K",
        "colab": {
          "base_uri": "https://localhost:8080/",
          "height": 506
        },
        "outputId": "e869904a-ebdb-46b2-9223-3929626ec59f"
      },
      "outputs": [
        {
          "output_type": "execute_result",
          "data": {
            "text/plain": [
              "<Axes: xlabel='itemid'>"
            ]
          },
          "metadata": {},
          "execution_count": 42
        },
        {
          "output_type": "display_data",
          "data": {
            "text/plain": [
              "<Figure size 640x480 with 1 Axes>"
            ],
            "image/png": "[encoded data removed]"
          },
          "metadata": {}
        }
      ],
      "source": [
        "most_popular_items.head(15).plot(kind = \"bar\")"
      ]
    },
    {
      "cell_type": "markdown",
      "metadata": {
        "id": "qwEbZ1TKC3fD"
      },
      "source": [
        "## Best-Selling Items"
      ]
    },
    {
      "cell_type": "markdown",
      "source": [
        "After ranking the items by interactions, let's get more specific and rank them by transactions."
      ],
      "metadata": {
        "id": "phP4EMhuNtfA"
      }
    },
    {
      "cell_type": "code",
      "execution_count": null,
      "metadata": {
        "id": "xJbSZnwEBrrY",
        "colab": {
          "base_uri": "https://localhost:8080/",
          "height": 506
        },
        "outputId": "44d2035e-a732-4e38-a47f-fa44a0f2747a"
      },
      "outputs": [
        {
          "output_type": "execute_result",
          "data": {
            "text/plain": [
              "<Axes: xlabel='itemid'>"
            ]
          },
          "metadata": {},
          "execution_count": 43
        },
        {
          "output_type": "display_data",
          "data": {
            "text/plain": [
              "<Figure size 640x480 with 1 Axes>"
            ],
            "image/png": "[encoded data removed]"
          },
          "metadata": {}
        }
      ],
      "source": [
        "transaction_events = df_events[df_events['event'] == 'transaction']\n",
        "transactions_per_item= pd.DataFrame(transaction_events.groupby('itemid')['event'].count())\n",
        "best_selling_items= transactions_per_item.sort_values('event', ascending=False)\n",
        "best_selling_items.head(15).plot(kind = \"bar\")"
      ]
    },
    {
      "cell_type": "markdown",
      "source": [
        "### Notice:\n",
        "Here we can see that there's a difference between the best selling items, and the items with whom the visitors interacted with the most."
      ],
      "metadata": {
        "id": "-9dVfCkGOOF1"
      }
    },
    {
      "cell_type": "markdown",
      "metadata": {
        "id": "NCjtooBPDEaZ"
      },
      "source": [
        "## Most Transactions per Visitors"
      ]
    },
    {
      "cell_type": "markdown",
      "source": [
        "Ranking visitors by the number of the transactions they made, this will allow us to identify these users and gain more insights about their behavior."
      ],
      "metadata": {
        "id": "u9z_oH0pOqaC"
      }
    },
    {
      "cell_type": "code",
      "execution_count": null,
      "metadata": {
        "id": "W2gnoCGc_s18",
        "colab": {
          "base_uri": "https://localhost:8080/",
          "height": 514
        },
        "outputId": "c0975883-14ae-4f83-a397-7ef8d43df386"
      },
      "outputs": [
        {
          "output_type": "execute_result",
          "data": {
            "text/plain": [
              "<Axes: xlabel='visitorid'>"
            ]
          },
          "metadata": {},
          "execution_count": 44
        },
        {
          "output_type": "display_data",
          "data": {
            "text/plain": [
              "<Figure size 640x480 with 1 Axes>"
            ],
            "image/png": "[encoded data removed]"
          },
          "metadata": {}
        }
      ],
      "source": [
        "popular_visitors= pd.DataFrame(transaction_events.groupby('visitorid')['event'].count())\n",
        "most_transactions_by_visitors= popular_visitors.sort_values('event', ascending=False)\n",
        "most_transactions_by_visitors.head(15).plot(kind = \"bar\")"
      ]
    },
    {
      "cell_type": "markdown",
      "metadata": {
        "id": "4tyB05OS-Hd1"
      },
      "source": [
        "# Partie ML"
      ]
    },
    {
      "cell_type": "markdown",
      "metadata": {
        "id": "yYTrfWzKJsIf"
      },
      "source": [
        "### Data Preparation"
      ]
    },
    {
      "cell_type": "markdown",
      "source": [
        "The given code reads event data from a CSV file, assigning numerical interaction values based on event types (view, addtocart, transaction). It then creates index mappings for unique item and visitor IDs and builds row and column indices for a sparse interaction matrix. Utilizing these indices and interaction values, the code constructs the sparse matrix representing interactions between visitors and items."
      ],
      "metadata": {
        "id": "qihNfScc_hzY"
      }
    },
    {
      "cell_type": "code",
      "source": [
        "#Importing Libraries\n",
        "import pandas as pd\n",
        "import numpy as np\n",
        "from scipy.sparse import csr_matrix\n",
        "\n",
        "#Reading Data\n",
        "events_df = pd.read_csv('/content/cleansed_event.csv')\n",
        "\n",
        "#Defining Interaction Values\n",
        "events_df['interaction_value'] = events_df['event'].apply(lambda x: 0.4 if x == 'view' else (0.6 if x == 'addtocart' else 0.8))\n",
        "\n",
        "#Creating Index Maps\n",
        "item_index_map = {item: idx for idx, item in enumerate(events_df['itemid'].unique())}\n",
        "visitor_index_map = {visitor: idx for idx, visitor in enumerate(events_df['visitorid'].unique())}\n",
        "\n",
        "#Building Row and Column Indices\n",
        "row_indices = [visitor_index_map[visitor] for visitor in events_df['visitorid']]\n",
        "col_indices = [item_index_map[item] for item in events_df['itemid']]\n",
        "\n",
        "#Extracting Interaction Values\n",
        "interaction_values = events_df['interaction_value']\n",
        "\n",
        "#Creating the Interaction Matrix\n",
        "interaction_matrix = csr_matrix((interaction_values, (row_indices, col_indices)),\n",
        "                                 shape=(len(visitor_index_map), len(item_index_map)))\n",
        "\n",
        "print(interaction_matrix)"
      ],
      "metadata": {
        "id": "zFyrRQf0xQob",
        "colab": {
          "base_uri": "https://localhost:8080/"
        },
        "outputId": "6f27cb7a-22d1-4e07-b0fa-0248bde68fea"
      },
      "execution_count": null,
      "outputs": [
        {
          "output_type": "stream",
          "name": "stdout",
          "text": [
            "  (0, 0)\t0.4\n",
            "  (0, 3415)\t0.4\n",
            "  (1, 1)\t0.4\n",
            "  (1, 2101)\t0.4\n",
            "  (1, 2421)\t0.4\n",
            "  (1, 4112)\t0.4\n",
            "  (1, 5444)\t0.4\n",
            "  (1, 8199)\t0.4\n",
            "  (1, 11416)\t0.4\n",
            "  (1, 15434)\t0.4\n",
            "  (1, 22492)\t0.4\n",
            "  (1, 24683)\t0.8\n",
            "  (1, 24728)\t1.6\n",
            "  (1, 31226)\t0.4\n",
            "  (1, 36863)\t0.4\n",
            "  (1, 37451)\t0.4\n",
            "  (1, 37950)\t0.4\n",
            "  (1, 37956)\t0.4\n",
            "  (1, 38232)\t0.4\n",
            "  (1, 38745)\t0.8\n",
            "  (1, 38934)\t0.4\n",
            "  (1, 50767)\t0.8\n",
            "  (1, 69304)\t0.4\n",
            "  (1, 73820)\t0.4\n",
            "  (1, 91821)\t0.4\n",
            "  :\t:\n",
            "  (1407555, 48561)\t0.4\n",
            "  (1407556, 34641)\t0.4\n",
            "  (1407557, 39000)\t0.4\n",
            "  (1407558, 1690)\t0.4\n",
            "  (1407559, 235058)\t0.4\n",
            "  (1407560, 17430)\t0.4\n",
            "  (1407561, 29900)\t0.4\n",
            "  (1407562, 12445)\t0.4\n",
            "  (1407563, 2355)\t0.4\n",
            "  (1407564, 7691)\t0.4\n",
            "  (1407565, 166698)\t0.4\n",
            "  (1407566, 235059)\t0.4\n",
            "  (1407567, 2579)\t0.4\n",
            "  (1407568, 235060)\t0.4\n",
            "  (1407569, 3982)\t0.4\n",
            "  (1407570, 32481)\t0.4\n",
            "  (1407571, 26557)\t0.4\n",
            "  (1407572, 9161)\t0.4\n",
            "  (1407573, 131858)\t0.4\n",
            "  (1407574, 47236)\t0.4\n",
            "  (1407575, 11786)\t0.4\n",
            "  (1407576, 64470)\t0.4\n",
            "  (1407577, 6875)\t0.4\n",
            "  (1407578, 8928)\t0.4\n",
            "  (1407579, 90304)\t0.4\n"
          ]
        }
      ]
    },
    {
      "cell_type": "markdown",
      "source": [
        "### Model Creation and training"
      ],
      "metadata": {
        "id": "rv1Kyqyf-Yme"
      }
    },
    {
      "cell_type": "code",
      "source": [
        "pip install surprise"
      ],
      "metadata": {
        "id": "LZj1KhMGyHSN"
      },
      "execution_count": null,
      "outputs": []
    },
    {
      "cell_type": "markdown",
      "source": [
        "The provided code utilizes the Surprise library to implement a recommendation system. It first loads event data into a Surprise dataset and then splits this data into training and testing sets. The SVD (Singular Value Decomposition) model is initialized, trained using the training set, and subsequently used to make predictions on the test set. The code then performs cross-validation, evaluating the model's performance using RMSE (Root Mean Squared Error) and MAE (Mean Absolute Error) metrics. Finally, the code calculates and prints the RMSE and MAE values, providing insights into the accuracy of the recommendation model's predictions."
      ],
      "metadata": {
        "id": "H2ySrxZ9CbiH"
      }
    },
    {
      "cell_type": "code",
      "source": [
        "from surprise import SVD\n",
        "from surprise import Dataset\n",
        "from surprise import accuracy\n",
        "from surprise import Reader\n",
        "from surprise.model_selection import train_test_split\n",
        "from surprise.model_selection import cross_validate\n",
        "\n",
        "\n",
        "# Load data and create a Surprise dataset\n",
        "reader = Reader(rating_scale=(0, 1))\n",
        "data = Dataset.load_from_df(events_df[['visitorid', 'itemid', 'interaction_value']], reader)\n",
        "\n",
        "# Split data into train and test sets\n",
        "trainset, testset = train_test_split(data, test_size=0.2)\n",
        "\n",
        "# Initialize and train the model\n",
        "model = SVD()\n",
        "model.fit(trainset)\n",
        "\n",
        "# Make predictions on the test set\n",
        "predictions = model.test(testset)\n",
        "\n",
        "# Calculate RMSE and MAE\n",
        "cross_validate(model, data, measures=['RMSE', 'MAE'], cv=5, verbose=True)\n",
        "rmse = accuracy.rmse(predictions)\n",
        "mae = accuracy.mae(predictions)\n",
        "\n",
        "print(\"RMSE:\", rmse)\n",
        "print(\"MAE:\", mae)\n"
      ],
      "metadata": {
        "colab": {
          "base_uri": "https://localhost:8080/"
        },
        "id": "KO5xQXaAexkM",
        "outputId": "f6be8105-5cb4-42cf-ff49-89e38724876f"
      },
      "execution_count": null,
      "outputs": [
        {
          "output_type": "stream",
          "name": "stdout",
          "text": [
            "Evaluating RMSE, MAE of algorithm SVD on 5 split(s).\n",
            "\n",
            "                  Fold 1  Fold 2  Fold 3  Fold 4  Fold 5  Mean    Std     \n",
            "RMSE (testset)    0.0683  0.0683  0.0683  0.0685  0.0684  0.0684  0.0001  \n",
            "MAE (testset)     0.0410  0.0410  0.0410  0.0411  0.0411  0.0411  0.0000  \n",
            "Fit time          64.38   71.49   70.06   71.13   69.53   69.32   2.57    \n",
            "Test time         4.36    4.41    4.41    8.10    7.68    5.79    1.72    \n",
            "RMSE: 0.0685\n",
            "MAE:  0.0411\n",
            "RMSE: 0.06853251483829577\n",
            "MAE: 0.04113052617354568\n"
          ]
        }
      ]
    },
    {
      "cell_type": "markdown",
      "source": [
        "Saving the model"
      ],
      "metadata": {
        "id": "AfI-iPWOC95p"
      }
    },
    {
      "cell_type": "code",
      "source": [
        "from surprise.dump import dump\n",
        "\n",
        "model_filename = 'trained_model.pkl'\n",
        "dump(model_filename, algo=model)"
      ],
      "metadata": {
        "id": "3nSb0Ww0yjDD"
      },
      "execution_count": null,
      "outputs": []
    },
    {
      "cell_type": "code",
      "source": [
        "from surprise.dump import load\n",
        "loaded_model = load(model_filename)[1]"
      ],
      "metadata": {
        "id": "kTRNANjFys5g"
      },
      "execution_count": null,
      "outputs": []
    },
    {
      "cell_type": "markdown",
      "source": [
        "### Recommendations"
      ],
      "metadata": {
        "id": "nJbP25cA-kfO"
      }
    },
    {
      "cell_type": "markdown",
      "source": [
        "This code defines a function called **get_top_n_recommendations** that takes a trained recommendation model, a specific user ID, the total number of items in the dataset (num_items), and an optional parameter n (default set to 10). The function predicts ratings for each item for the given user, sorts these predictions in descending order, and returns the top n items with the highest estimated ratings as recommendations. It then reads event data from a CSV file, specifies a user ID, calculates the number of unique items in the dataset, calls the **get_top_n_recommendations** function with the loaded model, and prints the top recommended items along with their estimated ratings for the specified user."
      ],
      "metadata": {
        "id": "40nGBEQnDsa0"
      }
    },
    {
      "cell_type": "code",
      "source": [
        "def get_top_n_recommendations(model, user_id, num_items, n=10):\n",
        "    recommendations = []\n",
        "    for item_id in range(1, num_items + 1):\n",
        "        prediction = model.predict(user_id, item_id)\n",
        "        recommendations.append((item_id, prediction.est))\n",
        "\n",
        "    # Sort recommendations by estimated rating\n",
        "    recommendations.sort(key=lambda x: x[1], reverse=True)\n",
        "\n",
        "    top_n_recommendations = recommendations[:n]\n",
        "    return top_n_recommendations\n",
        "import pandas as pd\n",
        "events_df = pd.read_csv('/content/cleansed_event.csv')\n",
        "user_id = 1\n",
        "num_items = events_df['itemid'].nunique()  # Number of unique items in the dataset\n",
        "top_recommendations = get_top_n_recommendations(loaded_model, user_id, num_items, n=10)\n",
        "print(\"Top Recommendations for User\", user_id)\n",
        "for item_id, estimated_rating in top_recommendations:\n",
        "    print(\"Item:\", item_id, \"Estimated Rating:\", estimated_rating)"
      ],
      "metadata": {
        "id": "MfeYbwHzytBQ",
        "colab": {
          "base_uri": "https://localhost:8080/"
        },
        "outputId": "9852657e-a7e1-44b5-b0ea-2d72d85f583a"
      },
      "execution_count": null,
      "outputs": [
        {
          "output_type": "stream",
          "name": "stdout",
          "text": [
            "Top Recommendations for User 1\n",
            "Item: 133472 Estimated Rating: 0.501883503370965\n",
            "Item: 193990 Estimated Rating: 0.5005390579557638\n",
            "Item: 224991 Estimated Rating: 0.5000306493486697\n",
            "Item: 192582 Estimated Rating: 0.4969437262512333\n",
            "Item: 28789 Estimated Rating: 0.49516420492126617\n",
            "Item: 188377 Estimated Rating: 0.4937422080911881\n",
            "Item: 118024 Estimated Rating: 0.49130570312626887\n",
            "Item: 181830 Estimated Rating: 0.4910667480199934\n",
            "Item: 213834 Estimated Rating: 0.49089194769614075\n",
            "Item: 176669 Estimated Rating: 0.48953638250304427\n"
          ]
        }
      ]
    }
  ],
  "metadata": {
    "colab": {
      "provenance": [],
      "include_colab_link": true
    },
    "kernelspec": {
      "display_name": "Python 3",
      "name": "python3"
    },
    "language_info": {
      "name": "python"
    }
  },
  "nbformat": 4,
  "nbformat_minor": 0
}