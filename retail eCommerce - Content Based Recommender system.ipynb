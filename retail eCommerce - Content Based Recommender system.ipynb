{
 "cells": [
  {
   "cell_type": "markdown",
   "id": "dd39ade6",
   "metadata": {},
   "source": [
    "# <center>retail eCommerce - Content Based Recommender system</center>"
   ]
  },
  {
   "cell_type": "code",
   "execution_count": 1,
   "id": "4f8ef11b",
   "metadata": {},
   "outputs": [],
   "source": [
    "# Import Librairies\n",
    "import numpy as np\n",
    "import pandas as pd\n",
    "import matplotlib.pyplot as plt\n",
    "import seaborn as sns\n",
    "\n",
    "from sklearn.metrics.pairwise import cosine_similarity\n",
    "from sklearn.decomposition import PCA\n",
    "from sklearn.preprocessing import MinMaxScaler"
   ]
  },
  {
   "cell_type": "code",
   "execution_count": 2,
   "id": "1df5da27",
   "metadata": {},
   "outputs": [],
   "source": [
    "# Ignore warnings\n",
    "import warnings\n",
    "warnings.filterwarnings('ignore')"
   ]
  },
  {
   "cell_type": "markdown",
   "id": "2122f10a",
   "metadata": {},
   "source": [
    "## 1. Data Exploration & Preprocessing :"
   ]
  },
  {
   "cell_type": "code",
   "execution_count": 3,
   "id": "c7b1d7c1",
   "metadata": {},
   "outputs": [],
   "source": [
    "df_1 = pd.read_csv('../Documents/Data/item_properties_part1.csv')\n",
    "df_2 = pd.read_csv('../Documents/Data/item_properties_part2.csv')"
   ]
  },
  {
   "cell_type": "code",
   "execution_count": 4,
   "id": "f377f9f6",
   "metadata": {},
   "outputs": [],
   "source": [
    "# merge the two dataframes\n",
    "df = pd.concat([df_1, df_2])"
   ]
  },
  {
   "cell_type": "code",
   "execution_count": 5,
   "id": "bc7b2487",
   "metadata": {},
   "outputs": [
    {
     "data": {
      "text/html": [
       "<div>\n",
       "<style scoped>\n",
       "    .dataframe tbody tr th:only-of-type {\n",
       "        vertical-align: middle;\n",
       "    }\n",
       "\n",
       "    .dataframe tbody tr th {\n",
       "        vertical-align: top;\n",
       "    }\n",
       "\n",
       "    .dataframe thead th {\n",
       "        text-align: right;\n",
       "    }\n",
       "</style>\n",
       "<table border=\"1\" class=\"dataframe\">\n",
       "  <thead>\n",
       "    <tr style=\"text-align: right;\">\n",
       "      <th></th>\n",
       "      <th>timestamp</th>\n",
       "      <th>itemid</th>\n",
       "      <th>property</th>\n",
       "      <th>value</th>\n",
       "    </tr>\n",
       "  </thead>\n",
       "  <tbody>\n",
       "    <tr>\n",
       "      <th>0</th>\n",
       "      <td>1435460400000</td>\n",
       "      <td>460429</td>\n",
       "      <td>categoryid</td>\n",
       "      <td>1338</td>\n",
       "    </tr>\n",
       "    <tr>\n",
       "      <th>1</th>\n",
       "      <td>1441508400000</td>\n",
       "      <td>206783</td>\n",
       "      <td>888</td>\n",
       "      <td>1116713 960601 n277.200</td>\n",
       "    </tr>\n",
       "    <tr>\n",
       "      <th>2</th>\n",
       "      <td>1439089200000</td>\n",
       "      <td>395014</td>\n",
       "      <td>400</td>\n",
       "      <td>n552.000 639502 n720.000 424566</td>\n",
       "    </tr>\n",
       "    <tr>\n",
       "      <th>3</th>\n",
       "      <td>1431226800000</td>\n",
       "      <td>59481</td>\n",
       "      <td>790</td>\n",
       "      <td>n15360.000</td>\n",
       "    </tr>\n",
       "    <tr>\n",
       "      <th>4</th>\n",
       "      <td>1431831600000</td>\n",
       "      <td>156781</td>\n",
       "      <td>917</td>\n",
       "      <td>828513</td>\n",
       "    </tr>\n",
       "  </tbody>\n",
       "</table>\n",
       "</div>"
      ],
      "text/plain": [
       "       timestamp  itemid    property                            value\n",
       "0  1435460400000  460429  categoryid                             1338\n",
       "1  1441508400000  206783         888          1116713 960601 n277.200\n",
       "2  1439089200000  395014         400  n552.000 639502 n720.000 424566\n",
       "3  1431226800000   59481         790                       n15360.000\n",
       "4  1431831600000  156781         917                           828513"
      ]
     },
     "execution_count": 5,
     "metadata": {},
     "output_type": "execute_result"
    }
   ],
   "source": [
    "df.head()"
   ]
  },
  {
   "cell_type": "code",
   "execution_count": 6,
   "id": "a17019d0",
   "metadata": {},
   "outputs": [
    {
     "name": "stdout",
     "output_type": "stream",
     "text": [
      "<class 'pandas.core.frame.DataFrame'>\n",
      "Int64Index: 20275902 entries, 0 to 9275902\n",
      "Data columns (total 4 columns):\n",
      " #   Column     Dtype \n",
      "---  ------     ----- \n",
      " 0   timestamp  int64 \n",
      " 1   itemid     int64 \n",
      " 2   property   object\n",
      " 3   value      object\n",
      "dtypes: int64(2), object(2)\n",
      "memory usage: 773.5+ MB\n"
     ]
    }
   ],
   "source": [
    "df.info()"
   ]
  },
  {
   "cell_type": "markdown",
   "id": "b1a8f6a8",
   "metadata": {},
   "source": [
    "### Information about Data representation :\n",
    "To maintain data integrity and privacy, all values in the \"item_properties.csv\" file, excluding \"categoryid\"\n",
    "and \"available\" properties, underwent a hashing process. The \"categoryid\" property contains item category\n",
    "identifiers, while the \"available\" property indicates item availability, with \"1\" signifying availability\n",
    "and \"0\" denoting unavailability. Numerical values were prefixed with \"n\" and displayed with three-digit\n",
    "precision after the decimal point. For example, \"5\" becomes \"n5.000,\" and \"-3.67584\" becomes \"n-3.675.\"\n",
    "\n",
    "Text values underwent normalization through a stemming procedure, following a process similar to stemming.\n",
    "These normalized words were then hashed, and numbers were processed as described above. For instance,\n",
    "the text \"Hello world 2017!\" would be transformed into \"24214 44214 n2017.000\" to ensure consistent and\n",
    "standardized representation of text-based properties."
   ]
  },
  {
   "cell_type": "markdown",
   "id": "2cba365f",
   "metadata": {},
   "source": [
    "### Reduce Data Size :\n",
    "We notice that this dataframe contains more than 20M row which too big, so to reduce the Dataset size and also the cost of training :\n",
    "For each item's property,  we are going to keep just the last one based on the timestamp"
   ]
  },
  {
   "cell_type": "code",
   "execution_count": 7,
   "id": "66bcc289",
   "metadata": {},
   "outputs": [
    {
     "name": "stdout",
     "output_type": "stream",
     "text": [
      "Initial Data length : 20275902\n"
     ]
    }
   ],
   "source": [
    "N = len(df)\n",
    "print('Initial Data length :',N)"
   ]
  },
  {
   "cell_type": "code",
   "execution_count": 8,
   "id": "0286fb7d",
   "metadata": {},
   "outputs": [],
   "source": [
    "# Sort the DataFrame by 'timestamp' in descending order\n",
    "df.sort_values(by='timestamp', ascending=False, inplace=True)\n",
    "\n",
    "# Group by 'itemid' and 'property' and get the most recent value for each group\n",
    "df = df.groupby(['itemid', 'property'])['value'].first().reset_index()"
   ]
  },
  {
   "cell_type": "code",
   "execution_count": 9,
   "id": "3655e6af",
   "metadata": {},
   "outputs": [
    {
     "data": {
      "text/html": [
       "<div>\n",
       "<style scoped>\n",
       "    .dataframe tbody tr th:only-of-type {\n",
       "        vertical-align: middle;\n",
       "    }\n",
       "\n",
       "    .dataframe tbody tr th {\n",
       "        vertical-align: top;\n",
       "    }\n",
       "\n",
       "    .dataframe thead th {\n",
       "        text-align: right;\n",
       "    }\n",
       "</style>\n",
       "<table border=\"1\" class=\"dataframe\">\n",
       "  <thead>\n",
       "    <tr style=\"text-align: right;\">\n",
       "      <th></th>\n",
       "      <th>itemid</th>\n",
       "      <th>property</th>\n",
       "      <th>value</th>\n",
       "    </tr>\n",
       "  </thead>\n",
       "  <tbody>\n",
       "    <tr>\n",
       "      <th>0</th>\n",
       "      <td>0</td>\n",
       "      <td>1036</td>\n",
       "      <td>1276750</td>\n",
       "    </tr>\n",
       "    <tr>\n",
       "      <th>1</th>\n",
       "      <td>0</td>\n",
       "      <td>1056</td>\n",
       "      <td>n3.168 1144008</td>\n",
       "    </tr>\n",
       "    <tr>\n",
       "      <th>2</th>\n",
       "      <td>0</td>\n",
       "      <td>11</td>\n",
       "      <td>n15360.000 628176 n12288.000</td>\n",
       "    </tr>\n",
       "    <tr>\n",
       "      <th>3</th>\n",
       "      <td>0</td>\n",
       "      <td>112</td>\n",
       "      <td>679677</td>\n",
       "    </tr>\n",
       "    <tr>\n",
       "      <th>4</th>\n",
       "      <td>0</td>\n",
       "      <td>127</td>\n",
       "      <td>1168476</td>\n",
       "    </tr>\n",
       "  </tbody>\n",
       "</table>\n",
       "</div>"
      ],
      "text/plain": [
       "   itemid property                         value\n",
       "0       0     1036                       1276750\n",
       "1       0     1056                n3.168 1144008\n",
       "2       0       11  n15360.000 628176 n12288.000\n",
       "3       0      112                        679677\n",
       "4       0      127                       1168476"
      ]
     },
     "execution_count": 9,
     "metadata": {},
     "output_type": "execute_result"
    }
   ],
   "source": [
    "# New df\n",
    "df.head()"
   ]
  },
  {
   "cell_type": "code",
   "execution_count": 10,
   "id": "24bee1be",
   "metadata": {},
   "outputs": [
    {
     "data": {
      "text/plain": [
       "itemid      0\n",
       "property    0\n",
       "value       0\n",
       "dtype: int64"
      ]
     },
     "execution_count": 10,
     "metadata": {},
     "output_type": "execute_result"
    }
   ],
   "source": [
    "# Drop missing values\n",
    "df = df.dropna()\n",
    "df.dropna().isna().sum()"
   ]
  },
  {
   "cell_type": "code",
   "execution_count": 11,
   "id": "578d3494",
   "metadata": {},
   "outputs": [
    {
     "name": "stdout",
     "output_type": "stream",
     "text": [
      "The amount we kept from the original dataset is : 59.2%\n"
     ]
    }
   ],
   "source": [
    "# Amount of reduce :\n",
    "n1 = len(df)\n",
    "r = n1/N\n",
    "print('The amount we kept from the original dataset is :',str(round(r*100,2))+'%')"
   ]
  },
  {
   "cell_type": "code",
   "execution_count": 12,
   "id": "75e81e4f",
   "metadata": {},
   "outputs": [
    {
     "name": "stdout",
     "output_type": "stream",
     "text": [
      "Number of unique items : 417053\n"
     ]
    }
   ],
   "source": [
    "# Number of items\n",
    "print('Number of unique items :',len(df['itemid'].unique()))"
   ]
  },
  {
   "cell_type": "markdown",
   "id": "0aeae63a",
   "metadata": {},
   "source": [
    "**417K** items is a big number, which won't allow us to work efficiently, so for demonstration and ressources reasons we are going to keep just **10K** item to build our recommendation system."
   ]
  },
  {
   "cell_type": "code",
   "execution_count": 13,
   "id": "c82effcc",
   "metadata": {},
   "outputs": [
    {
     "data": {
      "text/plain": [
       "0    348094\n",
       "1     25834\n",
       "2    364736\n",
       "3     15700\n",
       "4    123593\n",
       "dtype: int64"
      ]
     },
     "execution_count": 13,
     "metadata": {},
     "output_type": "execute_result"
    }
   ],
   "source": [
    "ids = pd.Series(df['itemid'].unique())\n",
    "reduced_ids = ids.sample(10000, ignore_index=True)\n",
    "reduced_ids.head()"
   ]
  },
  {
   "cell_type": "markdown",
   "id": "437bb774",
   "metadata": {},
   "source": [
    "We go back now to our dataframe to keep just properties for our random selected items"
   ]
  },
  {
   "cell_type": "code",
   "execution_count": 14,
   "id": "9ab498f1",
   "metadata": {},
   "outputs": [
    {
     "data": {
      "text/html": [
       "<div>\n",
       "<style scoped>\n",
       "    .dataframe tbody tr th:only-of-type {\n",
       "        vertical-align: middle;\n",
       "    }\n",
       "\n",
       "    .dataframe tbody tr th {\n",
       "        vertical-align: top;\n",
       "    }\n",
       "\n",
       "    .dataframe thead th {\n",
       "        text-align: right;\n",
       "    }\n",
       "</style>\n",
       "<table border=\"1\" class=\"dataframe\">\n",
       "  <thead>\n",
       "    <tr style=\"text-align: right;\">\n",
       "      <th></th>\n",
       "      <th>itemid</th>\n",
       "      <th>property</th>\n",
       "      <th>value</th>\n",
       "    </tr>\n",
       "  </thead>\n",
       "  <tbody>\n",
       "    <tr>\n",
       "      <th>0</th>\n",
       "      <td>24</td>\n",
       "      <td>1031</td>\n",
       "      <td>861995</td>\n",
       "    </tr>\n",
       "    <tr>\n",
       "      <th>1</th>\n",
       "      <td>24</td>\n",
       "      <td>112</td>\n",
       "      <td>679677</td>\n",
       "    </tr>\n",
       "    <tr>\n",
       "      <th>2</th>\n",
       "      <td>24</td>\n",
       "      <td>13</td>\n",
       "      <td>n96.000</td>\n",
       "    </tr>\n",
       "    <tr>\n",
       "      <th>3</th>\n",
       "      <td>24</td>\n",
       "      <td>159</td>\n",
       "      <td>519769</td>\n",
       "    </tr>\n",
       "    <tr>\n",
       "      <th>4</th>\n",
       "      <td>24</td>\n",
       "      <td>202</td>\n",
       "      <td>150169 119273 n96.000 571064 249204 1191692 19...</td>\n",
       "    </tr>\n",
       "  </tbody>\n",
       "</table>\n",
       "</div>"
      ],
      "text/plain": [
       "   itemid property                                              value\n",
       "0      24     1031                                             861995\n",
       "1      24      112                                             679677\n",
       "2      24       13                                            n96.000\n",
       "3      24      159                                             519769\n",
       "4      24      202  150169 119273 n96.000 571064 249204 1191692 19..."
      ]
     },
     "execution_count": 14,
     "metadata": {},
     "output_type": "execute_result"
    }
   ],
   "source": [
    "# Use .isin() to create a boolean mask\n",
    "mask = df['itemid'].isin(reduced_ids)\n",
    "\n",
    "# Apply the mask to filter the DataFrame\n",
    "reduced_df = df[mask]\n",
    "\n",
    "reduced_df.reset_index(inplace=True, drop=True)\n",
    "\n",
    "reduced_df.head()"
   ]
  },
  {
   "cell_type": "code",
   "execution_count": 15,
   "id": "b08a2164",
   "metadata": {},
   "outputs": [
    {
     "name": "stdout",
     "output_type": "stream",
     "text": [
      "<class 'pandas.core.frame.DataFrame'>\n",
      "RangeIndex: 288172 entries, 0 to 288171\n",
      "Data columns (total 3 columns):\n",
      " #   Column    Non-Null Count   Dtype \n",
      "---  ------    --------------   ----- \n",
      " 0   itemid    288172 non-null  int64 \n",
      " 1   property  288172 non-null  object\n",
      " 2   value     288172 non-null  object\n",
      "dtypes: int64(1), object(2)\n",
      "memory usage: 6.6+ MB\n"
     ]
    }
   ],
   "source": [
    "reduced_df.info()"
   ]
  },
  {
   "cell_type": "code",
   "execution_count": 16,
   "id": "fdc06528",
   "metadata": {},
   "outputs": [
    {
     "name": "stdout",
     "output_type": "stream",
     "text": [
      "The new amount we kept from the original dataset is : 1.42%\n"
     ]
    }
   ],
   "source": [
    "# New Amount of reduce :\n",
    "n2 = len(reduced_df)\n",
    "r = n2/N\n",
    "print('The new amount we kept from the original dataset is :',str(round(r*100,2))+'%')"
   ]
  },
  {
   "cell_type": "markdown",
   "id": "90f20062",
   "metadata": {},
   "source": [
    "### Preprocessing\n",
    "\n",
    "- For numerical values, values that start with 'n', we will convert them to float values.\n",
    "- For text values, we will create such embeddings vectors, for example :\n",
    "\"Hello world 2017!\" would be transformed into \"24214 44214 n2017.000\",\n",
    "then to : [24214, 44214] (numbers eliminated), finally we aggregate this values using mean value."
   ]
  },
  {
   "cell_type": "code",
   "execution_count": 17,
   "id": "9c142504",
   "metadata": {},
   "outputs": [],
   "source": [
    "def preprocessing(x):\n",
    "    # text data\n",
    "    if len(x.split(' ')) > 1:\n",
    "        return np.array([float(elt) for elt in x.split(' ') if not elt.startswith('n')]).mean()\n",
    "    # numerical values\n",
    "    else:\n",
    "        if x.startswith('n'):\n",
    "            return float(x[1:])\n",
    "        else:\n",
    "            return float(x)"
   ]
  },
  {
   "cell_type": "code",
   "execution_count": 18,
   "id": "6d41a0e1",
   "metadata": {},
   "outputs": [],
   "source": [
    "reduced_df['value'] = reduced_df['value'].apply(preprocessing)"
   ]
  },
  {
   "cell_type": "code",
   "execution_count": 19,
   "id": "50853622",
   "metadata": {},
   "outputs": [
    {
     "data": {
      "text/html": [
       "<div>\n",
       "<style scoped>\n",
       "    .dataframe tbody tr th:only-of-type {\n",
       "        vertical-align: middle;\n",
       "    }\n",
       "\n",
       "    .dataframe tbody tr th {\n",
       "        vertical-align: top;\n",
       "    }\n",
       "\n",
       "    .dataframe thead th {\n",
       "        text-align: right;\n",
       "    }\n",
       "</style>\n",
       "<table border=\"1\" class=\"dataframe\">\n",
       "  <thead>\n",
       "    <tr style=\"text-align: right;\">\n",
       "      <th></th>\n",
       "      <th>itemid</th>\n",
       "      <th>property</th>\n",
       "      <th>value</th>\n",
       "    </tr>\n",
       "  </thead>\n",
       "  <tbody>\n",
       "    <tr>\n",
       "      <th>0</th>\n",
       "      <td>24</td>\n",
       "      <td>1031</td>\n",
       "      <td>861995.000000</td>\n",
       "    </tr>\n",
       "    <tr>\n",
       "      <th>1</th>\n",
       "      <td>24</td>\n",
       "      <td>112</td>\n",
       "      <td>679677.000000</td>\n",
       "    </tr>\n",
       "    <tr>\n",
       "      <th>2</th>\n",
       "      <td>24</td>\n",
       "      <td>13</td>\n",
       "      <td>96.000000</td>\n",
       "    </tr>\n",
       "    <tr>\n",
       "      <th>3</th>\n",
       "      <td>24</td>\n",
       "      <td>159</td>\n",
       "      <td>519769.000000</td>\n",
       "    </tr>\n",
       "    <tr>\n",
       "      <th>4</th>\n",
       "      <td>24</td>\n",
       "      <td>202</td>\n",
       "      <td>523210.428571</td>\n",
       "    </tr>\n",
       "  </tbody>\n",
       "</table>\n",
       "</div>"
      ],
      "text/plain": [
       "   itemid property          value\n",
       "0      24     1031  861995.000000\n",
       "1      24      112  679677.000000\n",
       "2      24       13      96.000000\n",
       "3      24      159  519769.000000\n",
       "4      24      202  523210.428571"
      ]
     },
     "execution_count": 19,
     "metadata": {},
     "output_type": "execute_result"
    }
   ],
   "source": [
    "reduced_df.head()"
   ]
  },
  {
   "cell_type": "markdown",
   "id": "0bc24f18",
   "metadata": {},
   "source": [
    "### Creating the DataFrame :\n",
    "Now we will create a new Dataframe using properties as features."
   ]
  },
  {
   "cell_type": "code",
   "execution_count": 20,
   "id": "4193f837",
   "metadata": {},
   "outputs": [
    {
     "name": "stdout",
     "output_type": "stream",
     "text": [
      "Number of unique items : 10000\n",
      "Number of unique properties : 1000\n"
     ]
    }
   ],
   "source": [
    "numItems = len(reduced_df['itemid'].unique())\n",
    "numCols = len(reduced_df['property'].unique())\n",
    "print('Number of unique items :', numItems)\n",
    "print('Number of unique properties :', numCols)"
   ]
  },
  {
   "cell_type": "code",
   "execution_count": 21,
   "id": "e3aa3ace",
   "metadata": {},
   "outputs": [],
   "source": [
    "# Pivot the DataFrame to reshape it\n",
    "pivot_df = reduced_df.pivot(index='itemid', columns='property', values='value')"
   ]
  },
  {
   "cell_type": "code",
   "execution_count": 22,
   "id": "28120f75",
   "metadata": {},
   "outputs": [],
   "source": [
    "pivot_df.reset_index(inplace=True)\n",
    "pivot_df = pivot_df.rename_axis(None, axis=1)"
   ]
  },
  {
   "cell_type": "code",
   "execution_count": 23,
   "id": "05afebcc",
   "metadata": {},
   "outputs": [
    {
     "data": {
      "text/html": [
       "<div>\n",
       "<style scoped>\n",
       "    .dataframe tbody tr th:only-of-type {\n",
       "        vertical-align: middle;\n",
       "    }\n",
       "\n",
       "    .dataframe tbody tr th {\n",
       "        vertical-align: top;\n",
       "    }\n",
       "\n",
       "    .dataframe thead th {\n",
       "        text-align: right;\n",
       "    }\n",
       "</style>\n",
       "<table border=\"1\" class=\"dataframe\">\n",
       "  <thead>\n",
       "    <tr style=\"text-align: right;\">\n",
       "      <th></th>\n",
       "      <th>itemid</th>\n",
       "      <th>0</th>\n",
       "      <th>1</th>\n",
       "      <th>10</th>\n",
       "      <th>100</th>\n",
       "      <th>1000</th>\n",
       "      <th>1001</th>\n",
       "      <th>1002</th>\n",
       "      <th>1003</th>\n",
       "      <th>1004</th>\n",
       "      <th>...</th>\n",
       "      <th>992</th>\n",
       "      <th>993</th>\n",
       "      <th>994</th>\n",
       "      <th>995</th>\n",
       "      <th>996</th>\n",
       "      <th>997</th>\n",
       "      <th>998</th>\n",
       "      <th>999</th>\n",
       "      <th>available</th>\n",
       "      <th>categoryid</th>\n",
       "    </tr>\n",
       "  </thead>\n",
       "  <tbody>\n",
       "    <tr>\n",
       "      <th>0</th>\n",
       "      <td>24</td>\n",
       "      <td>NaN</td>\n",
       "      <td>NaN</td>\n",
       "      <td>NaN</td>\n",
       "      <td>NaN</td>\n",
       "      <td>NaN</td>\n",
       "      <td>NaN</td>\n",
       "      <td>NaN</td>\n",
       "      <td>NaN</td>\n",
       "      <td>NaN</td>\n",
       "      <td>...</td>\n",
       "      <td>NaN</td>\n",
       "      <td>NaN</td>\n",
       "      <td>412879.5</td>\n",
       "      <td>NaN</td>\n",
       "      <td>NaN</td>\n",
       "      <td>NaN</td>\n",
       "      <td>NaN</td>\n",
       "      <td>NaN</td>\n",
       "      <td>0.0</td>\n",
       "      <td>1244.0</td>\n",
       "    </tr>\n",
       "    <tr>\n",
       "      <th>1</th>\n",
       "      <td>32</td>\n",
       "      <td>NaN</td>\n",
       "      <td>NaN</td>\n",
       "      <td>NaN</td>\n",
       "      <td>NaN</td>\n",
       "      <td>NaN</td>\n",
       "      <td>NaN</td>\n",
       "      <td>NaN</td>\n",
       "      <td>NaN</td>\n",
       "      <td>NaN</td>\n",
       "      <td>...</td>\n",
       "      <td>NaN</td>\n",
       "      <td>881499.0</td>\n",
       "      <td>NaN</td>\n",
       "      <td>NaN</td>\n",
       "      <td>NaN</td>\n",
       "      <td>NaN</td>\n",
       "      <td>NaN</td>\n",
       "      <td>NaN</td>\n",
       "      <td>0.0</td>\n",
       "      <td>1173.0</td>\n",
       "    </tr>\n",
       "    <tr>\n",
       "      <th>2</th>\n",
       "      <td>341</td>\n",
       "      <td>NaN</td>\n",
       "      <td>NaN</td>\n",
       "      <td>NaN</td>\n",
       "      <td>NaN</td>\n",
       "      <td>NaN</td>\n",
       "      <td>NaN</td>\n",
       "      <td>NaN</td>\n",
       "      <td>NaN</td>\n",
       "      <td>NaN</td>\n",
       "      <td>...</td>\n",
       "      <td>NaN</td>\n",
       "      <td>NaN</td>\n",
       "      <td>NaN</td>\n",
       "      <td>NaN</td>\n",
       "      <td>NaN</td>\n",
       "      <td>NaN</td>\n",
       "      <td>NaN</td>\n",
       "      <td>NaN</td>\n",
       "      <td>0.0</td>\n",
       "      <td>1203.0</td>\n",
       "    </tr>\n",
       "    <tr>\n",
       "      <th>3</th>\n",
       "      <td>346</td>\n",
       "      <td>NaN</td>\n",
       "      <td>NaN</td>\n",
       "      <td>NaN</td>\n",
       "      <td>NaN</td>\n",
       "      <td>NaN</td>\n",
       "      <td>NaN</td>\n",
       "      <td>NaN</td>\n",
       "      <td>NaN</td>\n",
       "      <td>NaN</td>\n",
       "      <td>...</td>\n",
       "      <td>NaN</td>\n",
       "      <td>NaN</td>\n",
       "      <td>NaN</td>\n",
       "      <td>NaN</td>\n",
       "      <td>NaN</td>\n",
       "      <td>NaN</td>\n",
       "      <td>NaN</td>\n",
       "      <td>NaN</td>\n",
       "      <td>1.0</td>\n",
       "      <td>806.0</td>\n",
       "    </tr>\n",
       "    <tr>\n",
       "      <th>4</th>\n",
       "      <td>374</td>\n",
       "      <td>NaN</td>\n",
       "      <td>NaN</td>\n",
       "      <td>NaN</td>\n",
       "      <td>NaN</td>\n",
       "      <td>NaN</td>\n",
       "      <td>NaN</td>\n",
       "      <td>NaN</td>\n",
       "      <td>NaN</td>\n",
       "      <td>NaN</td>\n",
       "      <td>...</td>\n",
       "      <td>NaN</td>\n",
       "      <td>NaN</td>\n",
       "      <td>NaN</td>\n",
       "      <td>NaN</td>\n",
       "      <td>NaN</td>\n",
       "      <td>NaN</td>\n",
       "      <td>NaN</td>\n",
       "      <td>NaN</td>\n",
       "      <td>0.0</td>\n",
       "      <td>13.0</td>\n",
       "    </tr>\n",
       "  </tbody>\n",
       "</table>\n",
       "<p>5 rows × 1001 columns</p>\n",
       "</div>"
      ],
      "text/plain": [
       "   itemid   0   1  10  100  1000  1001  1002  1003  1004  ...  992       993  \\\n",
       "0      24 NaN NaN NaN  NaN   NaN   NaN   NaN   NaN   NaN  ...  NaN       NaN   \n",
       "1      32 NaN NaN NaN  NaN   NaN   NaN   NaN   NaN   NaN  ...  NaN  881499.0   \n",
       "2     341 NaN NaN NaN  NaN   NaN   NaN   NaN   NaN   NaN  ...  NaN       NaN   \n",
       "3     346 NaN NaN NaN  NaN   NaN   NaN   NaN   NaN   NaN  ...  NaN       NaN   \n",
       "4     374 NaN NaN NaN  NaN   NaN   NaN   NaN   NaN   NaN  ...  NaN       NaN   \n",
       "\n",
       "        994  995  996  997  998  999  available  categoryid  \n",
       "0  412879.5  NaN  NaN  NaN  NaN  NaN        0.0      1244.0  \n",
       "1       NaN  NaN  NaN  NaN  NaN  NaN        0.0      1173.0  \n",
       "2       NaN  NaN  NaN  NaN  NaN  NaN        0.0      1203.0  \n",
       "3       NaN  NaN  NaN  NaN  NaN  NaN        1.0       806.0  \n",
       "4       NaN  NaN  NaN  NaN  NaN  NaN        0.0        13.0  \n",
       "\n",
       "[5 rows x 1001 columns]"
      ]
     },
     "execution_count": 23,
     "metadata": {},
     "output_type": "execute_result"
    }
   ],
   "source": [
    "pivot_df.head()"
   ]
  },
  {
   "cell_type": "code",
   "execution_count": 24,
   "id": "12b7c5aa",
   "metadata": {},
   "outputs": [],
   "source": [
    "# Fill missing values with 0\n",
    "pivot_df = pivot_df.fillna(0)"
   ]
  },
  {
   "cell_type": "code",
   "execution_count": 25,
   "id": "61851128",
   "metadata": {},
   "outputs": [],
   "source": [
    "# We will remove the 'available' column since we know that it has no influence on user preferences\n",
    "pivot_df.drop(columns=['available'], inplace=True)"
   ]
  },
  {
   "cell_type": "code",
   "execution_count": 26,
   "id": "ab103d33",
   "metadata": {},
   "outputs": [
    {
     "data": {
      "text/html": [
       "<div>\n",
       "<style scoped>\n",
       "    .dataframe tbody tr th:only-of-type {\n",
       "        vertical-align: middle;\n",
       "    }\n",
       "\n",
       "    .dataframe tbody tr th {\n",
       "        vertical-align: top;\n",
       "    }\n",
       "\n",
       "    .dataframe thead th {\n",
       "        text-align: right;\n",
       "    }\n",
       "</style>\n",
       "<table border=\"1\" class=\"dataframe\">\n",
       "  <thead>\n",
       "    <tr style=\"text-align: right;\">\n",
       "      <th></th>\n",
       "      <th>itemid</th>\n",
       "      <th>0</th>\n",
       "      <th>1</th>\n",
       "      <th>10</th>\n",
       "      <th>100</th>\n",
       "      <th>1000</th>\n",
       "      <th>1001</th>\n",
       "      <th>1002</th>\n",
       "      <th>1003</th>\n",
       "      <th>1004</th>\n",
       "      <th>...</th>\n",
       "      <th>991</th>\n",
       "      <th>992</th>\n",
       "      <th>993</th>\n",
       "      <th>994</th>\n",
       "      <th>995</th>\n",
       "      <th>996</th>\n",
       "      <th>997</th>\n",
       "      <th>998</th>\n",
       "      <th>999</th>\n",
       "      <th>categoryid</th>\n",
       "    </tr>\n",
       "  </thead>\n",
       "  <tbody>\n",
       "    <tr>\n",
       "      <th>0</th>\n",
       "      <td>24</td>\n",
       "      <td>0.0</td>\n",
       "      <td>0.0</td>\n",
       "      <td>0.0</td>\n",
       "      <td>0.0</td>\n",
       "      <td>0.0</td>\n",
       "      <td>0.0</td>\n",
       "      <td>0.0</td>\n",
       "      <td>0.0</td>\n",
       "      <td>0.0</td>\n",
       "      <td>...</td>\n",
       "      <td>0.0</td>\n",
       "      <td>0.0</td>\n",
       "      <td>0.0</td>\n",
       "      <td>412879.5</td>\n",
       "      <td>0.0</td>\n",
       "      <td>0.0</td>\n",
       "      <td>0.0</td>\n",
       "      <td>0.0</td>\n",
       "      <td>0.0</td>\n",
       "      <td>1244.0</td>\n",
       "    </tr>\n",
       "    <tr>\n",
       "      <th>1</th>\n",
       "      <td>32</td>\n",
       "      <td>0.0</td>\n",
       "      <td>0.0</td>\n",
       "      <td>0.0</td>\n",
       "      <td>0.0</td>\n",
       "      <td>0.0</td>\n",
       "      <td>0.0</td>\n",
       "      <td>0.0</td>\n",
       "      <td>0.0</td>\n",
       "      <td>0.0</td>\n",
       "      <td>...</td>\n",
       "      <td>0.0</td>\n",
       "      <td>0.0</td>\n",
       "      <td>881499.0</td>\n",
       "      <td>0.0</td>\n",
       "      <td>0.0</td>\n",
       "      <td>0.0</td>\n",
       "      <td>0.0</td>\n",
       "      <td>0.0</td>\n",
       "      <td>0.0</td>\n",
       "      <td>1173.0</td>\n",
       "    </tr>\n",
       "    <tr>\n",
       "      <th>2</th>\n",
       "      <td>341</td>\n",
       "      <td>0.0</td>\n",
       "      <td>0.0</td>\n",
       "      <td>0.0</td>\n",
       "      <td>0.0</td>\n",
       "      <td>0.0</td>\n",
       "      <td>0.0</td>\n",
       "      <td>0.0</td>\n",
       "      <td>0.0</td>\n",
       "      <td>0.0</td>\n",
       "      <td>...</td>\n",
       "      <td>0.0</td>\n",
       "      <td>0.0</td>\n",
       "      <td>0.0</td>\n",
       "      <td>0.0</td>\n",
       "      <td>0.0</td>\n",
       "      <td>0.0</td>\n",
       "      <td>0.0</td>\n",
       "      <td>0.0</td>\n",
       "      <td>0.0</td>\n",
       "      <td>1203.0</td>\n",
       "    </tr>\n",
       "    <tr>\n",
       "      <th>3</th>\n",
       "      <td>346</td>\n",
       "      <td>0.0</td>\n",
       "      <td>0.0</td>\n",
       "      <td>0.0</td>\n",
       "      <td>0.0</td>\n",
       "      <td>0.0</td>\n",
       "      <td>0.0</td>\n",
       "      <td>0.0</td>\n",
       "      <td>0.0</td>\n",
       "      <td>0.0</td>\n",
       "      <td>...</td>\n",
       "      <td>0.0</td>\n",
       "      <td>0.0</td>\n",
       "      <td>0.0</td>\n",
       "      <td>0.0</td>\n",
       "      <td>0.0</td>\n",
       "      <td>0.0</td>\n",
       "      <td>0.0</td>\n",
       "      <td>0.0</td>\n",
       "      <td>0.0</td>\n",
       "      <td>806.0</td>\n",
       "    </tr>\n",
       "    <tr>\n",
       "      <th>4</th>\n",
       "      <td>374</td>\n",
       "      <td>0.0</td>\n",
       "      <td>0.0</td>\n",
       "      <td>0.0</td>\n",
       "      <td>0.0</td>\n",
       "      <td>0.0</td>\n",
       "      <td>0.0</td>\n",
       "      <td>0.0</td>\n",
       "      <td>0.0</td>\n",
       "      <td>0.0</td>\n",
       "      <td>...</td>\n",
       "      <td>0.0</td>\n",
       "      <td>0.0</td>\n",
       "      <td>0.0</td>\n",
       "      <td>0.0</td>\n",
       "      <td>0.0</td>\n",
       "      <td>0.0</td>\n",
       "      <td>0.0</td>\n",
       "      <td>0.0</td>\n",
       "      <td>0.0</td>\n",
       "      <td>13.0</td>\n",
       "    </tr>\n",
       "  </tbody>\n",
       "</table>\n",
       "<p>5 rows × 1000 columns</p>\n",
       "</div>"
      ],
      "text/plain": [
       "   itemid    0    1   10  100  1000  1001  1002  1003  1004  ...  991  992  \\\n",
       "0      24  0.0  0.0  0.0  0.0   0.0   0.0   0.0   0.0   0.0  ...  0.0  0.0   \n",
       "1      32  0.0  0.0  0.0  0.0   0.0   0.0   0.0   0.0   0.0  ...  0.0  0.0   \n",
       "2     341  0.0  0.0  0.0  0.0   0.0   0.0   0.0   0.0   0.0  ...  0.0  0.0   \n",
       "3     346  0.0  0.0  0.0  0.0   0.0   0.0   0.0   0.0   0.0  ...  0.0  0.0   \n",
       "4     374  0.0  0.0  0.0  0.0   0.0   0.0   0.0   0.0   0.0  ...  0.0  0.0   \n",
       "\n",
       "        993       994  995  996  997  998  999  categoryid  \n",
       "0       0.0  412879.5  0.0  0.0  0.0  0.0  0.0      1244.0  \n",
       "1  881499.0       0.0  0.0  0.0  0.0  0.0  0.0      1173.0  \n",
       "2       0.0       0.0  0.0  0.0  0.0  0.0  0.0      1203.0  \n",
       "3       0.0       0.0  0.0  0.0  0.0  0.0  0.0       806.0  \n",
       "4       0.0       0.0  0.0  0.0  0.0  0.0  0.0        13.0  \n",
       "\n",
       "[5 rows x 1000 columns]"
      ]
     },
     "execution_count": 26,
     "metadata": {},
     "output_type": "execute_result"
    }
   ],
   "source": [
    "pivot_df.head()"
   ]
  },
  {
   "cell_type": "code",
   "execution_count": 27,
   "id": "150ffd7c",
   "metadata": {},
   "outputs": [
    {
     "data": {
      "text/plain": [
       "(10000, 1000)"
      ]
     },
     "execution_count": 27,
     "metadata": {},
     "output_type": "execute_result"
    }
   ],
   "source": [
    "pivot_df.shape"
   ]
  },
  {
   "cell_type": "code",
   "execution_count": 28,
   "id": "d71f3306",
   "metadata": {},
   "outputs": [
    {
     "data": {
      "text/html": [
       "<div>\n",
       "<style scoped>\n",
       "    .dataframe tbody tr th:only-of-type {\n",
       "        vertical-align: middle;\n",
       "    }\n",
       "\n",
       "    .dataframe tbody tr th {\n",
       "        vertical-align: top;\n",
       "    }\n",
       "\n",
       "    .dataframe thead th {\n",
       "        text-align: right;\n",
       "    }\n",
       "</style>\n",
       "<table border=\"1\" class=\"dataframe\">\n",
       "  <thead>\n",
       "    <tr style=\"text-align: right;\">\n",
       "      <th></th>\n",
       "      <th>itemid</th>\n",
       "      <th>0</th>\n",
       "      <th>1</th>\n",
       "      <th>10</th>\n",
       "      <th>100</th>\n",
       "      <th>1000</th>\n",
       "      <th>1001</th>\n",
       "      <th>1002</th>\n",
       "      <th>1003</th>\n",
       "      <th>1004</th>\n",
       "      <th>...</th>\n",
       "      <th>991</th>\n",
       "      <th>992</th>\n",
       "      <th>993</th>\n",
       "      <th>994</th>\n",
       "      <th>995</th>\n",
       "      <th>996</th>\n",
       "      <th>997</th>\n",
       "      <th>998</th>\n",
       "      <th>999</th>\n",
       "      <th>categoryid</th>\n",
       "    </tr>\n",
       "  </thead>\n",
       "  <tbody>\n",
       "    <tr>\n",
       "      <th>count</th>\n",
       "      <td>10000.000000</td>\n",
       "      <td>1.000000e+04</td>\n",
       "      <td>1.000000e+04</td>\n",
       "      <td>1.000000e+04</td>\n",
       "      <td>1.000000e+04</td>\n",
       "      <td>10000.000000</td>\n",
       "      <td>10000.000000</td>\n",
       "      <td>1.000000e+04</td>\n",
       "      <td>10000.000000</td>\n",
       "      <td>1.000000e+04</td>\n",
       "      <td>...</td>\n",
       "      <td>10000.000000</td>\n",
       "      <td>10000.000000</td>\n",
       "      <td>1.000000e+04</td>\n",
       "      <td>1.000000e+04</td>\n",
       "      <td>1.000000e+04</td>\n",
       "      <td>10000.000000</td>\n",
       "      <td>1.000000e+04</td>\n",
       "      <td>10000.000000</td>\n",
       "      <td>1.000000e+04</td>\n",
       "      <td>10000.000000</td>\n",
       "    </tr>\n",
       "    <tr>\n",
       "      <th>mean</th>\n",
       "      <td>234675.325800</td>\n",
       "      <td>1.858281e+04</td>\n",
       "      <td>1.396729e+04</td>\n",
       "      <td>1.675040e+03</td>\n",
       "      <td>3.647551e+02</td>\n",
       "      <td>6532.442550</td>\n",
       "      <td>0.266400</td>\n",
       "      <td>4.466772e+02</td>\n",
       "      <td>291.106200</td>\n",
       "      <td>7.164309e+03</td>\n",
       "      <td>...</td>\n",
       "      <td>30.951000</td>\n",
       "      <td>2240.091800</td>\n",
       "      <td>1.545601e+04</td>\n",
       "      <td>2.447441e+04</td>\n",
       "      <td>2.233386e+02</td>\n",
       "      <td>87.467900</td>\n",
       "      <td>6.633668e+03</td>\n",
       "      <td>769.076400</td>\n",
       "      <td>6.700158e+02</td>\n",
       "      <td>836.205300</td>\n",
       "    </tr>\n",
       "    <tr>\n",
       "      <th>std</th>\n",
       "      <td>135217.658458</td>\n",
       "      <td>1.170726e+05</td>\n",
       "      <td>1.274512e+05</td>\n",
       "      <td>4.321905e+04</td>\n",
       "      <td>1.761208e+04</td>\n",
       "      <td>77224.819771</td>\n",
       "      <td>6.192905</td>\n",
       "      <td>2.233051e+04</td>\n",
       "      <td>16805.343339</td>\n",
       "      <td>7.512810e+04</td>\n",
       "      <td>...</td>\n",
       "      <td>564.265312</td>\n",
       "      <td>31730.169019</td>\n",
       "      <td>1.090456e+05</td>\n",
       "      <td>1.366406e+05</td>\n",
       "      <td>1.579163e+04</td>\n",
       "      <td>8495.401601</td>\n",
       "      <td>7.351502e+04</td>\n",
       "      <td>24308.927872</td>\n",
       "      <td>2.734644e+04</td>\n",
       "      <td>473.855762</td>\n",
       "    </tr>\n",
       "    <tr>\n",
       "      <th>min</th>\n",
       "      <td>24.000000</td>\n",
       "      <td>0.000000e+00</td>\n",
       "      <td>0.000000e+00</td>\n",
       "      <td>0.000000e+00</td>\n",
       "      <td>0.000000e+00</td>\n",
       "      <td>0.000000</td>\n",
       "      <td>0.000000</td>\n",
       "      <td>0.000000e+00</td>\n",
       "      <td>0.000000</td>\n",
       "      <td>0.000000e+00</td>\n",
       "      <td>...</td>\n",
       "      <td>0.000000</td>\n",
       "      <td>0.000000</td>\n",
       "      <td>0.000000e+00</td>\n",
       "      <td>0.000000e+00</td>\n",
       "      <td>0.000000e+00</td>\n",
       "      <td>0.000000</td>\n",
       "      <td>0.000000e+00</td>\n",
       "      <td>0.000000</td>\n",
       "      <td>0.000000e+00</td>\n",
       "      <td>0.000000</td>\n",
       "    </tr>\n",
       "    <tr>\n",
       "      <th>25%</th>\n",
       "      <td>116205.250000</td>\n",
       "      <td>0.000000e+00</td>\n",
       "      <td>0.000000e+00</td>\n",
       "      <td>0.000000e+00</td>\n",
       "      <td>0.000000e+00</td>\n",
       "      <td>0.000000</td>\n",
       "      <td>0.000000</td>\n",
       "      <td>0.000000e+00</td>\n",
       "      <td>0.000000</td>\n",
       "      <td>0.000000e+00</td>\n",
       "      <td>...</td>\n",
       "      <td>0.000000</td>\n",
       "      <td>0.000000</td>\n",
       "      <td>0.000000e+00</td>\n",
       "      <td>0.000000e+00</td>\n",
       "      <td>0.000000e+00</td>\n",
       "      <td>0.000000</td>\n",
       "      <td>0.000000e+00</td>\n",
       "      <td>0.000000</td>\n",
       "      <td>0.000000e+00</td>\n",
       "      <td>374.000000</td>\n",
       "    </tr>\n",
       "    <tr>\n",
       "      <th>50%</th>\n",
       "      <td>235716.500000</td>\n",
       "      <td>0.000000e+00</td>\n",
       "      <td>0.000000e+00</td>\n",
       "      <td>0.000000e+00</td>\n",
       "      <td>0.000000e+00</td>\n",
       "      <td>0.000000</td>\n",
       "      <td>0.000000</td>\n",
       "      <td>0.000000e+00</td>\n",
       "      <td>0.000000</td>\n",
       "      <td>0.000000e+00</td>\n",
       "      <td>...</td>\n",
       "      <td>0.000000</td>\n",
       "      <td>0.000000</td>\n",
       "      <td>0.000000e+00</td>\n",
       "      <td>0.000000e+00</td>\n",
       "      <td>0.000000e+00</td>\n",
       "      <td>0.000000</td>\n",
       "      <td>0.000000e+00</td>\n",
       "      <td>0.000000</td>\n",
       "      <td>0.000000e+00</td>\n",
       "      <td>844.000000</td>\n",
       "    </tr>\n",
       "    <tr>\n",
       "      <th>75%</th>\n",
       "      <td>352417.250000</td>\n",
       "      <td>0.000000e+00</td>\n",
       "      <td>0.000000e+00</td>\n",
       "      <td>0.000000e+00</td>\n",
       "      <td>0.000000e+00</td>\n",
       "      <td>0.000000</td>\n",
       "      <td>0.000000</td>\n",
       "      <td>0.000000e+00</td>\n",
       "      <td>0.000000</td>\n",
       "      <td>0.000000e+00</td>\n",
       "      <td>...</td>\n",
       "      <td>0.000000</td>\n",
       "      <td>0.000000</td>\n",
       "      <td>0.000000e+00</td>\n",
       "      <td>0.000000e+00</td>\n",
       "      <td>0.000000e+00</td>\n",
       "      <td>0.000000</td>\n",
       "      <td>0.000000e+00</td>\n",
       "      <td>0.000000</td>\n",
       "      <td>0.000000e+00</td>\n",
       "      <td>1250.000000</td>\n",
       "    </tr>\n",
       "    <tr>\n",
       "      <th>max</th>\n",
       "      <td>466826.000000</td>\n",
       "      <td>1.250968e+06</td>\n",
       "      <td>1.200832e+06</td>\n",
       "      <td>1.116693e+06</td>\n",
       "      <td>1.133979e+06</td>\n",
       "      <td>946867.500000</td>\n",
       "      <td>168.000000</td>\n",
       "      <td>1.116693e+06</td>\n",
       "      <td>970354.000000</td>\n",
       "      <td>1.155283e+06</td>\n",
       "      <td>...</td>\n",
       "      <td>10317.000000</td>\n",
       "      <td>769062.000000</td>\n",
       "      <td>1.246919e+06</td>\n",
       "      <td>1.336541e+06</td>\n",
       "      <td>1.116693e+06</td>\n",
       "      <td>849515.000000</td>\n",
       "      <td>1.333885e+06</td>\n",
       "      <td>769062.000000</td>\n",
       "      <td>1.116693e+06</td>\n",
       "      <td>1694.000000</td>\n",
       "    </tr>\n",
       "  </tbody>\n",
       "</table>\n",
       "<p>8 rows × 1000 columns</p>\n",
       "</div>"
      ],
      "text/plain": [
       "              itemid             0             1            10           100  \\\n",
       "count   10000.000000  1.000000e+04  1.000000e+04  1.000000e+04  1.000000e+04   \n",
       "mean   234675.325800  1.858281e+04  1.396729e+04  1.675040e+03  3.647551e+02   \n",
       "std    135217.658458  1.170726e+05  1.274512e+05  4.321905e+04  1.761208e+04   \n",
       "min        24.000000  0.000000e+00  0.000000e+00  0.000000e+00  0.000000e+00   \n",
       "25%    116205.250000  0.000000e+00  0.000000e+00  0.000000e+00  0.000000e+00   \n",
       "50%    235716.500000  0.000000e+00  0.000000e+00  0.000000e+00  0.000000e+00   \n",
       "75%    352417.250000  0.000000e+00  0.000000e+00  0.000000e+00  0.000000e+00   \n",
       "max    466826.000000  1.250968e+06  1.200832e+06  1.116693e+06  1.133979e+06   \n",
       "\n",
       "                1000          1001          1002           1003          1004  \\\n",
       "count   10000.000000  10000.000000  1.000000e+04   10000.000000  1.000000e+04   \n",
       "mean     6532.442550      0.266400  4.466772e+02     291.106200  7.164309e+03   \n",
       "std     77224.819771      6.192905  2.233051e+04   16805.343339  7.512810e+04   \n",
       "min         0.000000      0.000000  0.000000e+00       0.000000  0.000000e+00   \n",
       "25%         0.000000      0.000000  0.000000e+00       0.000000  0.000000e+00   \n",
       "50%         0.000000      0.000000  0.000000e+00       0.000000  0.000000e+00   \n",
       "75%         0.000000      0.000000  0.000000e+00       0.000000  0.000000e+00   \n",
       "max    946867.500000    168.000000  1.116693e+06  970354.000000  1.155283e+06   \n",
       "\n",
       "       ...           991            992           993           994  \\\n",
       "count  ...  10000.000000   10000.000000  1.000000e+04  1.000000e+04   \n",
       "mean   ...     30.951000    2240.091800  1.545601e+04  2.447441e+04   \n",
       "std    ...    564.265312   31730.169019  1.090456e+05  1.366406e+05   \n",
       "min    ...      0.000000       0.000000  0.000000e+00  0.000000e+00   \n",
       "25%    ...      0.000000       0.000000  0.000000e+00  0.000000e+00   \n",
       "50%    ...      0.000000       0.000000  0.000000e+00  0.000000e+00   \n",
       "75%    ...      0.000000       0.000000  0.000000e+00  0.000000e+00   \n",
       "max    ...  10317.000000  769062.000000  1.246919e+06  1.336541e+06   \n",
       "\n",
       "                995            996           997            998           999  \\\n",
       "count  1.000000e+04   10000.000000  1.000000e+04   10000.000000  1.000000e+04   \n",
       "mean   2.233386e+02      87.467900  6.633668e+03     769.076400  6.700158e+02   \n",
       "std    1.579163e+04    8495.401601  7.351502e+04   24308.927872  2.734644e+04   \n",
       "min    0.000000e+00       0.000000  0.000000e+00       0.000000  0.000000e+00   \n",
       "25%    0.000000e+00       0.000000  0.000000e+00       0.000000  0.000000e+00   \n",
       "50%    0.000000e+00       0.000000  0.000000e+00       0.000000  0.000000e+00   \n",
       "75%    0.000000e+00       0.000000  0.000000e+00       0.000000  0.000000e+00   \n",
       "max    1.116693e+06  849515.000000  1.333885e+06  769062.000000  1.116693e+06   \n",
       "\n",
       "         categoryid  \n",
       "count  10000.000000  \n",
       "mean     836.205300  \n",
       "std      473.855762  \n",
       "min        0.000000  \n",
       "25%      374.000000  \n",
       "50%      844.000000  \n",
       "75%     1250.000000  \n",
       "max     1694.000000  \n",
       "\n",
       "[8 rows x 1000 columns]"
      ]
     },
     "execution_count": 28,
     "metadata": {},
     "output_type": "execute_result"
    }
   ],
   "source": [
    "pivot_df.describe()"
   ]
  },
  {
   "cell_type": "markdown",
   "id": "2cabbe8c",
   "metadata": {},
   "source": [
    "We will apply PCA to this matrix in order to reduce dimensionnlaity, with a new Vector Space with 3 dim. "
   ]
  },
  {
   "cell_type": "code",
   "execution_count": 29,
   "id": "4272c4c4",
   "metadata": {},
   "outputs": [],
   "source": [
    "X = pivot_df.drop(columns=['itemid']).to_numpy()"
   ]
  },
  {
   "cell_type": "code",
   "execution_count": 30,
   "id": "c53ce4f7",
   "metadata": {},
   "outputs": [
    {
     "name": "stdout",
     "output_type": "stream",
     "text": [
      "[9.99998849e-01 1.15142410e-06 6.88435667e-13 7.25498107e-17]\n"
     ]
    }
   ],
   "source": [
    "pca = PCA(n_components=4)\n",
    "pca.fit(X)\n",
    "print(pca.explained_variance_ratio_)"
   ]
  },
  {
   "cell_type": "code",
   "execution_count": 31,
   "id": "d00530d4",
   "metadata": {},
   "outputs": [],
   "source": [
    "# We see that we didn't loose much information, \n",
    "# the first Principal Component itself preserve 0.9 of information and variance"
   ]
  },
  {
   "cell_type": "code",
   "execution_count": 32,
   "id": "4ccb8228",
   "metadata": {},
   "outputs": [],
   "source": [
    "new_df = pd.concat([pivot_df[['itemid']], pd.DataFrame(pca.transform(X))], axis=1)"
   ]
  },
  {
   "cell_type": "code",
   "execution_count": 33,
   "id": "0fee9e11",
   "metadata": {},
   "outputs": [
    {
     "data": {
      "text/html": [
       "<div>\n",
       "<style scoped>\n",
       "    .dataframe tbody tr th:only-of-type {\n",
       "        vertical-align: middle;\n",
       "    }\n",
       "\n",
       "    .dataframe tbody tr th {\n",
       "        vertical-align: top;\n",
       "    }\n",
       "\n",
       "    .dataframe thead th {\n",
       "        text-align: right;\n",
       "    }\n",
       "</style>\n",
       "<table border=\"1\" class=\"dataframe\">\n",
       "  <thead>\n",
       "    <tr style=\"text-align: right;\">\n",
       "      <th></th>\n",
       "      <th>itemid</th>\n",
       "      <th>0</th>\n",
       "      <th>1</th>\n",
       "      <th>2</th>\n",
       "      <th>3</th>\n",
       "    </tr>\n",
       "  </thead>\n",
       "  <tbody>\n",
       "    <tr>\n",
       "      <th>0</th>\n",
       "      <td>24</td>\n",
       "      <td>-7.343170e+13</td>\n",
       "      <td>-9.522881e+11</td>\n",
       "      <td>-1.263700e+08</td>\n",
       "      <td>-832108.347096</td>\n",
       "    </tr>\n",
       "    <tr>\n",
       "      <th>1</th>\n",
       "      <td>32</td>\n",
       "      <td>-7.343170e+13</td>\n",
       "      <td>-9.522881e+11</td>\n",
       "      <td>-1.264363e+08</td>\n",
       "      <td>-949808.022292</td>\n",
       "    </tr>\n",
       "    <tr>\n",
       "      <th>2</th>\n",
       "      <td>341</td>\n",
       "      <td>-7.343170e+13</td>\n",
       "      <td>-9.522881e+11</td>\n",
       "      <td>-1.261798e+08</td>\n",
       "      <td>-870708.315217</td>\n",
       "    </tr>\n",
       "    <tr>\n",
       "      <th>3</th>\n",
       "      <td>346</td>\n",
       "      <td>-7.343170e+13</td>\n",
       "      <td>-9.522881e+11</td>\n",
       "      <td>-1.261981e+08</td>\n",
       "      <td>-831900.329934</td>\n",
       "    </tr>\n",
       "    <tr>\n",
       "      <th>4</th>\n",
       "      <td>374</td>\n",
       "      <td>-7.343170e+13</td>\n",
       "      <td>-9.522881e+11</td>\n",
       "      <td>-1.268190e+08</td>\n",
       "      <td>-831703.790518</td>\n",
       "    </tr>\n",
       "  </tbody>\n",
       "</table>\n",
       "</div>"
      ],
      "text/plain": [
       "   itemid             0             1             2              3\n",
       "0      24 -7.343170e+13 -9.522881e+11 -1.263700e+08 -832108.347096\n",
       "1      32 -7.343170e+13 -9.522881e+11 -1.264363e+08 -949808.022292\n",
       "2     341 -7.343170e+13 -9.522881e+11 -1.261798e+08 -870708.315217\n",
       "3     346 -7.343170e+13 -9.522881e+11 -1.261981e+08 -831900.329934\n",
       "4     374 -7.343170e+13 -9.522881e+11 -1.268190e+08 -831703.790518"
      ]
     },
     "execution_count": 33,
     "metadata": {},
     "output_type": "execute_result"
    }
   ],
   "source": [
    "new_df.head()"
   ]
  },
  {
   "cell_type": "code",
   "execution_count": 34,
   "id": "c4d8c128",
   "metadata": {},
   "outputs": [
    {
     "data": {
      "text/html": [
       "<div>\n",
       "<style scoped>\n",
       "    .dataframe tbody tr th:only-of-type {\n",
       "        vertical-align: middle;\n",
       "    }\n",
       "\n",
       "    .dataframe tbody tr th {\n",
       "        vertical-align: top;\n",
       "    }\n",
       "\n",
       "    .dataframe thead th {\n",
       "        text-align: right;\n",
       "    }\n",
       "</style>\n",
       "<table border=\"1\" class=\"dataframe\">\n",
       "  <thead>\n",
       "    <tr style=\"text-align: right;\">\n",
       "      <th></th>\n",
       "      <th>itemid</th>\n",
       "      <th>0</th>\n",
       "      <th>1</th>\n",
       "      <th>2</th>\n",
       "      <th>3</th>\n",
       "    </tr>\n",
       "  </thead>\n",
       "  <tbody>\n",
       "    <tr>\n",
       "      <th>count</th>\n",
       "      <td>10000.000000</td>\n",
       "      <td>1.000000e+04</td>\n",
       "      <td>1.000000e+04</td>\n",
       "      <td>1.000000e+04</td>\n",
       "      <td>1.000000e+04</td>\n",
       "    </tr>\n",
       "    <tr>\n",
       "      <th>mean</th>\n",
       "      <td>234675.325800</td>\n",
       "      <td>-4.800000e-03</td>\n",
       "      <td>-4.187500e-04</td>\n",
       "      <td>-1.281738e-07</td>\n",
       "      <td>-1.470089e-07</td>\n",
       "    </tr>\n",
       "    <tr>\n",
       "      <th>std</th>\n",
       "      <td>135217.658458</td>\n",
       "      <td>7.117619e+15</td>\n",
       "      <td>7.637525e+12</td>\n",
       "      <td>5.905636e+09</td>\n",
       "      <td>6.062519e+07</td>\n",
       "    </tr>\n",
       "    <tr>\n",
       "      <th>min</th>\n",
       "      <td>24.000000</td>\n",
       "      <td>-7.343170e+13</td>\n",
       "      <td>-9.522888e+11</td>\n",
       "      <td>-1.271100e+08</td>\n",
       "      <td>-3.560265e+07</td>\n",
       "    </tr>\n",
       "    <tr>\n",
       "      <th>25%</th>\n",
       "      <td>116205.250000</td>\n",
       "      <td>-7.343170e+13</td>\n",
       "      <td>-9.522881e+11</td>\n",
       "      <td>-1.264517e+08</td>\n",
       "      <td>-8.654774e+05</td>\n",
       "    </tr>\n",
       "    <tr>\n",
       "      <th>50%</th>\n",
       "      <td>235716.500000</td>\n",
       "      <td>-7.343170e+13</td>\n",
       "      <td>-9.522881e+11</td>\n",
       "      <td>-1.261473e+08</td>\n",
       "      <td>-8.318954e+05</td>\n",
       "    </tr>\n",
       "    <tr>\n",
       "      <th>75%</th>\n",
       "      <td>352417.250000</td>\n",
       "      <td>-7.343170e+13</td>\n",
       "      <td>-9.522881e+11</td>\n",
       "      <td>-1.258308e+08</td>\n",
       "      <td>-8.315706e+05</td>\n",
       "    </tr>\n",
       "    <tr>\n",
       "      <th>max</th>\n",
       "      <td>466826.000000</td>\n",
       "      <td>7.116131e+17</td>\n",
       "      <td>1.061734e+14</td>\n",
       "      <td>3.394525e+11</td>\n",
       "      <td>5.412398e+09</td>\n",
       "    </tr>\n",
       "  </tbody>\n",
       "</table>\n",
       "</div>"
      ],
      "text/plain": [
       "              itemid             0             1             2             3\n",
       "count   10000.000000  1.000000e+04  1.000000e+04  1.000000e+04  1.000000e+04\n",
       "mean   234675.325800 -4.800000e-03 -4.187500e-04 -1.281738e-07 -1.470089e-07\n",
       "std    135217.658458  7.117619e+15  7.637525e+12  5.905636e+09  6.062519e+07\n",
       "min        24.000000 -7.343170e+13 -9.522888e+11 -1.271100e+08 -3.560265e+07\n",
       "25%    116205.250000 -7.343170e+13 -9.522881e+11 -1.264517e+08 -8.654774e+05\n",
       "50%    235716.500000 -7.343170e+13 -9.522881e+11 -1.261473e+08 -8.318954e+05\n",
       "75%    352417.250000 -7.343170e+13 -9.522881e+11 -1.258308e+08 -8.315706e+05\n",
       "max    466826.000000  7.116131e+17  1.061734e+14  3.394525e+11  5.412398e+09"
      ]
     },
     "execution_count": 34,
     "metadata": {},
     "output_type": "execute_result"
    }
   ],
   "source": [
    "new_df.describe()"
   ]
  },
  {
   "cell_type": "code",
   "execution_count": 35,
   "id": "e3dff674",
   "metadata": {},
   "outputs": [],
   "source": [
    "# We will now remove outliers values from our dataframe in order not to disturb our future model :\n",
    "# Define a function to remove outliers using IQR\n",
    "def remove_outliers_iqr(df, column, lower_percentile=0.25, upper_percentile=0.75, threshold=1.5):\n",
    "    q1 = df[column].quantile(lower_percentile)\n",
    "    q3 = df[column].quantile(upper_percentile)\n",
    "    iqr = q3 - q1\n",
    "    lower_bound = q1 - threshold * iqr\n",
    "    upper_bound = q3 + threshold * iqr\n",
    "    return df[(df[column] >= lower_bound) & (df[column] <= upper_bound)]\n",
    "\n",
    "# Remove outliers for each column\n",
    "for column in new_df.columns:\n",
    "    new_df = remove_outliers_iqr(new_df, column)"
   ]
  },
  {
   "cell_type": "code",
   "execution_count": 36,
   "id": "d41fef05",
   "metadata": {},
   "outputs": [
    {
     "name": "stdout",
     "output_type": "stream",
     "text": [
      "<class 'pandas.core.frame.DataFrame'>\n",
      "Int64Index: 5870 entries, 0 to 9999\n",
      "Data columns (total 5 columns):\n",
      " #   Column  Non-Null Count  Dtype  \n",
      "---  ------  --------------  -----  \n",
      " 0   itemid  5870 non-null   int64  \n",
      " 1   0       5870 non-null   float64\n",
      " 2   1       5870 non-null   float64\n",
      " 3   2       5870 non-null   float64\n",
      " 4   3       5870 non-null   float64\n",
      "dtypes: float64(4), int64(1)\n",
      "memory usage: 275.2 KB\n"
     ]
    }
   ],
   "source": [
    "new_df.info()"
   ]
  },
  {
   "cell_type": "code",
   "execution_count": 37,
   "id": "4615bcc7",
   "metadata": {},
   "outputs": [],
   "source": [
    "new_df.reset_index(drop=True, inplace=True)"
   ]
  },
  {
   "cell_type": "code",
   "execution_count": 38,
   "id": "8a308c54",
   "metadata": {},
   "outputs": [
    {
     "data": {
      "text/html": [
       "<div>\n",
       "<style scoped>\n",
       "    .dataframe tbody tr th:only-of-type {\n",
       "        vertical-align: middle;\n",
       "    }\n",
       "\n",
       "    .dataframe tbody tr th {\n",
       "        vertical-align: top;\n",
       "    }\n",
       "\n",
       "    .dataframe thead th {\n",
       "        text-align: right;\n",
       "    }\n",
       "</style>\n",
       "<table border=\"1\" class=\"dataframe\">\n",
       "  <thead>\n",
       "    <tr style=\"text-align: right;\">\n",
       "      <th></th>\n",
       "      <th>itemid</th>\n",
       "      <th>0</th>\n",
       "      <th>1</th>\n",
       "      <th>2</th>\n",
       "      <th>3</th>\n",
       "    </tr>\n",
       "  </thead>\n",
       "  <tbody>\n",
       "    <tr>\n",
       "      <th>0</th>\n",
       "      <td>24</td>\n",
       "      <td>-7.343170e+13</td>\n",
       "      <td>-9.522881e+11</td>\n",
       "      <td>-1.263700e+08</td>\n",
       "      <td>-832108.347096</td>\n",
       "    </tr>\n",
       "    <tr>\n",
       "      <th>1</th>\n",
       "      <td>32</td>\n",
       "      <td>-7.343170e+13</td>\n",
       "      <td>-9.522881e+11</td>\n",
       "      <td>-1.264363e+08</td>\n",
       "      <td>-949808.022292</td>\n",
       "    </tr>\n",
       "    <tr>\n",
       "      <th>2</th>\n",
       "      <td>341</td>\n",
       "      <td>-7.343170e+13</td>\n",
       "      <td>-9.522881e+11</td>\n",
       "      <td>-1.261798e+08</td>\n",
       "      <td>-870708.315217</td>\n",
       "    </tr>\n",
       "    <tr>\n",
       "      <th>3</th>\n",
       "      <td>346</td>\n",
       "      <td>-7.343170e+13</td>\n",
       "      <td>-9.522881e+11</td>\n",
       "      <td>-1.261981e+08</td>\n",
       "      <td>-831900.329934</td>\n",
       "    </tr>\n",
       "    <tr>\n",
       "      <th>4</th>\n",
       "      <td>374</td>\n",
       "      <td>-7.343170e+13</td>\n",
       "      <td>-9.522881e+11</td>\n",
       "      <td>-1.268190e+08</td>\n",
       "      <td>-831703.790518</td>\n",
       "    </tr>\n",
       "    <tr>\n",
       "      <th>...</th>\n",
       "      <td>...</td>\n",
       "      <td>...</td>\n",
       "      <td>...</td>\n",
       "      <td>...</td>\n",
       "      <td>...</td>\n",
       "    </tr>\n",
       "    <tr>\n",
       "      <th>5865</th>\n",
       "      <td>466559</td>\n",
       "      <td>-7.343170e+13</td>\n",
       "      <td>-9.522881e+11</td>\n",
       "      <td>-1.262370e+08</td>\n",
       "      <td>-878860.851106</td>\n",
       "    </tr>\n",
       "    <tr>\n",
       "      <th>5866</th>\n",
       "      <td>466597</td>\n",
       "      <td>-7.343170e+13</td>\n",
       "      <td>-9.522881e+11</td>\n",
       "      <td>-1.263649e+08</td>\n",
       "      <td>-832020.966816</td>\n",
       "    </tr>\n",
       "    <tr>\n",
       "      <th>5867</th>\n",
       "      <td>466720</td>\n",
       "      <td>-7.343170e+13</td>\n",
       "      <td>-9.522881e+11</td>\n",
       "      <td>-1.265088e+08</td>\n",
       "      <td>-828207.288759</td>\n",
       "    </tr>\n",
       "    <tr>\n",
       "      <th>5868</th>\n",
       "      <td>466809</td>\n",
       "      <td>-7.343170e+13</td>\n",
       "      <td>-9.522881e+11</td>\n",
       "      <td>-1.257019e+08</td>\n",
       "      <td>-831781.104478</td>\n",
       "    </tr>\n",
       "    <tr>\n",
       "      <th>5869</th>\n",
       "      <td>466826</td>\n",
       "      <td>-7.343170e+13</td>\n",
       "      <td>-9.522881e+11</td>\n",
       "      <td>-1.261979e+08</td>\n",
       "      <td>-831892.487759</td>\n",
       "    </tr>\n",
       "  </tbody>\n",
       "</table>\n",
       "<p>5870 rows × 5 columns</p>\n",
       "</div>"
      ],
      "text/plain": [
       "      itemid             0             1             2              3\n",
       "0         24 -7.343170e+13 -9.522881e+11 -1.263700e+08 -832108.347096\n",
       "1         32 -7.343170e+13 -9.522881e+11 -1.264363e+08 -949808.022292\n",
       "2        341 -7.343170e+13 -9.522881e+11 -1.261798e+08 -870708.315217\n",
       "3        346 -7.343170e+13 -9.522881e+11 -1.261981e+08 -831900.329934\n",
       "4        374 -7.343170e+13 -9.522881e+11 -1.268190e+08 -831703.790518\n",
       "...      ...           ...           ...           ...            ...\n",
       "5865  466559 -7.343170e+13 -9.522881e+11 -1.262370e+08 -878860.851106\n",
       "5866  466597 -7.343170e+13 -9.522881e+11 -1.263649e+08 -832020.966816\n",
       "5867  466720 -7.343170e+13 -9.522881e+11 -1.265088e+08 -828207.288759\n",
       "5868  466809 -7.343170e+13 -9.522881e+11 -1.257019e+08 -831781.104478\n",
       "5869  466826 -7.343170e+13 -9.522881e+11 -1.261979e+08 -831892.487759\n",
       "\n",
       "[5870 rows x 5 columns]"
      ]
     },
     "execution_count": 38,
     "metadata": {},
     "output_type": "execute_result"
    }
   ],
   "source": [
    "new_df"
   ]
  },
  {
   "cell_type": "code",
   "execution_count": 39,
   "id": "7ddd1f36",
   "metadata": {},
   "outputs": [],
   "source": [
    "# more than 2K row was deleted since they were considered as outliers\n",
    "# We will apply a min max scaler so values will fall between 0 and 1"
   ]
  },
  {
   "cell_type": "code",
   "execution_count": 40,
   "id": "02bbe8b9",
   "metadata": {},
   "outputs": [],
   "source": [
    "scaler = MinMaxScaler(feature_range=(0,1))"
   ]
  },
  {
   "cell_type": "code",
   "execution_count": 41,
   "id": "af5d07d9",
   "metadata": {},
   "outputs": [],
   "source": [
    "X = new_df.drop(columns=['itemid']).to_numpy()"
   ]
  },
  {
   "cell_type": "code",
   "execution_count": 42,
   "id": "3edf7f74",
   "metadata": {},
   "outputs": [],
   "source": [
    "std_X = scaler.fit_transform(X)"
   ]
  },
  {
   "cell_type": "code",
   "execution_count": 43,
   "id": "4731afed",
   "metadata": {},
   "outputs": [],
   "source": [
    "# since all columns were hashed, we don't need to recover columns names we will just oreder them starting from 1, ...\n",
    "new_df = pd.concat([new_df[['itemid']], pd.DataFrame(std_X)], axis=1)"
   ]
  },
  {
   "cell_type": "code",
   "execution_count": 44,
   "id": "85e6242b",
   "metadata": {},
   "outputs": [
    {
     "data": {
      "text/html": [
       "<div>\n",
       "<style scoped>\n",
       "    .dataframe tbody tr th:only-of-type {\n",
       "        vertical-align: middle;\n",
       "    }\n",
       "\n",
       "    .dataframe tbody tr th {\n",
       "        vertical-align: top;\n",
       "    }\n",
       "\n",
       "    .dataframe thead th {\n",
       "        text-align: right;\n",
       "    }\n",
       "</style>\n",
       "<table border=\"1\" class=\"dataframe\">\n",
       "  <thead>\n",
       "    <tr style=\"text-align: right;\">\n",
       "      <th></th>\n",
       "      <th>itemid</th>\n",
       "      <th>0</th>\n",
       "      <th>1</th>\n",
       "      <th>2</th>\n",
       "      <th>3</th>\n",
       "    </tr>\n",
       "  </thead>\n",
       "  <tbody>\n",
       "    <tr>\n",
       "      <th>0</th>\n",
       "      <td>24</td>\n",
       "      <td>0.580582</td>\n",
       "      <td>0.629700</td>\n",
       "      <td>0.386993</td>\n",
       "      <td>0.622813</td>\n",
       "    </tr>\n",
       "    <tr>\n",
       "      <th>1</th>\n",
       "      <td>32</td>\n",
       "      <td>0.269411</td>\n",
       "      <td>0.625671</td>\n",
       "      <td>0.352327</td>\n",
       "      <td>0.037557</td>\n",
       "    </tr>\n",
       "    <tr>\n",
       "      <th>2</th>\n",
       "      <td>341</td>\n",
       "      <td>0.478068</td>\n",
       "      <td>0.522461</td>\n",
       "      <td>0.486456</td>\n",
       "      <td>0.430876</td>\n",
       "    </tr>\n",
       "    <tr>\n",
       "      <th>3</th>\n",
       "      <td>346</td>\n",
       "      <td>0.194144</td>\n",
       "      <td>0.501312</td>\n",
       "      <td>0.476841</td>\n",
       "      <td>0.623847</td>\n",
       "    </tr>\n",
       "    <tr>\n",
       "      <th>4</th>\n",
       "      <td>374</td>\n",
       "      <td>0.100824</td>\n",
       "      <td>0.797913</td>\n",
       "      <td>0.152209</td>\n",
       "      <td>0.624824</td>\n",
       "    </tr>\n",
       "  </tbody>\n",
       "</table>\n",
       "</div>"
      ],
      "text/plain": [
       "   itemid         0         1         2         3\n",
       "0      24  0.580582  0.629700  0.386993  0.622813\n",
       "1      32  0.269411  0.625671  0.352327  0.037557\n",
       "2     341  0.478068  0.522461  0.486456  0.430876\n",
       "3     346  0.194144  0.501312  0.476841  0.623847\n",
       "4     374  0.100824  0.797913  0.152209  0.624824"
      ]
     },
     "execution_count": 44,
     "metadata": {},
     "output_type": "execute_result"
    }
   ],
   "source": [
    "new_df.head()"
   ]
  },
  {
   "cell_type": "code",
   "execution_count": 45,
   "id": "c61aba30",
   "metadata": {},
   "outputs": [
    {
     "data": {
      "text/html": [
       "<div>\n",
       "<style scoped>\n",
       "    .dataframe tbody tr th:only-of-type {\n",
       "        vertical-align: middle;\n",
       "    }\n",
       "\n",
       "    .dataframe tbody tr th {\n",
       "        vertical-align: top;\n",
       "    }\n",
       "\n",
       "    .dataframe thead th {\n",
       "        text-align: right;\n",
       "    }\n",
       "</style>\n",
       "<table border=\"1\" class=\"dataframe\">\n",
       "  <thead>\n",
       "    <tr style=\"text-align: right;\">\n",
       "      <th></th>\n",
       "      <th>itemid</th>\n",
       "      <th>0</th>\n",
       "      <th>1</th>\n",
       "      <th>2</th>\n",
       "      <th>3</th>\n",
       "    </tr>\n",
       "  </thead>\n",
       "  <tbody>\n",
       "    <tr>\n",
       "      <th>count</th>\n",
       "      <td>5870.000000</td>\n",
       "      <td>5870.000000</td>\n",
       "      <td>5870.000000</td>\n",
       "      <td>5870.000000</td>\n",
       "      <td>5870.000000</td>\n",
       "    </tr>\n",
       "    <tr>\n",
       "      <th>mean</th>\n",
       "      <td>233974.765588</td>\n",
       "      <td>0.324786</td>\n",
       "      <td>0.501108</td>\n",
       "      <td>0.491730</td>\n",
       "      <td>0.582350</td>\n",
       "    </tr>\n",
       "    <tr>\n",
       "      <th>std</th>\n",
       "      <td>135962.012024</td>\n",
       "      <td>0.183306</td>\n",
       "      <td>0.215261</td>\n",
       "      <td>0.238272</td>\n",
       "      <td>0.162371</td>\n",
       "    </tr>\n",
       "    <tr>\n",
       "      <th>min</th>\n",
       "      <td>24.000000</td>\n",
       "      <td>0.000000</td>\n",
       "      <td>0.000000</td>\n",
       "      <td>0.000000</td>\n",
       "      <td>0.000000</td>\n",
       "    </tr>\n",
       "    <tr>\n",
       "      <th>25%</th>\n",
       "      <td>114986.500000</td>\n",
       "      <td>0.177994</td>\n",
       "      <td>0.349258</td>\n",
       "      <td>0.330146</td>\n",
       "      <td>0.623173</td>\n",
       "    </tr>\n",
       "    <tr>\n",
       "      <th>50%</th>\n",
       "      <td>234153.000000</td>\n",
       "      <td>0.328459</td>\n",
       "      <td>0.499176</td>\n",
       "      <td>0.492930</td>\n",
       "      <td>0.623975</td>\n",
       "    </tr>\n",
       "    <tr>\n",
       "      <th>75%</th>\n",
       "      <td>353066.500000</td>\n",
       "      <td>0.470588</td>\n",
       "      <td>0.645920</td>\n",
       "      <td>0.658690</td>\n",
       "      <td>0.624908</td>\n",
       "    </tr>\n",
       "    <tr>\n",
       "      <th>max</th>\n",
       "      <td>466826.000000</td>\n",
       "      <td>1.000000</td>\n",
       "      <td>1.000000</td>\n",
       "      <td>1.000000</td>\n",
       "      <td>1.000000</td>\n",
       "    </tr>\n",
       "  </tbody>\n",
       "</table>\n",
       "</div>"
      ],
      "text/plain": [
       "              itemid            0            1            2            3\n",
       "count    5870.000000  5870.000000  5870.000000  5870.000000  5870.000000\n",
       "mean   233974.765588     0.324786     0.501108     0.491730     0.582350\n",
       "std    135962.012024     0.183306     0.215261     0.238272     0.162371\n",
       "min        24.000000     0.000000     0.000000     0.000000     0.000000\n",
       "25%    114986.500000     0.177994     0.349258     0.330146     0.623173\n",
       "50%    234153.000000     0.328459     0.499176     0.492930     0.623975\n",
       "75%    353066.500000     0.470588     0.645920     0.658690     0.624908\n",
       "max    466826.000000     1.000000     1.000000     1.000000     1.000000"
      ]
     },
     "execution_count": 45,
     "metadata": {},
     "output_type": "execute_result"
    }
   ],
   "source": [
    "new_df.describe()"
   ]
  },
  {
   "cell_type": "markdown",
   "id": "854865a8",
   "metadata": {},
   "source": [
    "## 2. Model Building :"
   ]
  },
  {
   "cell_type": "code",
   "execution_count": 46,
   "id": "95b90bfc",
   "metadata": {},
   "outputs": [
    {
     "data": {
      "text/plain": [
       "itemid\n",
       "24           0\n",
       "32           1\n",
       "341          2\n",
       "346          3\n",
       "374          4\n",
       "          ... \n",
       "466559    5865\n",
       "466597    5866\n",
       "466720    5867\n",
       "466809    5868\n",
       "466826    5869\n",
       "Length: 5870, dtype: int32"
      ]
     },
     "execution_count": 46,
     "metadata": {},
     "output_type": "execute_result"
    }
   ],
   "source": [
    "# Before creating a function, I create a pandas series called indices.\n",
    "# Indices will match the index with the itemid\n",
    "indices = pd.Series(np.arange(0, len(new_df)), index=new_df['itemid'])\n",
    "indices"
   ]
  },
  {
   "cell_type": "code",
   "execution_count": 47,
   "id": "4e005a4b",
   "metadata": {},
   "outputs": [],
   "source": [
    "# Create the matrix\n",
    "matrix = new_df.drop(columns=['itemid']).to_numpy()"
   ]
  },
  {
   "cell_type": "code",
   "execution_count": 48,
   "id": "7c2a6f05",
   "metadata": {},
   "outputs": [],
   "source": [
    "# Compute the cosine similarity between items\n",
    "cosine_sim = cosine_similarity(matrix, matrix)"
   ]
  },
  {
   "cell_type": "code",
   "execution_count": 49,
   "id": "c754b596",
   "metadata": {},
   "outputs": [],
   "source": [
    "# The function get_recommendations will receive the itemid, cosine similarity matrix, and a number of \n",
    "# the recommended items as the inputs. Then, it will return a list of recommended items.\n",
    "\n",
    "def get_recommendations(itemid, cosine_sim=cosine_sim, num_recommend = 5):\n",
    "    idx = indices[itemid]\n",
    "    # Get the pairwsie similarity scores of all items with that item\n",
    "    sim_scores = list(enumerate(cosine_sim[idx]))\n",
    "    # Sort the items based on the similarity scores\n",
    "    sim_scores = sorted(sim_scores, key=lambda x: x[1], reverse=True)\n",
    "    # Get the scores of the 5 most similar items\n",
    "    top_similar = sim_scores[1:num_recommend+1]\n",
    "    # Get the item indices\n",
    "    item_indices = [i[0] for i in top_similar]\n",
    "    # Return the top 10 most similar movies\n",
    "    return new_df['itemid'].iloc[item_indices].to_numpy()"
   ]
  },
  {
   "cell_type": "code",
   "execution_count": 50,
   "id": "3d6b93aa",
   "metadata": {},
   "outputs": [
    {
     "name": "stdout",
     "output_type": "stream",
     "text": [
      "Top 5 items similar to item 24 :\n"
     ]
    },
    {
     "data": {
      "text/plain": [
       "array([328539,  41314,  62021, 157038, 306801], dtype=int64)"
      ]
     },
     "execution_count": 50,
     "metadata": {},
     "output_type": "execute_result"
    }
   ],
   "source": [
    "# Demonstration\n",
    "itemid = indices.index[0]\n",
    "print('Top 5 items similar to item',itemid,':')\n",
    "get_recommendations(itemid)"
   ]
  },
  {
   "cell_type": "markdown",
   "id": "8f94105e",
   "metadata": {},
   "source": [
    "## 3. User Profile :"
   ]
  },
  {
   "cell_type": "code",
   "execution_count": 51,
   "id": "ab93475c",
   "metadata": {},
   "outputs": [
    {
     "data": {
      "text/html": [
       "<div>\n",
       "<style scoped>\n",
       "    .dataframe tbody tr th:only-of-type {\n",
       "        vertical-align: middle;\n",
       "    }\n",
       "\n",
       "    .dataframe tbody tr th {\n",
       "        vertical-align: top;\n",
       "    }\n",
       "\n",
       "    .dataframe thead th {\n",
       "        text-align: right;\n",
       "    }\n",
       "</style>\n",
       "<table border=\"1\" class=\"dataframe\">\n",
       "  <thead>\n",
       "    <tr style=\"text-align: right;\">\n",
       "      <th></th>\n",
       "      <th>timestamp</th>\n",
       "      <th>visitorid</th>\n",
       "      <th>event</th>\n",
       "      <th>itemid</th>\n",
       "      <th>transactionid</th>\n",
       "    </tr>\n",
       "  </thead>\n",
       "  <tbody>\n",
       "    <tr>\n",
       "      <th>0</th>\n",
       "      <td>1433221332117</td>\n",
       "      <td>257597</td>\n",
       "      <td>view</td>\n",
       "      <td>355908</td>\n",
       "      <td>NaN</td>\n",
       "    </tr>\n",
       "    <tr>\n",
       "      <th>1</th>\n",
       "      <td>1433224214164</td>\n",
       "      <td>992329</td>\n",
       "      <td>view</td>\n",
       "      <td>248676</td>\n",
       "      <td>NaN</td>\n",
       "    </tr>\n",
       "    <tr>\n",
       "      <th>2</th>\n",
       "      <td>1433221999827</td>\n",
       "      <td>111016</td>\n",
       "      <td>view</td>\n",
       "      <td>318965</td>\n",
       "      <td>NaN</td>\n",
       "    </tr>\n",
       "    <tr>\n",
       "      <th>3</th>\n",
       "      <td>1433221955914</td>\n",
       "      <td>483717</td>\n",
       "      <td>view</td>\n",
       "      <td>253185</td>\n",
       "      <td>NaN</td>\n",
       "    </tr>\n",
       "    <tr>\n",
       "      <th>4</th>\n",
       "      <td>1433221337106</td>\n",
       "      <td>951259</td>\n",
       "      <td>view</td>\n",
       "      <td>367447</td>\n",
       "      <td>NaN</td>\n",
       "    </tr>\n",
       "  </tbody>\n",
       "</table>\n",
       "</div>"
      ],
      "text/plain": [
       "       timestamp  visitorid event  itemid  transactionid\n",
       "0  1433221332117     257597  view  355908            NaN\n",
       "1  1433224214164     992329  view  248676            NaN\n",
       "2  1433221999827     111016  view  318965            NaN\n",
       "3  1433221955914     483717  view  253185            NaN\n",
       "4  1433221337106     951259  view  367447            NaN"
      ]
     },
     "execution_count": 51,
     "metadata": {},
     "output_type": "execute_result"
    }
   ],
   "source": [
    "events = pd.read_csv('../Documents/Data/events.csv')\n",
    "events.head()"
   ]
  },
  {
   "cell_type": "code",
   "execution_count": 52,
   "id": "36082883",
   "metadata": {},
   "outputs": [
    {
     "data": {
      "text/plain": [
       "1407580"
      ]
     },
     "execution_count": 52,
     "metadata": {},
     "output_type": "execute_result"
    }
   ],
   "source": [
    "len(events['visitorid'].unique())"
   ]
  },
  {
   "cell_type": "code",
   "execution_count": 53,
   "id": "0068f47f",
   "metadata": {},
   "outputs": [],
   "source": [
    "# We will first remove 'timestamp' and 'transactionid' columns, since we won't use them to build the user profile.\n",
    "events.drop(columns=['timestamp', 'transactionid'], inplace=True)"
   ]
  },
  {
   "cell_type": "code",
   "execution_count": 54,
   "id": "a8280038",
   "metadata": {},
   "outputs": [
    {
     "data": {
      "text/html": [
       "<div>\n",
       "<style scoped>\n",
       "    .dataframe tbody tr th:only-of-type {\n",
       "        vertical-align: middle;\n",
       "    }\n",
       "\n",
       "    .dataframe tbody tr th {\n",
       "        vertical-align: top;\n",
       "    }\n",
       "\n",
       "    .dataframe thead th {\n",
       "        text-align: right;\n",
       "    }\n",
       "</style>\n",
       "<table border=\"1\" class=\"dataframe\">\n",
       "  <thead>\n",
       "    <tr style=\"text-align: right;\">\n",
       "      <th></th>\n",
       "      <th>visitorid</th>\n",
       "      <th>event</th>\n",
       "      <th>itemid</th>\n",
       "    </tr>\n",
       "  </thead>\n",
       "  <tbody>\n",
       "    <tr>\n",
       "      <th>0</th>\n",
       "      <td>257597</td>\n",
       "      <td>view</td>\n",
       "      <td>355908</td>\n",
       "    </tr>\n",
       "    <tr>\n",
       "      <th>1</th>\n",
       "      <td>992329</td>\n",
       "      <td>view</td>\n",
       "      <td>248676</td>\n",
       "    </tr>\n",
       "    <tr>\n",
       "      <th>2</th>\n",
       "      <td>111016</td>\n",
       "      <td>view</td>\n",
       "      <td>318965</td>\n",
       "    </tr>\n",
       "    <tr>\n",
       "      <th>3</th>\n",
       "      <td>483717</td>\n",
       "      <td>view</td>\n",
       "      <td>253185</td>\n",
       "    </tr>\n",
       "    <tr>\n",
       "      <th>4</th>\n",
       "      <td>951259</td>\n",
       "      <td>view</td>\n",
       "      <td>367447</td>\n",
       "    </tr>\n",
       "  </tbody>\n",
       "</table>\n",
       "</div>"
      ],
      "text/plain": [
       "   visitorid event  itemid\n",
       "0     257597  view  355908\n",
       "1     992329  view  248676\n",
       "2     111016  view  318965\n",
       "3     483717  view  253185\n",
       "4     951259  view  367447"
      ]
     },
     "execution_count": 54,
     "metadata": {},
     "output_type": "execute_result"
    }
   ],
   "source": [
    "events.head()"
   ]
  },
  {
   "cell_type": "code",
   "execution_count": 55,
   "id": "49f3f143",
   "metadata": {},
   "outputs": [
    {
     "name": "stdout",
     "output_type": "stream",
     "text": [
      "<class 'pandas.core.frame.DataFrame'>\n",
      "RangeIndex: 2756101 entries, 0 to 2756100\n",
      "Data columns (total 3 columns):\n",
      " #   Column     Dtype \n",
      "---  ------     ----- \n",
      " 0   visitorid  int64 \n",
      " 1   event      object\n",
      " 2   itemid     int64 \n",
      "dtypes: int64(2), object(1)\n",
      "memory usage: 63.1+ MB\n"
     ]
    }
   ],
   "source": [
    "events.info()"
   ]
  },
  {
   "cell_type": "code",
   "execution_count": 56,
   "id": "b5d96c34",
   "metadata": {},
   "outputs": [
    {
     "data": {
      "text/plain": [
       "array(['view', 'addtocart', 'transaction'], dtype=object)"
      ]
     },
     "execution_count": 56,
     "metadata": {},
     "output_type": "execute_result"
    }
   ],
   "source": [
    "# Event types\n",
    "events['event'].unique()"
   ]
  },
  {
   "cell_type": "markdown",
   "id": "a5c513fc",
   "metadata": {},
   "source": [
    "### Inspect user behavior :"
   ]
  },
  {
   "cell_type": "code",
   "execution_count": 57,
   "id": "0ed570f6",
   "metadata": {},
   "outputs": [
    {
     "data": {
      "text/plain": [
       "visitorid         599528\n",
       "event        transaction\n",
       "itemid            356475\n",
       "Name: 130, dtype: object"
      ]
     },
     "execution_count": 57,
     "metadata": {},
     "output_type": "execute_result"
    }
   ],
   "source": [
    "events[events['event']=='transaction'].iloc[0]"
   ]
  },
  {
   "cell_type": "code",
   "execution_count": 58,
   "id": "048a3a0f",
   "metadata": {},
   "outputs": [
    {
     "data": {
      "text/html": [
       "<div>\n",
       "<style scoped>\n",
       "    .dataframe tbody tr th:only-of-type {\n",
       "        vertical-align: middle;\n",
       "    }\n",
       "\n",
       "    .dataframe tbody tr th {\n",
       "        vertical-align: top;\n",
       "    }\n",
       "\n",
       "    .dataframe thead th {\n",
       "        text-align: right;\n",
       "    }\n",
       "</style>\n",
       "<table border=\"1\" class=\"dataframe\">\n",
       "  <thead>\n",
       "    <tr style=\"text-align: right;\">\n",
       "      <th></th>\n",
       "      <th>visitorid</th>\n",
       "      <th>event</th>\n",
       "      <th>itemid</th>\n",
       "    </tr>\n",
       "  </thead>\n",
       "  <tbody>\n",
       "    <tr>\n",
       "      <th>112</th>\n",
       "      <td>599528</td>\n",
       "      <td>addtocart</td>\n",
       "      <td>356475</td>\n",
       "    </tr>\n",
       "    <tr>\n",
       "      <th>130</th>\n",
       "      <td>599528</td>\n",
       "      <td>transaction</td>\n",
       "      <td>356475</td>\n",
       "    </tr>\n",
       "    <tr>\n",
       "      <th>16729</th>\n",
       "      <td>599528</td>\n",
       "      <td>view</td>\n",
       "      <td>356475</td>\n",
       "    </tr>\n",
       "    <tr>\n",
       "      <th>29505</th>\n",
       "      <td>599528</td>\n",
       "      <td>view</td>\n",
       "      <td>356475</td>\n",
       "    </tr>\n",
       "    <tr>\n",
       "      <th>114163</th>\n",
       "      <td>599528</td>\n",
       "      <td>view</td>\n",
       "      <td>356475</td>\n",
       "    </tr>\n",
       "    <tr>\n",
       "      <th>145498</th>\n",
       "      <td>599528</td>\n",
       "      <td>view</td>\n",
       "      <td>356475</td>\n",
       "    </tr>\n",
       "    <tr>\n",
       "      <th>171995</th>\n",
       "      <td>599528</td>\n",
       "      <td>view</td>\n",
       "      <td>356475</td>\n",
       "    </tr>\n",
       "    <tr>\n",
       "      <th>187497</th>\n",
       "      <td>599528</td>\n",
       "      <td>view</td>\n",
       "      <td>356475</td>\n",
       "    </tr>\n",
       "    <tr>\n",
       "      <th>192471</th>\n",
       "      <td>599528</td>\n",
       "      <td>view</td>\n",
       "      <td>356475</td>\n",
       "    </tr>\n",
       "    <tr>\n",
       "      <th>197272</th>\n",
       "      <td>599528</td>\n",
       "      <td>view</td>\n",
       "      <td>356475</td>\n",
       "    </tr>\n",
       "    <tr>\n",
       "      <th>198282</th>\n",
       "      <td>599528</td>\n",
       "      <td>view</td>\n",
       "      <td>356475</td>\n",
       "    </tr>\n",
       "    <tr>\n",
       "      <th>198625</th>\n",
       "      <td>599528</td>\n",
       "      <td>view</td>\n",
       "      <td>356475</td>\n",
       "    </tr>\n",
       "    <tr>\n",
       "      <th>230066</th>\n",
       "      <td>599528</td>\n",
       "      <td>view</td>\n",
       "      <td>356475</td>\n",
       "    </tr>\n",
       "    <tr>\n",
       "      <th>234266</th>\n",
       "      <td>599528</td>\n",
       "      <td>view</td>\n",
       "      <td>356475</td>\n",
       "    </tr>\n",
       "    <tr>\n",
       "      <th>244007</th>\n",
       "      <td>599528</td>\n",
       "      <td>view</td>\n",
       "      <td>356475</td>\n",
       "    </tr>\n",
       "    <tr>\n",
       "      <th>259779</th>\n",
       "      <td>599528</td>\n",
       "      <td>view</td>\n",
       "      <td>356475</td>\n",
       "    </tr>\n",
       "  </tbody>\n",
       "</table>\n",
       "</div>"
      ],
      "text/plain": [
       "        visitorid        event  itemid\n",
       "112        599528    addtocart  356475\n",
       "130        599528  transaction  356475\n",
       "16729      599528         view  356475\n",
       "29505      599528         view  356475\n",
       "114163     599528         view  356475\n",
       "145498     599528         view  356475\n",
       "171995     599528         view  356475\n",
       "187497     599528         view  356475\n",
       "192471     599528         view  356475\n",
       "197272     599528         view  356475\n",
       "198282     599528         view  356475\n",
       "198625     599528         view  356475\n",
       "230066     599528         view  356475\n",
       "234266     599528         view  356475\n",
       "244007     599528         view  356475\n",
       "259779     599528         view  356475"
      ]
     },
     "execution_count": 58,
     "metadata": {},
     "output_type": "execute_result"
    }
   ],
   "source": [
    "# So lets investigate how user 599528 has interacted with item 356475 before purchasing it\n",
    "events[(events['visitorid']==599528) & (events['itemid']==356475)]"
   ]
  },
  {
   "cell_type": "markdown",
   "id": "8e1db06f",
   "metadata": {},
   "source": [
    "**Conclusion :**\n",
    "\n",
    "The user has interacted with this item multiple times before buying it\n",
    "\n",
    "**Approach :**\n",
    "\n",
    "We will use a rating scale from 1 to 5, view : 1, addToCart: 5, transaction: 10\n",
    "We will keep just the highest rating for each pair (user, item) since we won't need the low values because each transaction follow these steps : view -> addToCart -> transaction"
   ]
  },
  {
   "cell_type": "code",
   "execution_count": 59,
   "id": "acb301ed",
   "metadata": {},
   "outputs": [],
   "source": [
    "events['event'] = events['event'].map({'view': 1, 'addtocart': 5, 'transaction': 10})"
   ]
  },
  {
   "cell_type": "markdown",
   "id": "e17c7940",
   "metadata": {},
   "source": [
    "As we are using the user interaction as a rating we will keep just the high value, for example, if a user has viewed an item before buying it, we will keep just the buy event which matches a 5 rating.\n",
    "This will help us reducing the data size, and also working with accurate values."
   ]
  },
  {
   "cell_type": "code",
   "execution_count": 60,
   "id": "63685b41",
   "metadata": {},
   "outputs": [],
   "source": [
    "# Sort the DataFrame by 'event' in descending order\n",
    "events.sort_values(by='event', ascending=False, inplace=True)\n",
    "\n",
    "# Group by 'itemid' and 'visitorid' and get the most recent value for each group\n",
    "events = events.groupby(['visitorid', 'itemid'])['event'].first().reset_index()"
   ]
  },
  {
   "cell_type": "code",
   "execution_count": 61,
   "id": "a003966d",
   "metadata": {},
   "outputs": [],
   "source": [
    "events = events.rename(columns={'event': 'rating'})"
   ]
  },
  {
   "cell_type": "code",
   "execution_count": 62,
   "id": "511264a5",
   "metadata": {},
   "outputs": [
    {
     "data": {
      "text/html": [
       "<div>\n",
       "<style scoped>\n",
       "    .dataframe tbody tr th:only-of-type {\n",
       "        vertical-align: middle;\n",
       "    }\n",
       "\n",
       "    .dataframe tbody tr th {\n",
       "        vertical-align: top;\n",
       "    }\n",
       "\n",
       "    .dataframe thead th {\n",
       "        text-align: right;\n",
       "    }\n",
       "</style>\n",
       "<table border=\"1\" class=\"dataframe\">\n",
       "  <thead>\n",
       "    <tr style=\"text-align: right;\">\n",
       "      <th></th>\n",
       "      <th>visitorid</th>\n",
       "      <th>itemid</th>\n",
       "      <th>rating</th>\n",
       "    </tr>\n",
       "  </thead>\n",
       "  <tbody>\n",
       "    <tr>\n",
       "      <th>0</th>\n",
       "      <td>0</td>\n",
       "      <td>67045</td>\n",
       "      <td>1</td>\n",
       "    </tr>\n",
       "    <tr>\n",
       "      <th>1</th>\n",
       "      <td>0</td>\n",
       "      <td>285930</td>\n",
       "      <td>1</td>\n",
       "    </tr>\n",
       "    <tr>\n",
       "      <th>2</th>\n",
       "      <td>0</td>\n",
       "      <td>357564</td>\n",
       "      <td>1</td>\n",
       "    </tr>\n",
       "    <tr>\n",
       "      <th>3</th>\n",
       "      <td>1</td>\n",
       "      <td>72028</td>\n",
       "      <td>1</td>\n",
       "    </tr>\n",
       "    <tr>\n",
       "      <th>4</th>\n",
       "      <td>2</td>\n",
       "      <td>216305</td>\n",
       "      <td>1</td>\n",
       "    </tr>\n",
       "  </tbody>\n",
       "</table>\n",
       "</div>"
      ],
      "text/plain": [
       "   visitorid  itemid  rating\n",
       "0          0   67045       1\n",
       "1          0  285930       1\n",
       "2          0  357564       1\n",
       "3          1   72028       1\n",
       "4          2  216305       1"
      ]
     },
     "execution_count": 62,
     "metadata": {},
     "output_type": "execute_result"
    }
   ],
   "source": [
    "events.head()"
   ]
  },
  {
   "cell_type": "code",
   "execution_count": 63,
   "id": "6dca2294",
   "metadata": {},
   "outputs": [
    {
     "data": {
      "text/plain": [
       "visitorid\n",
       "1150086    3814\n",
       "530559     2209\n",
       "892013     1738\n",
       "895999     1641\n",
       "152963     1622\n",
       "           ... \n",
       "522671        1\n",
       "522670        1\n",
       "522669        1\n",
       "522668        1\n",
       "1407579       1\n",
       "Name: itemid, Length: 1407580, dtype: int64"
      ]
     },
     "execution_count": 63,
     "metadata": {},
     "output_type": "execute_result"
    }
   ],
   "source": [
    "events.groupby('visitorid')['itemid'].count().sort_values(ascending=False)"
   ]
  },
  {
   "cell_type": "code",
   "execution_count": 64,
   "id": "99c5f17f",
   "metadata": {},
   "outputs": [],
   "source": [
    "# We notice that there is some users who 's interacted with many products, otherwise, someones only interacted with few ones"
   ]
  },
  {
   "cell_type": "code",
   "execution_count": 65,
   "id": "fe45caee",
   "metadata": {},
   "outputs": [],
   "source": [
    "# We will keep just interactions with items that we have their properties, the 5000 instances sample we picked"
   ]
  },
  {
   "cell_type": "code",
   "execution_count": 66,
   "id": "9bf83d58",
   "metadata": {},
   "outputs": [
    {
     "data": {
      "text/html": [
       "<div>\n",
       "<style scoped>\n",
       "    .dataframe tbody tr th:only-of-type {\n",
       "        vertical-align: middle;\n",
       "    }\n",
       "\n",
       "    .dataframe tbody tr th {\n",
       "        vertical-align: top;\n",
       "    }\n",
       "\n",
       "    .dataframe thead th {\n",
       "        text-align: right;\n",
       "    }\n",
       "</style>\n",
       "<table border=\"1\" class=\"dataframe\">\n",
       "  <thead>\n",
       "    <tr style=\"text-align: right;\">\n",
       "      <th></th>\n",
       "      <th>visitorid</th>\n",
       "      <th>itemid</th>\n",
       "      <th>rating</th>\n",
       "    </tr>\n",
       "  </thead>\n",
       "  <tbody>\n",
       "    <tr>\n",
       "      <th>0</th>\n",
       "      <td>10</td>\n",
       "      <td>248766</td>\n",
       "      <td>1</td>\n",
       "    </tr>\n",
       "    <tr>\n",
       "      <th>1</th>\n",
       "      <td>51</td>\n",
       "      <td>358388</td>\n",
       "      <td>1</td>\n",
       "    </tr>\n",
       "    <tr>\n",
       "      <th>2</th>\n",
       "      <td>53</td>\n",
       "      <td>217218</td>\n",
       "      <td>1</td>\n",
       "    </tr>\n",
       "    <tr>\n",
       "      <th>3</th>\n",
       "      <td>64</td>\n",
       "      <td>160984</td>\n",
       "      <td>1</td>\n",
       "    </tr>\n",
       "    <tr>\n",
       "      <th>4</th>\n",
       "      <td>151</td>\n",
       "      <td>48731</td>\n",
       "      <td>1</td>\n",
       "    </tr>\n",
       "  </tbody>\n",
       "</table>\n",
       "</div>"
      ],
      "text/plain": [
       "   visitorid  itemid  rating\n",
       "0         10  248766       1\n",
       "1         51  358388       1\n",
       "2         53  217218       1\n",
       "3         64  160984       1\n",
       "4        151   48731       1"
      ]
     },
     "execution_count": 66,
     "metadata": {},
     "output_type": "execute_result"
    }
   ],
   "source": [
    "# Use .isin() to create a boolean mask\n",
    "mask = events['itemid'].isin(new_df['itemid'].unique())\n",
    "\n",
    "# Apply the mask to filter the DataFrame\n",
    "events_2 = events[mask]\n",
    "\n",
    "events_2.reset_index(inplace=True, drop=True)\n",
    "\n",
    "events_2.head()"
   ]
  },
  {
   "cell_type": "code",
   "execution_count": 67,
   "id": "37a82a15",
   "metadata": {},
   "outputs": [
    {
     "data": {
      "text/plain": [
       "rating\n",
       "1     28573\n",
       "5       581\n",
       "10      262\n",
       "Name: visitorid, dtype: int64"
      ]
     },
     "execution_count": 67,
     "metadata": {},
     "output_type": "execute_result"
    }
   ],
   "source": [
    "events_2.groupby('rating').count()['visitorid']"
   ]
  },
  {
   "cell_type": "markdown",
   "id": "00037752",
   "metadata": {},
   "source": [
    "**N.B :**\n",
    "We notice that our Dataset is not balanced betwwen different rating values, which can add some bias to our model."
   ]
  },
  {
   "cell_type": "markdown",
   "id": "3d074096",
   "metadata": {},
   "source": [
    "We will create a function that takes as input : visitorid, it generate his rating vector, then using the property-item matrix, it generate his User Profile, this function will serve as to predict the user rating for an item he didn't interact with."
   ]
  },
  {
   "cell_type": "code",
   "execution_count": 75,
   "id": "d930e3e1",
   "metadata": {},
   "outputs": [],
   "source": [
    "def predict_rating(visitorid, itemid):\n",
    "    user_ratings = [(row['itemid'], row['rating']) for index, row in events_2[events_2['visitorid']==visitorid].iterrows()]\n",
    "    # print('Number of items rated by visitor',visitorid,':',len(user_ratings))\n",
    "\n",
    "    rated_items = [i[1] for i in user_ratings]\n",
    "    item_ids = [i[0] for i in user_ratings]\n",
    "    \n",
    "    mask = new_df['itemid'].isin(item_ids)\n",
    "    items_props = new_df[mask].drop(columns=['itemid']).to_numpy()\n",
    "    \n",
    "    user_profile = np.dot(rated_items, items_props)\n",
    "    user_profile = user_profile/user_profile.sum()\n",
    "    # print('User Profile array :')\n",
    "    # print(user_profile)\n",
    "    \n",
    "    new_item_props = new_df[new_df['itemid']==itemid].drop(columns=['itemid']).to_numpy()[0]\n",
    "    # print('item',itemid,'properties :')\n",
    "    # print(new_item_props)\n",
    "    predicted_rating = np.dot(user_profile, new_item_props)\n",
    "    # Scale the input value to the 1-10 range\n",
    "    scaled_rating = (10 - 1) * predicted_rating + 1\n",
    "    # scaled_rating = predicted_rating * 10\n",
    "    # print('Predicted rating for item',itemid,'by visitor',visitorid,':')\n",
    "    # print(round(scaled_rating,3))\n",
    "    return round(scaled_rating,3)"
   ]
  },
  {
   "cell_type": "code",
   "execution_count": 76,
   "id": "c41f3a7d",
   "metadata": {},
   "outputs": [
    {
     "name": "stdout",
     "output_type": "stream",
     "text": [
      "Items preserved :\n"
     ]
    },
    {
     "data": {
      "text/plain": [
       "itemid\n",
       "24           0\n",
       "32           1\n",
       "341          2\n",
       "346          3\n",
       "374          4\n",
       "          ... \n",
       "466559    5865\n",
       "466597    5866\n",
       "466720    5867\n",
       "466809    5868\n",
       "466826    5869\n",
       "Length: 5870, dtype: int32"
      ]
     },
     "execution_count": 76,
     "metadata": {},
     "output_type": "execute_result"
    }
   ],
   "source": [
    "print('Items preserved :')\n",
    "indices"
   ]
  },
  {
   "cell_type": "code",
   "execution_count": 77,
   "id": "33998a6f",
   "metadata": {},
   "outputs": [
    {
     "name": "stdout",
     "output_type": "stream",
     "text": [
      "visitors preserved :\n"
     ]
    },
    {
     "data": {
      "text/plain": [
       "0             10\n",
       "1             51\n",
       "2             53\n",
       "3             64\n",
       "4            151\n",
       "          ...   \n",
       "29411    1407335\n",
       "29412    1407340\n",
       "29413    1407374\n",
       "29414    1407439\n",
       "29415    1407451\n",
       "Name: visitorid, Length: 29416, dtype: int64"
      ]
     },
     "execution_count": 77,
     "metadata": {},
     "output_type": "execute_result"
    }
   ],
   "source": [
    "print('visitors preserved :')\n",
    "events_2['visitorid']"
   ]
  },
  {
   "cell_type": "code",
   "execution_count": 78,
   "id": "b22f3db9",
   "metadata": {},
   "outputs": [
    {
     "name": "stdout",
     "output_type": "stream",
     "text": [
      "Predicted rating for item 24 by visitor 10 : 5.94\n"
     ]
    }
   ],
   "source": [
    "# Demonstration\n",
    "visitorid = events_2['visitorid'][0]\n",
    "itemid = indices.index[0]\n",
    "print('Predicted rating for item',itemid,'by visitor',visitorid,':',predict_rating(visitorid, itemid))"
   ]
  },
  {
   "cell_type": "code",
   "execution_count": 79,
   "id": "7170ede5",
   "metadata": {},
   "outputs": [
    {
     "data": {
      "text/html": [
       "<div>\n",
       "<style scoped>\n",
       "    .dataframe tbody tr th:only-of-type {\n",
       "        vertical-align: middle;\n",
       "    }\n",
       "\n",
       "    .dataframe tbody tr th {\n",
       "        vertical-align: top;\n",
       "    }\n",
       "\n",
       "    .dataframe thead th {\n",
       "        text-align: right;\n",
       "    }\n",
       "</style>\n",
       "<table border=\"1\" class=\"dataframe\">\n",
       "  <thead>\n",
       "    <tr style=\"text-align: right;\">\n",
       "      <th></th>\n",
       "      <th>visitorid</th>\n",
       "      <th>itemid</th>\n",
       "      <th>rating</th>\n",
       "      <th>predicted_rating</th>\n",
       "    </tr>\n",
       "  </thead>\n",
       "  <tbody>\n",
       "    <tr>\n",
       "      <th>0</th>\n",
       "      <td>10</td>\n",
       "      <td>248766</td>\n",
       "      <td>1</td>\n",
       "      <td>5.095</td>\n",
       "    </tr>\n",
       "    <tr>\n",
       "      <th>1</th>\n",
       "      <td>51</td>\n",
       "      <td>358388</td>\n",
       "      <td>1</td>\n",
       "      <td>5.705</td>\n",
       "    </tr>\n",
       "    <tr>\n",
       "      <th>2</th>\n",
       "      <td>53</td>\n",
       "      <td>217218</td>\n",
       "      <td>1</td>\n",
       "      <td>5.661</td>\n",
       "    </tr>\n",
       "    <tr>\n",
       "      <th>3</th>\n",
       "      <td>64</td>\n",
       "      <td>160984</td>\n",
       "      <td>1</td>\n",
       "      <td>5.822</td>\n",
       "    </tr>\n",
       "    <tr>\n",
       "      <th>4</th>\n",
       "      <td>151</td>\n",
       "      <td>48731</td>\n",
       "      <td>1</td>\n",
       "      <td>5.591</td>\n",
       "    </tr>\n",
       "  </tbody>\n",
       "</table>\n",
       "</div>"
      ],
      "text/plain": [
       "   visitorid  itemid  rating  predicted_rating\n",
       "0         10  248766       1             5.095\n",
       "1         51  358388       1             5.705\n",
       "2         53  217218       1             5.661\n",
       "3         64  160984       1             5.822\n",
       "4        151   48731       1             5.591"
      ]
     },
     "execution_count": 79,
     "metadata": {},
     "output_type": "execute_result"
    }
   ],
   "source": [
    "events_2['predicted_rating'] = events_2.apply(lambda row: predict_rating(row['visitorid'], row['itemid']), axis=1)\n",
    "events_2.head()"
   ]
  },
  {
   "cell_type": "markdown",
   "id": "c76f5a22",
   "metadata": {},
   "source": [
    "### Model Evaluation :"
   ]
  },
  {
   "cell_type": "markdown",
   "id": "e94747cf",
   "metadata": {},
   "source": [
    "We will evaluate our model using the two famous regression metrics, RMSE(root mean squared error) and R2, Note that this evaluation will be applied only on training set, and that's our model wasn't following a trainig method, it was just based on some rapid calculations."
   ]
  },
  {
   "cell_type": "code",
   "execution_count": 80,
   "id": "7008bdd7",
   "metadata": {},
   "outputs": [
    {
     "name": "stdout",
     "output_type": "stream",
     "text": [
      "RMSE score : 5.143741470605461\n"
     ]
    }
   ],
   "source": [
    "# RMSE\n",
    "from sklearn.metrics import mean_squared_error\n",
    "\n",
    "y_true = events_2['rating']\n",
    "y_pred = events_2['predicted_rating']\n",
    "\n",
    "rmse = mean_squared_error(y_true, y_pred, squared=False)\n",
    "print('RMSE score :',rmse)"
   ]
  },
  {
   "cell_type": "code",
   "execution_count": 81,
   "id": "76498bf0",
   "metadata": {},
   "outputs": [
    {
     "name": "stdout",
     "output_type": "stream",
     "text": [
      "R2 score : -25.1410098481893\n"
     ]
    }
   ],
   "source": [
    "# R_squared score\n",
    "from sklearn.metrics import r2_score\n",
    "\n",
    "r2 = r2_score(y_true, y_pred)\n",
    "print('R2 score :',r2)"
   ]
  },
  {
   "cell_type": "markdown",
   "id": "6db5fa5d",
   "metadata": {},
   "source": [
    "### Conclusion :\n",
    "Our model is not that well due to many reasons, first our dataset size is not big enough to create such a model, we've reduced its size for ressources reasons, second, our dataset is not balanced, we do not have enough data about many users, the majority of users has just one rating, which adds a lot of bias to our model."
   ]
  },
  {
   "cell_type": "code",
   "execution_count": null,
   "id": "9105b734",
   "metadata": {},
   "outputs": [],
   "source": []
  }
 ],
 "metadata": {
  "kernelspec": {
   "display_name": "Python 3 (ipykernel)",
   "language": "python",
   "name": "python3"
  },
  "language_info": {
   "codemirror_mode": {
    "name": "ipython",
    "version": 3
   },
   "file_extension": ".py",
   "mimetype": "text/x-python",
   "name": "python",
   "nbconvert_exporter": "python",
   "pygments_lexer": "ipython3",
   "version": "3.10.9"
  }
 },
 "nbformat": 4,
 "nbformat_minor": 5
}
